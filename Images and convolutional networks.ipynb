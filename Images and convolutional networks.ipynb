{
 "cells": [
  {
   "cell_type": "markdown",
   "source": "# Multi-Layer Perceptron in `keras`\n\nIn this series of lab sessions, you will use a Python library called `keras` (that is in fact embedded inside a larger library called `tensorflow`, but we will not discuss `tensorflow` in this course).\nYou should visit [`keras` webpage](https://www.tensorflow.org/guide/keras/overview) to get access to more information about this library, including a comprehensive documentation.\n\n## The `Sequential` model in `keras`\n\nThis library offers two ways to define neural network models. \nWe will start with the `Sequential` class of `keras` models.\nBelow is an example of how to define a `Sequential` model:",
   "metadata": {
    "id": "NjCKi8REqlN6",
    "cell_id": "00000-54743c34-a6d0-49b8-94d0-757f554d31f1",
    "deepnote_cell_type": "markdown"
   }
  },
  {
   "cell_type": "code",
   "metadata": {
    "id": "PRKkYealqiiG",
    "output_cleared": false,
    "source_hash": "b851176a",
    "execution_millis": 2805,
    "deepnote_to_be_reexecuted": false,
    "execution_start": 1637066987974,
    "cell_id": "00001-f81834b8-3ce5-4374-ae89-0efdaf866113",
    "deepnote_cell_type": "code"
   },
   "source": "from tensorflow.keras.models import Sequential\nfrom tensorflow.keras.layers import Dense, InputLayer",
   "outputs": [],
   "execution_count": null
  },
  {
   "cell_type": "markdown",
   "source": "**1. Define layers, and add them one by one to the model**\n",
   "metadata": {
    "id": "1UdkphfnspbR",
    "cell_id": "00002-88e21c6b-d0f6-486b-86b1-674e09212a9a",
    "deepnote_cell_type": "markdown"
   }
  },
  {
   "cell_type": "code",
   "metadata": {
    "id": "JD54PuqWsp4Y",
    "deepnote_to_be_reexecuted": false,
    "source_hash": "e4cce2c1",
    "execution_start": 1637066990795,
    "execution_millis": 114,
    "cell_id": "00003-c608052d-4ae4-4e48-94eb-ba5a2361fd6c",
    "deepnote_cell_type": "code"
   },
   "source": "input_layer = InputLayer(input_shape=(24,))\nhidden_layer1 = Dense(units=12, activation=\"relu\")\nhidden_layer2 = Dense(units=12, activation=\"sigmoid\")\n#[...]\noutput_layer = Dense(units=3, activation=\"linear\")\n\nmodel = Sequential([\n    input_layer,\n    hidden_layer1,\n    hidden_layer2,\n    # ...\n    output_layer\n])",
   "outputs": [],
   "execution_count": null
  },
  {
   "cell_type": "markdown",
   "source": "**2. Pick an optimization algorithm (optimizer) and a loss function to be optimized**\n\nUsual loss functions are:\n* `\"mse\"` for regression,\n* `\"categorical_crossentropy\"` for multiclass classification (when the `y` array fed to `fit` is of shape $(n, n_\\text{classes})$)\n* `\"binary_crossentropy\"` for binary classification (when the model is fed with `y` array of shape $(n, 1)$)\n\nOne can also specify additional metrics to be printed during training (correct classification rate here).",
   "metadata": {
    "id": "FTQLjyUoszDq",
    "cell_id": "00004-980708f6-8649-4f92-b561-444b343d02b2",
    "deepnote_cell_type": "markdown"
   }
  },
  {
   "cell_type": "code",
   "metadata": {
    "id": "A_21M9Jqs3eJ",
    "deepnote_to_be_reexecuted": false,
    "source_hash": "f0b7d3e4",
    "execution_start": 1637066990916,
    "execution_millis": 37,
    "cell_id": "00005-134d6879-afd3-4950-b645-1f8c145b3c12",
    "deepnote_cell_type": "code"
   },
   "source": "model.compile(optimizer=\"sgd\", loss=\"categorical_crossentropy\", metrics=[\"accuracy\"])",
   "outputs": [],
   "execution_count": null
  },
  {
   "cell_type": "markdown",
   "source": "**3. Fit the model**\n\nNB: do not try to execute the following line of code: variables `X_train` and `y_train` do not exist yet!",
   "metadata": {
    "id": "ykI4bexvs5x-",
    "cell_id": "00006-2d59f992-46b5-4bc5-ae4a-cd94dca84f39",
    "deepnote_cell_type": "markdown"
   }
  },
  {
   "cell_type": "code",
   "metadata": {
    "id": "rt89yAdWs688",
    "deepnote_to_be_reexecuted": false,
    "source_hash": "fd94a07d",
    "execution_start": 1637066990964,
    "execution_millis": 1,
    "cell_id": "00007-c5d9c2b3-2e66-4c71-997f-9659e604078e",
    "deepnote_cell_type": "code"
   },
   "source": "#model.fit(X_train, y_train, verbose=2, epochs=10, batch_size=200)",
   "outputs": [],
   "execution_count": null
  },
  {
   "cell_type": "markdown",
   "source": "## Data pre-processing\n\nHave a look at the `prepare_mnist` and `prepare_boston` functions defined below.\n\n**Question #1.** What do these functions do? What are the shapes of returned arrays? Does the returned data correpond to classification or regression problems?",
   "metadata": {
    "id": "nHhJosslvDRY",
    "cell_id": "00008-8f517a87-d3cb-4874-98b1-d852442861f7",
    "deepnote_cell_type": "markdown"
   }
  },
  {
   "cell_type": "code",
   "metadata": {
    "id": "7l-s71YRwTRA",
    "output_cleared": false,
    "source_hash": "1615ed07",
    "execution_millis": 2292,
    "deepnote_to_be_reexecuted": false,
    "execution_start": 1637066990974,
    "cell_id": "00009-09b76db2-4df2-411d-9bef-f235994ae40f",
    "deepnote_cell_type": "code"
   },
   "source": "from sklearn.preprocessing import MinMaxScaler\nfrom tensorflow.keras.datasets import mnist, boston_housing\nfrom tensorflow.keras.utils import to_categorical\n\ndef prepare_mnist():\n    (x_train, y_train), (x_test, y_test) = mnist.load_data()\n    x_train = x_train.reshape((x_train.shape[0], -1))\n    x_test = x_test.reshape((x_test.shape[0], -1))\n    scaler = MinMaxScaler()\n    scaler.fit(x_train)\n    x_train = scaler.transform(x_train)\n    x_test = scaler.transform(x_test)\n    y_train = to_categorical(y_train)\n    y_test = to_categorical(y_test)\n    return x_train, x_test, y_train, y_test\n\n\ndef prepare_boston():\n    (x_train, y_train), (x_test, y_test) = boston_housing.load_data()\n    scaler_x = MinMaxScaler()\n    scaler_x.fit(x_train)\n    x_train = scaler_x.transform(x_train)\n    x_test = scaler_x.transform(x_test)\n    scaler_y = MinMaxScaler()\n    scaler_y.fit(y_train.reshape((-1, 1)))\n    y_train = scaler_y.transform(y_train.reshape((-1, 1)))\n    y_test = scaler_y.transform(y_test.reshape((-1, 1)))\n    return x_train, x_test, y_train, y_test\n  \nx_train, x_test, y_train, y_test = prepare_mnist()",
   "outputs": [
    {
     "name": "stdout",
     "text": "Downloading data from https://storage.googleapis.com/tensorflow/tf-keras-datasets/mnist.npz\n11493376/11490434 [==============================] - 0s 0us/step\n",
     "output_type": "stream"
    }
   ],
   "execution_count": null
  },
  {
   "cell_type": "code",
   "metadata": {
    "id": "CGlUHH6KFpj3",
    "output_cleared": false,
    "source_hash": "f1d25a0f",
    "execution_millis": 66,
    "deepnote_to_be_reexecuted": false,
    "execution_start": 1637066993278,
    "cell_id": "00010-214af91b-0aee-4e6a-9dbe-677facf6fce4",
    "deepnote_cell_type": "code"
   },
   "source": "x_train, x_test, y_train, y_test = prepare_boston()\nprint(x_train.shape, y_train.shape)\nprint(y_train.max())",
   "outputs": [
    {
     "name": "stdout",
     "text": "Downloading data from https://storage.googleapis.com/tensorflow/tf-keras-datasets/boston_housing.npz\n57344/57026 [==============================] - 0s 0us/step\n(404, 13) (404, 1)\n1.0\n",
     "output_type": "stream"
    }
   ],
   "execution_count": null
  },
  {
   "cell_type": "markdown",
   "source": "## Building your first models\n\nIn the following, when fitting models, restrict the training to 10 epochs (which is not realistic, but training for more epochs takes time...)\n\n**Question #2.** Following the guidelines provided above, implement a linear regression model for the `boston` dataset that would optimize on a least squares objective using Stochastic Gradient Descent and fit your model to the corresponding training data.",
   "metadata": {
    "id": "VRA_Ec2-yIGA",
    "cell_id": "00011-ce91cb93-fbc6-4352-8c5a-4119403bafea",
    "deepnote_cell_type": "markdown"
   }
  },
  {
   "cell_type": "code",
   "metadata": {
    "tags": [],
    "output_cleared": false,
    "source_hash": "ba60a52a",
    "execution_millis": 729,
    "deepnote_to_be_reexecuted": false,
    "execution_start": 1637066993354,
    "cell_id": "00012-5a762915-6129-4741-9269-a774fc97db64",
    "deepnote_cell_type": "code"
   },
   "source": "model = Sequential([\n    InputLayer(input_shape=(13,)),\n    Dense(units=1, activation=\"linear\")\n])\n\nmodel.compile(optimizer=\"sgd\", loss=\"mse\")\nmodel.fit(x_train, y_train, verbose=2, epochs=10, batch_size=200)",
   "outputs": [
    {
     "name": "stdout",
     "text": "Epoch 1/10\n3/3 - 0s - loss: 0.1284\nEpoch 2/10\n3/3 - 0s - loss: 0.1275\nEpoch 3/10\n3/3 - 0s - loss: 0.1269\nEpoch 4/10\n3/3 - 0s - loss: 0.1260\nEpoch 5/10\n3/3 - 0s - loss: 0.1254\nEpoch 6/10\n3/3 - 0s - loss: 0.1245\nEpoch 7/10\n3/3 - 0s - loss: 0.1242\nEpoch 8/10\n3/3 - 0s - loss: 0.1234\nEpoch 9/10\n3/3 - 0s - loss: 0.1228\nEpoch 10/10\n3/3 - 0s - loss: 0.1229\n",
     "output_type": "stream"
    },
    {
     "output_type": "execute_result",
     "execution_count": 7,
     "data": {
      "text/plain": "<tensorflow.python.keras.callbacks.History at 0x7f0998c7ec10>"
     },
     "metadata": {}
    }
   ],
   "execution_count": null
  },
  {
   "cell_type": "markdown",
   "source": "**Question #3.** Similarly, define a logistic regression model for the `mnist` dataset and print its training accuracy during training.",
   "metadata": {
    "id": "Gqt1yH9Gzfuh",
    "cell_id": "00013-525686df-87d5-488a-90e4-7e406e99cac2",
    "deepnote_cell_type": "markdown"
   }
  },
  {
   "cell_type": "code",
   "metadata": {
    "tags": [],
    "cell_id": "00014-1c621768-c90d-4e32-a805-27839af4e33c",
    "deepnote_to_be_reexecuted": false,
    "source_hash": "7b37515b",
    "execution_start": 1637066994030,
    "execution_millis": 1154,
    "deepnote_cell_type": "code"
   },
   "source": "x_train, x_test, y_train, y_test = prepare_mnist()\nprint(x_train.shape, y_train.shape)\nprint(x_train.max())",
   "outputs": [
    {
     "name": "stdout",
     "text": "(60000, 784) (60000, 10)\n1.0\n",
     "output_type": "stream"
    }
   ],
   "execution_count": null
  },
  {
   "cell_type": "code",
   "metadata": {
    "tags": [],
    "cell_id": "00014-2d541fdc-1cf8-4274-a9f1-03e064dfd6c1",
    "deepnote_to_be_reexecuted": false,
    "source_hash": "bcd1d39b",
    "execution_start": 1637066995180,
    "execution_millis": 10493,
    "deepnote_cell_type": "code"
   },
   "source": "\n\nmodel = Sequential([\n    InputLayer(input_shape=(784,)),\n    Dense(units=10, activation=\"softmax\")\n])\n\nmodel.compile(optimizer=\"sgd\", loss=\"categorical_crossentropy\", metrics=[\"accuracy\"])\nmodel.fit(x_train, y_train, verbose=2, epochs=10, batch_size=200)",
   "outputs": [
    {
     "name": "stdout",
     "text": "Epoch 1/10\n300/300 - 1s - loss: 1.5095 - accuracy: 0.6247\nEpoch 2/10\n300/300 - 1s - loss: 0.8670 - accuracy: 0.8214\nEpoch 3/10\n300/300 - 1s - loss: 0.6914 - accuracy: 0.8462\nEpoch 4/10\n300/300 - 1s - loss: 0.6073 - accuracy: 0.8579\nEpoch 5/10\n300/300 - 1s - loss: 0.5566 - accuracy: 0.8660\nEpoch 6/10\n300/300 - 1s - loss: 0.5220 - accuracy: 0.8712\nEpoch 7/10\n300/300 - 1s - loss: 0.4966 - accuracy: 0.8749\nEpoch 8/10\n300/300 - 1s - loss: 0.4770 - accuracy: 0.8777\nEpoch 9/10\n300/300 - 1s - loss: 0.4613 - accuracy: 0.8806\nEpoch 10/10\n300/300 - 1s - loss: 0.4483 - accuracy: 0.8826\n",
     "output_type": "stream"
    },
    {
     "output_type": "execute_result",
     "execution_count": 9,
     "data": {
      "text/plain": "<tensorflow.python.keras.callbacks.History at 0x7f0995e0a210>"
     },
     "metadata": {}
    }
   ],
   "execution_count": null
  },
  {
   "cell_type": "markdown",
   "source": "**Question #4.** Compare performance (in terms of training accuracy, we will come back to better ways to compare models afterwards) of this logistic regression model with that of a neural network with respectively 1, 2, and 3 hidden layers of 128 neurons each.\nYou will use the `\"relu\"` activation function for hidden layers.",
   "metadata": {
    "id": "6SGA-CdS0vwW",
    "cell_id": "00015-71c645d3-b242-4e05-8f08-2346e25d248d",
    "deepnote_cell_type": "markdown"
   }
  },
  {
   "cell_type": "code",
   "metadata": {
    "tags": [],
    "deepnote_to_be_reexecuted": false,
    "source_hash": "121a9d00",
    "cell_id": "00016-26f1fc3e-265e-45f0-8038-5ab5cb66e311",
    "execution_start": 1637067005675,
    "execution_millis": 29060,
    "deepnote_cell_type": "code"
   },
   "source": "model = Sequential([\n    InputLayer(input_shape=(784,)),\n    Dense(units=128, activation='relu'),\n    Dense(units=128, activation='relu'),\n    Dense(units=128, activation='relu'),\n    Dense(units=10, activation=\"softmax\")\n])\n\nmodel.compile(optimizer=\"sgd\", loss=\"categorical_crossentropy\", metrics=[\"accuracy\"])\nmodel.fit(x_train, y_train, verbose=2, epochs=10, batch_size=200)",
   "outputs": [
    {
     "name": "stdout",
     "text": "Epoch 1/10\n300/300 - 3s - loss: 1.7743 - accuracy: 0.5309\nEpoch 2/10\n300/300 - 3s - loss: 0.6965 - accuracy: 0.8326\nEpoch 3/10\n300/300 - 3s - loss: 0.4535 - accuracy: 0.8774\nEpoch 4/10\n300/300 - 3s - loss: 0.3805 - accuracy: 0.8926\nEpoch 5/10\n300/300 - 3s - loss: 0.3422 - accuracy: 0.9027\nEpoch 6/10\n300/300 - 3s - loss: 0.3162 - accuracy: 0.9097\nEpoch 7/10\n300/300 - 3s - loss: 0.2963 - accuracy: 0.9146\nEpoch 8/10\n300/300 - 3s - loss: 0.2801 - accuracy: 0.9192\nEpoch 9/10\n300/300 - 3s - loss: 0.2662 - accuracy: 0.9232\nEpoch 10/10\n300/300 - 3s - loss: 0.2539 - accuracy: 0.9264\n",
     "output_type": "stream"
    },
    {
     "output_type": "execute_result",
     "execution_count": 10,
     "data": {
      "text/plain": "<tensorflow.python.keras.callbacks.History at 0x7f09952c0810>"
     },
     "metadata": {}
    }
   ],
   "execution_count": null
  },
  {
   "cell_type": "markdown",
   "source": "**Question #5.** `keras` models offer a `count_params()` method to get the number of parameters to be learned in the model. Use this facility to get the number of parameters of your 3-hidden-layer model and build a new one-hidden-layer model with an equivalent number of parameters. Compare performance of these two models with similar number of parameters.",
   "metadata": {
    "id": "tC9EB0vs363m",
    "cell_id": "00017-fe5a5932-330a-40a7-bc92-596660d30f17",
    "deepnote_cell_type": "markdown"
   }
  },
  {
   "cell_type": "code",
   "metadata": {
    "tags": [],
    "deepnote_to_be_reexecuted": false,
    "source_hash": "71ee8f6d",
    "cell_id": "00018-bad9201a-5293-443d-a528-75d1bb697cdf",
    "execution_start": 1637067034747,
    "execution_millis": 2,
    "deepnote_cell_type": "code"
   },
   "source": "model.count_params()",
   "outputs": [
    {
     "output_type": "execute_result",
     "execution_count": 11,
     "data": {
      "text/plain": "134794"
     },
     "metadata": {}
    }
   ],
   "execution_count": null
  },
  {
   "cell_type": "code",
   "metadata": {
    "tags": [],
    "cell_id": "00020-7e27b93d-e480-4c44-ac7a-cc6ea4dd7c73",
    "deepnote_to_be_reexecuted": false,
    "source_hash": "f79cf5be",
    "execution_start": 1637067034760,
    "execution_millis": 26893,
    "deepnote_cell_type": "code"
   },
   "source": "model = Sequential([\n    InputLayer(input_shape=(784,)),\n    Dense(units=134784 // 795, activation='relu'),\n    Dense(units=10, activation=\"softmax\")\n])\n\nmodel.compile(optimizer=\"sgd\", loss=\"categorical_crossentropy\", metrics=[\"accuracy\"])\nprint(model.count_params())\nmodel.fit(x_train, y_train, verbose=2, epochs=10, batch_size=200)",
   "outputs": [
    {
     "name": "stdout",
     "text": "134365\nEpoch 1/10\n300/300 - 3s - loss: 1.3726 - accuracy: 0.6595\nEpoch 2/10\n300/300 - 2s - loss: 0.6853 - accuracy: 0.8414\nEpoch 3/10\n300/300 - 3s - loss: 0.5281 - accuracy: 0.8664\nEpoch 4/10\n300/300 - 3s - loss: 0.4584 - accuracy: 0.8792\nEpoch 5/10\n300/300 - 3s - loss: 0.4180 - accuracy: 0.8871\nEpoch 6/10\n300/300 - 3s - loss: 0.3905 - accuracy: 0.8934\nEpoch 7/10\n300/300 - 3s - loss: 0.3704 - accuracy: 0.8971\nEpoch 8/10\n300/300 - 3s - loss: 0.3545 - accuracy: 0.9010\nEpoch 9/10\n300/300 - 3s - loss: 0.3415 - accuracy: 0.9043\nEpoch 10/10\n300/300 - 3s - loss: 0.3305 - accuracy: 0.9069\n",
     "output_type": "stream"
    },
    {
     "output_type": "execute_result",
     "execution_count": 12,
     "data": {
      "text/plain": "<tensorflow.python.keras.callbacks.History at 0x7f09947c4050>"
     },
     "metadata": {}
    }
   ],
   "execution_count": null
  },
  {
   "cell_type": "markdown",
   "source": "## A better way to compare models\n\nComparing models based on training accuracy (resp. loss) is a \"great\" way to overfit your model to the training data.\nA better way to compare models is to use hold out data (aka validation set).\n\nTo do so, `keras` allows to pass, at `fit` time, a fraction of the training data to be used as validation set. Have a look [there](https://www.tensorflow.org/guide/keras/train_and_evaluate#automatically_setting_apart_a_validation_holdout_set) for more details about how validation samples are selected.\n\n**Question #6.** Repeat model comparisons above (relying on validation scores) using 30% of training data as validation set.",
   "metadata": {
    "id": "iXxTGmUw5ppd",
    "cell_id": "00019-b3b68f75-9075-4a67-ad1d-9df1cc76ccb5",
    "deepnote_cell_type": "markdown"
   }
  },
  {
   "cell_type": "code",
   "metadata": {
    "tags": [],
    "cell_id": "00022-ad7d6fc1-5820-4ff4-9b2f-02a72a4225b8",
    "deepnote_to_be_reexecuted": false,
    "source_hash": "7ee6e821",
    "execution_start": 1637067061478,
    "execution_millis": 25388,
    "deepnote_cell_type": "code"
   },
   "source": "model = Sequential([\n    InputLayer(input_shape=(784,)),\n    Dense(units=128, activation='relu'),\n    Dense(units=128, activation='relu'),\n    Dense(units=128, activation='relu'),\n    Dense(units=10, activation=\"softmax\")\n])\n\nmodel.compile(optimizer=\"sgd\", loss=\"categorical_crossentropy\", metrics=[\"accuracy\"])\nh = model.fit(x_train, y_train, verbose=2, epochs=10, batch_size=200, validation_split=.3)",
   "outputs": [
    {
     "name": "stdout",
     "text": "Epoch 1/10\n210/210 - 3s - loss: 1.9665 - accuracy: 0.4223 - val_loss: 1.4454 - val_accuracy: 0.6765\nEpoch 2/10\n210/210 - 2s - loss: 0.9836 - accuracy: 0.7791 - val_loss: 0.6580 - val_accuracy: 0.8437\nEpoch 3/10\n210/210 - 2s - loss: 0.5657 - accuracy: 0.8533 - val_loss: 0.4736 - val_accuracy: 0.8721\nEpoch 4/10\n210/210 - 2s - loss: 0.4476 - accuracy: 0.8778 - val_loss: 0.4086 - val_accuracy: 0.8827\nEpoch 5/10\n210/210 - 2s - loss: 0.3927 - accuracy: 0.8892 - val_loss: 0.3674 - val_accuracy: 0.8952\nEpoch 6/10\n210/210 - 2s - loss: 0.3594 - accuracy: 0.8976 - val_loss: 0.3426 - val_accuracy: 0.9013\nEpoch 7/10\n210/210 - 3s - loss: 0.3354 - accuracy: 0.9048 - val_loss: 0.3240 - val_accuracy: 0.9053\nEpoch 8/10\n210/210 - 2s - loss: 0.3175 - accuracy: 0.9085 - val_loss: 0.3090 - val_accuracy: 0.9098\nEpoch 9/10\n210/210 - 3s - loss: 0.3026 - accuracy: 0.9141 - val_loss: 0.3007 - val_accuracy: 0.9123\nEpoch 10/10\n210/210 - 2s - loss: 0.2898 - accuracy: 0.9168 - val_loss: 0.2877 - val_accuracy: 0.9157\n",
     "output_type": "stream"
    }
   ],
   "execution_count": null
  },
  {
   "cell_type": "code",
   "metadata": {
    "tags": [],
    "cell_id": "00023-b3be4cbf-f3f5-44a6-a36c-589f99223667",
    "deepnote_to_be_reexecuted": false,
    "source_hash": "c62304b2",
    "execution_start": 1637067086871,
    "execution_millis": 2423,
    "deepnote_cell_type": "code"
   },
   "source": "import matplotlib.pyplot as plt\n\nplt.plot(h.history[\"val_accuracy\"], label=\"valid\")\nplt.plot(h.history[\"accuracy\"], label=\"train\")\nplt.legend();",
   "outputs": [
    {
     "data": {
      "text/plain": "<Figure size 432x288 with 1 Axes>",
      "image/png": "[encoded data removed]"
     },
     "metadata": {
      "needs_background": "light",
      "image/png": {
       "width": 372,
       "height": 248
      }
     },
     "output_type": "display_data"
    }
   ],
   "execution_count": null
  },
  {
   "cell_type": "markdown",
   "source": "## Optimizers and learning rate\n\n**Question #7.** Change the optimizer used for your model. Use an optimizer with momentum and adaptive learning rate.",
   "metadata": {
    "id": "WehjG92yDMcN",
    "cell_id": "00020-f6c6e340-9b15-45e0-a87e-756fb8526b30",
    "deepnote_cell_type": "markdown"
   }
  },
  {
   "cell_type": "code",
   "metadata": {
    "tags": [],
    "deepnote_to_be_reexecuted": false,
    "source_hash": "b8d13f41",
    "cell_id": "00021-857dde2b-196e-4bc0-a71f-04f055a79476",
    "execution_start": 1637067089311,
    "execution_millis": 26770,
    "deepnote_cell_type": "code"
   },
   "source": "model = Sequential([\n    InputLayer(input_shape=(784,)),\n    Dense(units=128, activation='relu'),\n    Dense(units=128, activation='relu'),\n    Dense(units=128, activation='relu'),\n    Dense(units=10, activation=\"softmax\")\n])\n\nmodel.compile(optimizer=\"adam\", loss=\"categorical_crossentropy\", metrics=[\"accuracy\"])\nh = model.fit(x_train, y_train, verbose=2, epochs=10, batch_size=200, validation_split=.3)",
   "outputs": [
    {
     "name": "stdout",
     "text": "Epoch 1/10\n210/210 - 2s - loss: 0.4259 - accuracy: 0.8803 - val_loss: 0.1896 - val_accuracy: 0.9442\nEpoch 2/10\n210/210 - 2s - loss: 0.1533 - accuracy: 0.9537 - val_loss: 0.1462 - val_accuracy: 0.9567\nEpoch 3/10\n210/210 - 2s - loss: 0.1067 - accuracy: 0.9676 - val_loss: 0.1338 - val_accuracy: 0.9606\nEpoch 4/10\n210/210 - 2s - loss: 0.0832 - accuracy: 0.9740 - val_loss: 0.1149 - val_accuracy: 0.9659\nEpoch 5/10\n210/210 - 3s - loss: 0.0636 - accuracy: 0.9807 - val_loss: 0.1051 - val_accuracy: 0.9703\nEpoch 6/10\n210/210 - 3s - loss: 0.0489 - accuracy: 0.9844 - val_loss: 0.1107 - val_accuracy: 0.9676\nEpoch 7/10\n210/210 - 3s - loss: 0.0386 - accuracy: 0.9882 - val_loss: 0.1104 - val_accuracy: 0.9693\nEpoch 8/10\n210/210 - 2s - loss: 0.0321 - accuracy: 0.9902 - val_loss: 0.1169 - val_accuracy: 0.9675\nEpoch 9/10\n210/210 - 3s - loss: 0.0280 - accuracy: 0.9912 - val_loss: 0.1101 - val_accuracy: 0.9707\nEpoch 10/10\n210/210 - 3s - loss: 0.0200 - accuracy: 0.9939 - val_loss: 0.1093 - val_accuracy: 0.9721\n",
     "output_type": "stream"
    }
   ],
   "execution_count": null
  },
  {
   "cell_type": "markdown",
   "source": "**Question #8.** Using [the docs](https://www.tensorflow.org/api_docs/python/tf/keras/optimizers), vary the learning rate of your optimizer from a very low value to a much larger one so as to show evidence of:\n* instability when the learning rate is too large;\n* slow convergence when the learning rate is too low.",
   "metadata": {
    "id": "ot8jiQHuEZxr",
    "cell_id": "00022-eda7fa25-2209-450d-8a6b-1046df448897",
    "deepnote_cell_type": "markdown"
   }
  },
  {
   "cell_type": "code",
   "metadata": {
    "id": "pZfwWRDPEa1g",
    "output_cleared": false,
    "source_hash": "40d28aea",
    "execution_millis": 25218,
    "deepnote_to_be_reexecuted": false,
    "cell_id": "00023-212f3184-1200-4b15-8388-eb823e14e5c9",
    "execution_start": 1637067116108,
    "deepnote_cell_type": "code"
   },
   "source": "from tensorflow.keras.optimizers import SGD\n\nmodel = Sequential([\n    InputLayer(input_shape=(784,)),\n    Dense(units=128, activation='relu'),\n    Dense(units=128, activation='relu'),\n    Dense(units=128, activation='relu'),\n    Dense(units=10, activation=\"softmax\")\n])\n\nmodel.compile(optimizer=SGD(learning_rate=10), loss=\"categorical_crossentropy\", metrics=[\"accuracy\"])\nh = model.fit(x_train, y_train, verbose=2, epochs=10, batch_size=200, validation_split=.3)",
   "outputs": [
    {
     "name": "stdout",
     "text": "Epoch 1/10\n210/210 - 3s - loss: 114446815803428000759808.0000 - accuracy: 0.1019 - val_loss: 2.3365 - val_accuracy: 0.1006\nEpoch 2/10\n210/210 - 3s - loss: 2.3232 - accuracy: 0.1031 - val_loss: 2.3350 - val_accuracy: 0.1079\nEpoch 3/10\n210/210 - 3s - loss: 2.3236 - accuracy: 0.1024 - val_loss: 2.3290 - val_accuracy: 0.1035\nEpoch 4/10\n210/210 - 2s - loss: 2.3254 - accuracy: 0.1021 - val_loss: 2.3148 - val_accuracy: 0.0989\nEpoch 5/10\n210/210 - 2s - loss: 2.3241 - accuracy: 0.1033 - val_loss: 2.3098 - val_accuracy: 0.1075\nEpoch 6/10\n210/210 - 2s - loss: 2.3247 - accuracy: 0.1032 - val_loss: 2.3402 - val_accuracy: 0.1079\nEpoch 7/10\n210/210 - 2s - loss: 2.3249 - accuracy: 0.1030 - val_loss: 2.3103 - val_accuracy: 0.1035\nEpoch 8/10\n210/210 - 3s - loss: 2.3273 - accuracy: 0.0990 - val_loss: 2.3149 - val_accuracy: 0.1006\nEpoch 9/10\n210/210 - 2s - loss: 2.3238 - accuracy: 0.1033 - val_loss: 2.3186 - val_accuracy: 0.1075\nEpoch 10/10\n210/210 - 2s - loss: 2.3220 - accuracy: 0.1047 - val_loss: 2.3125 - val_accuracy: 0.0968\n",
     "output_type": "stream"
    }
   ],
   "execution_count": null
  },
  {
   "cell_type": "markdown",
   "source": "## Callbacks\n\nCallbacks are tools that, in `keras`, allow one to intervene during the training process of a model. \nCallbacks can be used to take actions (_ie._ save intermediate model, stop optimization if overfitting occurs, _etc._).\n\nA first callback one can play with is the one returned by any call to `fit` on a `keras` model.\nThis callback is an object with an `.history` attribute in the form of a Python dictionnary whose keys are the metrics recorded during training. Each of these keys links to an array containing the consecutive values of the considered quantity (one value per epoch).\n\n**Question #9.** Plot correct classification rates on both training and validation sets.",
   "metadata": {
    "id": "tyCzy_PNEqwE",
    "cell_id": "00024-e7753d2c-8704-4b7c-9d6c-2f0fc9194bf1",
    "deepnote_cell_type": "markdown"
   }
  },
  {
   "cell_type": "code",
   "metadata": {
    "id": "qA-RPKzaI4-s",
    "output_cleared": false,
    "source_hash": "c62304b2",
    "execution_millis": 317,
    "deepnote_to_be_reexecuted": false,
    "cell_id": "00025-59437fea-6b37-4c4a-8193-df125130d86a",
    "execution_start": 1637067141408,
    "deepnote_cell_type": "code"
   },
   "source": "import matplotlib.pyplot as plt\n\nplt.plot(h.history[\"val_accuracy\"], label=\"valid\")\nplt.plot(h.history[\"accuracy\"], label=\"train\")\nplt.legend();",
   "outputs": [
    {
     "data": {
      "text/plain": "<Figure size 432x288 with 1 Axes>",
      "image/png": "[encoded data removed]"
     },
     "metadata": {
      "needs_background": "light",
      "image/png": {
       "width": 384,
       "height": 248
      }
     },
     "output_type": "display_data"
    }
   ],
   "execution_count": null
  },
  {
   "cell_type": "markdown",
   "source": "Setting up other callbacks must be explicit. This is done by passing a list of callbacks to the `fit` method.\n\nWhen training a model is long, one can wish to record intermediate models (in case of a crash during training, or just for cases when intermediate models were performing better than the final one).\nThe [`ModelCheckpoint`](https://www.tensorflow.org/api_docs/python/tf/keras/callbacks/ModelCheckpoint) callback is designed for that purpose.\n\n**Question #10.** Set up recording of intermediate models every epoch. Save the models into a dedicated file `model.hdf5` on your Deepnote project. Only record models if validation loss is lower than for all previous models.",
   "metadata": {
    "id": "l9y1at8qI5cO",
    "cell_id": "00026-7ac51138-7afa-484f-a8d3-4fb02387e5c3",
    "deepnote_cell_type": "markdown"
   }
  },
  {
   "cell_type": "code",
   "metadata": {
    "tags": [],
    "deepnote_to_be_reexecuted": false,
    "source_hash": "5a871de0",
    "cell_id": "00027-ae3ecfc2-0177-4dd1-acb4-cac506179719",
    "execution_start": 1637067684049,
    "execution_millis": 32784,
    "deepnote_cell_type": "code"
   },
   "source": "from tensorflow.keras.callbacks import ModelCheckpoint\n\ncb_cp = ModelCheckpoint(\n    \"model_{epoch:02d}.hdf5\", monitor='val_loss', verbose=0, save_best_only=True\n)\n\nmodel = Sequential([\n    InputLayer(input_shape=(784,)),\n    Dense(units=128, activation='relu'),\n    Dense(units=128, activation='relu'),\n    Dense(units=128, activation='relu'),\n    Dense(units=10, activation=\"softmax\")\n])\n\nmodel.compile(optimizer=\"adam\", loss=\"categorical_crossentropy\", metrics=[\"accuracy\"])\nh = model.fit(x_train, y_train, verbose=2, epochs=10, batch_size=200, validation_split=.3,\n              callbacks=[cb_cp])",
   "outputs": [
    {
     "name": "stdout",
     "text": "Epoch 1/10\n210/210 - 3s - loss: 0.4196 - accuracy: 0.8832 - val_loss: 0.1991 - val_accuracy: 0.9412\nEpoch 2/10\n210/210 - 3s - loss: 0.1527 - accuracy: 0.9553 - val_loss: 0.1550 - val_accuracy: 0.9544\nEpoch 3/10\n210/210 - 3s - loss: 0.1042 - accuracy: 0.9687 - val_loss: 0.1242 - val_accuracy: 0.9634\nEpoch 4/10\n210/210 - 3s - loss: 0.0763 - accuracy: 0.9768 - val_loss: 0.1524 - val_accuracy: 0.9555\nEpoch 5/10\n210/210 - 3s - loss: 0.0605 - accuracy: 0.9815 - val_loss: 0.1211 - val_accuracy: 0.9633\nEpoch 6/10\n210/210 - 3s - loss: 0.0431 - accuracy: 0.9872 - val_loss: 0.1199 - val_accuracy: 0.9662\nEpoch 7/10\n210/210 - 3s - loss: 0.0361 - accuracy: 0.9891 - val_loss: 0.1141 - val_accuracy: 0.9684\nEpoch 8/10\n210/210 - 3s - loss: 0.0288 - accuracy: 0.9908 - val_loss: 0.1179 - val_accuracy: 0.9690\nEpoch 9/10\n210/210 - 4s - loss: 0.0229 - accuracy: 0.9926 - val_loss: 0.1145 - val_accuracy: 0.9714\nEpoch 10/10\n210/210 - 3s - loss: 0.0187 - accuracy: 0.9941 - val_loss: 0.1194 - val_accuracy: 0.9712\n",
     "output_type": "stream"
    }
   ],
   "execution_count": null
  },
  {
   "cell_type": "markdown",
   "source": "Use the code below to check that a model has been saved:",
   "metadata": {
    "tags": [],
    "cell_id": "00028-6649d647-d2aa-4b68-be7d-5a53579da62e",
    "deepnote_cell_type": "markdown"
   }
  },
  {
   "cell_type": "code",
   "metadata": {
    "id": "m0Zqsvh8Bowh",
    "deepnote_to_be_reexecuted": false,
    "source_hash": "3b41946",
    "cell_id": "00029-f215d9c9-32e0-41ea-9008-7ff722e39335",
    "execution_start": 1637067141611,
    "execution_millis": 657,
    "deepnote_cell_type": "code"
   },
   "source": "!ls -alh \"model.hdf5\"",
   "outputs": [
    {
     "name": "stdout",
     "text": "-rw-r--r-- 1 root root 544K Feb 16  2021 model.hdf5\r\n",
     "output_type": "stream"
    }
   ],
   "execution_count": null
  },
  {
   "cell_type": "markdown",
   "source": "## Regularization\n\n**Question #11.** Add an $\\ell_2$ regularization to the weights of your model and show its impact on overfitting. [These docs](https://www.tensorflow.org/api_docs/python/tf/keras/regularizers) could help.",
   "metadata": {
    "id": "WFehub4rLrZm",
    "cell_id": "00030-99b2c591-c6c7-4274-8e46-d15888d01b6c",
    "deepnote_cell_type": "markdown"
   }
  },
  {
   "cell_type": "code",
   "metadata": {
    "tags": [],
    "deepnote_to_be_reexecuted": false,
    "source_hash": "4bff330f",
    "cell_id": "00031-469ef2ad-c883-49d9-9504-e031fa86a441",
    "execution_start": 1637068764595,
    "execution_millis": 62362,
    "deepnote_cell_type": "code"
   },
   "source": "from tensorflow.keras.regularizers import L2\n\nmodel = Sequential([\n    InputLayer(input_shape=(784,)),\n    Dense(units=128, activation='relu'),\n    Dense(units=128, activation='relu'),\n    Dense(units=128, activation='relu'),\n    Dense(units=10, activation=\"softmax\", kernel_regularizer=L2(0.01))\n])\n\nmodel.compile(optimizer=\"adam\", loss=\"categorical_crossentropy\", metrics=[\"accuracy\"])\nh = model.fit(x_train, y_train, verbose=2, epochs=20, batch_size=200, validation_split=.3)",
   "outputs": [
    {
     "name": "stdout",
     "text": "Epoch 1/20\n210/210 - 3s - loss: 0.5793 - accuracy: 0.8705 - val_loss: 0.3003 - val_accuracy: 0.9416\nEpoch 2/20\n210/210 - 3s - loss: 0.2491 - accuracy: 0.9516 - val_loss: 0.2206 - val_accuracy: 0.9568\nEpoch 3/20\n210/210 - 3s - loss: 0.1800 - accuracy: 0.9645 - val_loss: 0.1796 - val_accuracy: 0.9620\nEpoch 4/20\n210/210 - 3s - loss: 0.1395 - accuracy: 0.9718 - val_loss: 0.1516 - val_accuracy: 0.9674\nEpoch 5/20\n210/210 - 3s - loss: 0.1118 - accuracy: 0.9772 - val_loss: 0.1408 - val_accuracy: 0.9688\nEpoch 6/20\n210/210 - 3s - loss: 0.0924 - accuracy: 0.9825 - val_loss: 0.1271 - val_accuracy: 0.9704\nEpoch 7/20\n210/210 - 3s - loss: 0.0799 - accuracy: 0.9842 - val_loss: 0.1208 - val_accuracy: 0.9721\nEpoch 8/20\n210/210 - 3s - loss: 0.0675 - accuracy: 0.9866 - val_loss: 0.1153 - val_accuracy: 0.9723\nEpoch 9/20\n210/210 - 3s - loss: 0.0609 - accuracy: 0.9882 - val_loss: 0.1160 - val_accuracy: 0.9709\nEpoch 10/20\n210/210 - 3s - loss: 0.0513 - accuracy: 0.9906 - val_loss: 0.1101 - val_accuracy: 0.9737\nEpoch 11/20\n210/210 - 3s - loss: 0.0452 - accuracy: 0.9920 - val_loss: 0.1116 - val_accuracy: 0.9722\nEpoch 12/20\n210/210 - 3s - loss: 0.0406 - accuracy: 0.9932 - val_loss: 0.1202 - val_accuracy: 0.9698\nEpoch 13/20\n210/210 - 3s - loss: 0.0351 - accuracy: 0.9943 - val_loss: 0.1185 - val_accuracy: 0.9710\nEpoch 14/20\n210/210 - 3s - loss: 0.0304 - accuracy: 0.9957 - val_loss: 0.1111 - val_accuracy: 0.9741\nEpoch 15/20\n210/210 - 3s - loss: 0.0283 - accuracy: 0.9960 - val_loss: 0.1177 - val_accuracy: 0.9702\nEpoch 16/20\n210/210 - 3s - loss: 0.0241 - accuracy: 0.9971 - val_loss: 0.1080 - val_accuracy: 0.9733\nEpoch 17/20\n210/210 - 3s - loss: 0.0230 - accuracy: 0.9970 - val_loss: 0.1088 - val_accuracy: 0.9738\nEpoch 18/20\n210/210 - 3s - loss: 0.0228 - accuracy: 0.9969 - val_loss: 0.1080 - val_accuracy: 0.9741\nEpoch 19/20\n210/210 - 3s - loss: 0.0209 - accuracy: 0.9968 - val_loss: 0.1227 - val_accuracy: 0.9718\nEpoch 20/20\n210/210 - 3s - loss: 0.0190 - accuracy: 0.9975 - val_loss: 0.1160 - val_accuracy: 0.9739\n",
     "output_type": "stream"
    }
   ],
   "execution_count": null
  },
  {
   "cell_type": "markdown",
   "source": "**Question #12.** Instead of the $\\ell_2$ regularization, set up a [drop-out](https://www.tensorflow.org/api_docs/python/tf/keras/layers/Dropout) strategy and assess its impact on overfitting (you will turn off 10% of the neurons at each training batch).",
   "metadata": {
    "id": "vumLi62gNVhk",
    "cell_id": "00032-1e1357af-970f-4e72-b9e4-5c5de6d9d009",
    "deepnote_cell_type": "markdown"
   }
  },
  {
   "cell_type": "code",
   "metadata": {
    "tags": [],
    "deepnote_to_be_reexecuted": false,
    "source_hash": "20750cd4",
    "cell_id": "00033-491c1e86-fe40-43a5-a915-ce83a604192e",
    "execution_start": 1637069085837,
    "execution_millis": 45605,
    "deepnote_cell_type": "code"
   },
   "source": "from tensorflow.keras.layers import Dropout\n\nmodel = Sequential([\n    InputLayer(input_shape=(784,)),\n    Dense(units=128, activation='relu'),\n    Dropout(rate=0.2),\n    Dense(units=128, activation='relu'),\n    Dropout(rate=0.2),\n    Dense(units=128, activation='relu'),\n    Dropout(rate=0.2),\n    Dense(units=10, activation=\"softmax\")\n])\n\nmodel.compile(optimizer=\"adam\", loss=\"categorical_crossentropy\", metrics=[\"accuracy\"])\nh = model.fit(x_train, y_train, verbose=2, epochs=20, batch_size=200, validation_split=.3)",
   "outputs": [
    {
     "name": "stdout",
     "text": "Epoch 1/20\n210/210 - 2s - loss: 0.5974 - accuracy: 0.8149 - val_loss: 0.2050 - val_accuracy: 0.9406\nEpoch 2/20\n210/210 - 2s - loss: 0.2254 - accuracy: 0.9333 - val_loss: 0.1471 - val_accuracy: 0.9557\nEpoch 3/20\n210/210 - 2s - loss: 0.1656 - accuracy: 0.9494 - val_loss: 0.1220 - val_accuracy: 0.9643\nEpoch 4/20\n210/210 - 2s - loss: 0.1350 - accuracy: 0.9584 - val_loss: 0.1163 - val_accuracy: 0.9646\nEpoch 5/20\n210/210 - 2s - loss: 0.1149 - accuracy: 0.9649 - val_loss: 0.1081 - val_accuracy: 0.9686\nEpoch 6/20\n210/210 - 2s - loss: 0.1001 - accuracy: 0.9693 - val_loss: 0.1071 - val_accuracy: 0.9693\nEpoch 7/20\n210/210 - 2s - loss: 0.0879 - accuracy: 0.9733 - val_loss: 0.1010 - val_accuracy: 0.9711\nEpoch 8/20\n210/210 - 2s - loss: 0.0785 - accuracy: 0.9748 - val_loss: 0.0978 - val_accuracy: 0.9729\nEpoch 9/20\n210/210 - 3s - loss: 0.0722 - accuracy: 0.9775 - val_loss: 0.0937 - val_accuracy: 0.9732\nEpoch 10/20\n210/210 - 3s - loss: 0.0680 - accuracy: 0.9784 - val_loss: 0.0956 - val_accuracy: 0.9734\nEpoch 11/20\n210/210 - 2s - loss: 0.0611 - accuracy: 0.9804 - val_loss: 0.0989 - val_accuracy: 0.9743\nEpoch 12/20\n210/210 - 2s - loss: 0.0582 - accuracy: 0.9820 - val_loss: 0.0930 - val_accuracy: 0.9736\nEpoch 13/20\n210/210 - 2s - loss: 0.0539 - accuracy: 0.9830 - val_loss: 0.1003 - val_accuracy: 0.9734\nEpoch 14/20\n210/210 - 2s - loss: 0.0521 - accuracy: 0.9827 - val_loss: 0.0979 - val_accuracy: 0.9746\nEpoch 15/20\n210/210 - 2s - loss: 0.0473 - accuracy: 0.9852 - val_loss: 0.0983 - val_accuracy: 0.9751\nEpoch 16/20\n210/210 - 2s - loss: 0.0462 - accuracy: 0.9847 - val_loss: 0.1016 - val_accuracy: 0.9746\nEpoch 17/20\n210/210 - 2s - loss: 0.0454 - accuracy: 0.9854 - val_loss: 0.0931 - val_accuracy: 0.9768\nEpoch 18/20\n210/210 - 2s - loss: 0.0401 - accuracy: 0.9874 - val_loss: 0.0964 - val_accuracy: 0.9769\nEpoch 19/20\n210/210 - 2s - loss: 0.0388 - accuracy: 0.9877 - val_loss: 0.0993 - val_accuracy: 0.9751\nEpoch 20/20\n210/210 - 2s - loss: 0.0405 - accuracy: 0.9866 - val_loss: 0.1025 - val_accuracy: 0.9755\n",
     "output_type": "stream"
    }
   ],
   "execution_count": null
  },
  {
   "cell_type": "code",
   "source": "import matplotlib.pyplot as plt\n\nplt.plot(h.history[\"val_accuracy\"], label=\"valid\")\nplt.plot(h.history[\"accuracy\"], label=\"train\")\nplt.legend();",
   "metadata": {
    "tags": [],
    "cell_id": "00038-37e8359d-cf03-4061-a695-013d13e59623",
    "deepnote_to_be_reexecuted": false,
    "source_hash": "c62304b2",
    "execution_start": 1637069131489,
    "execution_millis": 293,
    "deepnote_cell_type": "code"
   },
   "outputs": [
    {
     "data": {
      "text/plain": "<Figure size 432x288 with 1 Axes>",
      "image/png": "[encoded data removed]"
     },
     "metadata": {
      "needs_background": "light",
      "image/png": {
       "width": 384,
       "height": 248
      }
     },
     "output_type": "display_data"
    }
   ],
   "execution_count": null
  },
  {
   "cell_type": "markdown",
   "source": "**Question #13.** Set up an [`EarlyStopping`](https://www.tensorflow.org/api_docs/python/tf/keras/callbacks/EarlyStopping) strategy such that training the model will stop in case the validation loss does not decrease for 5 consecutive epochs.",
   "metadata": {
    "id": "xbOmJKruNYyS",
    "cell_id": "00034-86520c26-1f49-40ad-abfb-92f9e9655bbc",
    "deepnote_cell_type": "markdown"
   }
  },
  {
   "cell_type": "code",
   "metadata": {
    "tags": [],
    "deepnote_to_be_reexecuted": false,
    "source_hash": "8ca58935",
    "cell_id": "00035-f352ce2f-496e-4728-bb37-d68ac799333c",
    "execution_start": 1637068128195,
    "execution_millis": 20843,
    "deepnote_cell_type": "code"
   },
   "source": "from tensorflow.keras.callbacks import EarlyStopping\n\ncb_es = EarlyStopping(\n    monitor='val_loss', patience=3, restore_best_weights=True\n)\n\nmodel = Sequential([\n    InputLayer(input_shape=(784,)),\n    Dense(units=128, activation='relu'),\n    Dense(units=128, activation='relu'),\n    Dense(units=128, activation='relu'),\n    Dense(units=10, activation=\"softmax\")\n])\n\nmodel.compile(optimizer=\"adam\", loss=\"categorical_crossentropy\", metrics=[\"accuracy\"])\nh = model.fit(x_train, y_train, verbose=2, epochs=20, batch_size=200, validation_split=.3,\n              callbacks=[cb_es])",
   "outputs": [
    {
     "name": "stdout",
     "text": "Epoch 1/20\n210/210 - 2s - loss: 0.4246 - accuracy: 0.8791 - val_loss: 0.2059 - val_accuracy: 0.9378\nEpoch 2/20\n210/210 - 2s - loss: 0.1538 - accuracy: 0.9544 - val_loss: 0.1470 - val_accuracy: 0.9547\nEpoch 3/20\n210/210 - 2s - loss: 0.1047 - accuracy: 0.9680 - val_loss: 0.1241 - val_accuracy: 0.9614\nEpoch 4/20\n210/210 - 2s - loss: 0.0755 - accuracy: 0.9769 - val_loss: 0.1198 - val_accuracy: 0.9645\nEpoch 5/20\n210/210 - 2s - loss: 0.0588 - accuracy: 0.9821 - val_loss: 0.1151 - val_accuracy: 0.9648\nEpoch 6/20\n210/210 - 2s - loss: 0.0463 - accuracy: 0.9854 - val_loss: 0.1105 - val_accuracy: 0.9682\nEpoch 7/20\n210/210 - 2s - loss: 0.0376 - accuracy: 0.9880 - val_loss: 0.1013 - val_accuracy: 0.9718\nEpoch 8/20\n210/210 - 2s - loss: 0.0283 - accuracy: 0.9916 - val_loss: 0.1136 - val_accuracy: 0.9694\nEpoch 9/20\n210/210 - 2s - loss: 0.0226 - accuracy: 0.9933 - val_loss: 0.1175 - val_accuracy: 0.9708\nEpoch 10/20\n210/210 - 2s - loss: 0.0186 - accuracy: 0.9947 - val_loss: 0.1215 - val_accuracy: 0.9697\n",
     "output_type": "stream"
    }
   ],
   "execution_count": null
  },
  {
   "cell_type": "markdown",
   "source": "<a style='text-decoration:none;line-height:16px;display:flex;color:#5B5B62;padding:10px;justify-content:end;' href='https://deepnote.com?utm_source=created-in-deepnote-cell&projectId=42d3e808-a75c-4f9e-8bf1-115b96f89fc0' target=\"_blank\">\n<img alt='Created in deepnote.com' style='display:inline;max-height:16px;margin:0px;margin-right:7.5px;' src='data:image/svg+xml;base64,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' > </img>\nCreated in <span style='font-weight:600;margin-left:4px;'>Deepnote</span></a>",
   "metadata": {
    "tags": [],
    "created_in_deepnote_cell": true,
    "deepnote_cell_type": "markdown"
   }
  }
 ],
 "nbformat": 4,
 "nbformat_minor": 0,
 "metadata": {
  "colab": {
   "name": "MLP.ipynb",
   "provenance": [],
   "collapsed_sections": []
  },
  "kernelspec": {
   "name": "python3",
   "display_name": "Python 3"
  },
  "deepnote_notebook_id": "49fff65a-fcc0-489e-8bf6-88dc347c54fd",
  "deepnote_execution_queue": [],
  "deepnote": {}
 }
}