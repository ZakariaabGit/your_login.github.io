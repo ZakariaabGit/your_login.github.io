{
  "nbformat": 4,
  "nbformat_minor": 0,
  "metadata": {
    "colab": {
      "name": "classification MLP(Feedforward)/RNN(vanilla/GRU).ipynb",
      "provenance": [],
      "collapsed_sections": [],
      "include_colab_link": true
    },
    "kernelspec": {
      "display_name": "Python 3 (ipykernel)",
      "language": "python",
      "name": "python3"
    },
    "language_info": {
      "codemirror_mode": {
        "name": "ipython",
        "version": 3
      },
      "file_extension": ".py",
      "mimetype": "text/x-python",
      "name": "python",
      "nbconvert_exporter": "python",
      "pygments_lexer": "ipython3",
      "version": "3.7.11"
    },
    "widgets": {
      "application/vnd.jupyter.widget-state+json": {
        "55a2f031015541a7bd8f6c8d9f22be34": {
          "model_module": "@jupyter-widgets/controls",
          "model_name": "HBoxModel",
          "model_module_version": "1.5.0",
          "state": {
            "_view_name": "HBoxView",
            "_dom_classes": [],
            "_model_name": "HBoxModel",
            "_view_module": "@jupyter-widgets/controls",
            "_model_module_version": "1.5.0",
            "_view_count": null,
            "_view_module_version": "1.5.0",
            "box_style": "",
            "layout": "IPY_MODEL_8fad66db472d400db179110b6dcc9321",
            "_model_module": "@jupyter-widgets/controls",
            "children": [
              "IPY_MODEL_27a88bef314d48bbb6502bbf71470cf6",
              "IPY_MODEL_f5e581d05ab54d0e9fbece93c8877f30",
              "IPY_MODEL_a6090ff443594535bbf1b23151dbec51"
            ]
          }
        },
        "8fad66db472d400db179110b6dcc9321": {
          "model_module": "@jupyter-widgets/base",
          "model_name": "LayoutModel",
          "model_module_version": "1.2.0",
          "state": {
            "_view_name": "LayoutView",
            "grid_template_rows": null,
            "right": null,
            "justify_content": null,
            "_view_module": "@jupyter-widgets/base",
            "overflow": null,
            "_model_module_version": "1.2.0",
            "_view_count": null,
            "flex_flow": null,
            "width": null,
            "min_width": null,
            "border": null,
            "align_items": null,
            "bottom": null,
            "_model_module": "@jupyter-widgets/base",
            "top": null,
            "grid_column": null,
            "overflow_y": null,
            "overflow_x": null,
            "grid_auto_flow": null,
            "grid_area": null,
            "grid_template_columns": null,
            "flex": null,
            "_model_name": "LayoutModel",
            "justify_items": null,
            "grid_row": null,
            "max_height": null,
            "align_content": null,
            "visibility": null,
            "align_self": null,
            "height": null,
            "min_height": null,
            "padding": null,
            "grid_auto_rows": null,
            "grid_gap": null,
            "max_width": null,
            "order": null,
            "_view_module_version": "1.2.0",
            "grid_template_areas": null,
            "object_position": null,
            "object_fit": null,
            "grid_auto_columns": null,
            "margin": null,
            "display": null,
            "left": null
          }
        },
        "27a88bef314d48bbb6502bbf71470cf6": {
          "model_module": "@jupyter-widgets/controls",
          "model_name": "HTMLModel",
          "model_module_version": "1.5.0",
          "state": {
            "_view_name": "HTMLView",
            "style": "IPY_MODEL_f055c378f70942268382381b0ff2394f",
            "_dom_classes": [],
            "description": "",
            "_model_name": "HTMLModel",
            "placeholder": "​",
            "_view_module": "@jupyter-widgets/controls",
            "_model_module_version": "1.5.0",
            "value": "Dl Completed...: 100%",
            "_view_count": null,
            "_view_module_version": "1.5.0",
            "description_tooltip": null,
            "_model_module": "@jupyter-widgets/controls",
            "layout": "IPY_MODEL_48c13f9cf86f4ade93d1c062d2ad21dc"
          }
        },
        "f5e581d05ab54d0e9fbece93c8877f30": {
          "model_module": "@jupyter-widgets/controls",
          "model_name": "FloatProgressModel",
          "model_module_version": "1.5.0",
          "state": {
            "_view_name": "ProgressView",
            "style": "IPY_MODEL_2416e013960e439cb9e207d278cd270a",
            "_dom_classes": [],
            "description": "",
            "_model_name": "FloatProgressModel",
            "bar_style": "success",
            "max": 1,
            "_view_module": "@jupyter-widgets/controls",
            "_model_module_version": "1.5.0",
            "value": 1,
            "_view_count": null,
            "_view_module_version": "1.5.0",
            "orientation": "horizontal",
            "min": 0,
            "description_tooltip": null,
            "_model_module": "@jupyter-widgets/controls",
            "layout": "IPY_MODEL_3a23b2b119104eefb6e18f1ee07b5939"
          }
        },
        "a6090ff443594535bbf1b23151dbec51": {
          "model_module": "@jupyter-widgets/controls",
          "model_name": "HTMLModel",
          "model_module_version": "1.5.0",
          "state": {
            "_view_name": "HTMLView",
            "style": "IPY_MODEL_cc802cc26e7d43f18f647d701d505a3c",
            "_dom_classes": [],
            "description": "",
            "_model_name": "HTMLModel",
            "placeholder": "​",
            "_view_module": "@jupyter-widgets/controls",
            "_model_module_version": "1.5.0",
            "value": " 1/1 [00:03&lt;00:00,  3.29s/ url]",
            "_view_count": null,
            "_view_module_version": "1.5.0",
            "description_tooltip": null,
            "_model_module": "@jupyter-widgets/controls",
            "layout": "IPY_MODEL_a92f0f34d33c4f94b4091cf0edc86aec"
          }
        },
        "f055c378f70942268382381b0ff2394f": {
          "model_module": "@jupyter-widgets/controls",
          "model_name": "DescriptionStyleModel",
          "model_module_version": "1.5.0",
          "state": {
            "_view_name": "StyleView",
            "_model_name": "DescriptionStyleModel",
            "description_width": "",
            "_view_module": "@jupyter-widgets/base",
            "_model_module_version": "1.5.0",
            "_view_count": null,
            "_view_module_version": "1.2.0",
            "_model_module": "@jupyter-widgets/controls"
          }
        },
        "48c13f9cf86f4ade93d1c062d2ad21dc": {
          "model_module": "@jupyter-widgets/base",
          "model_name": "LayoutModel",
          "model_module_version": "1.2.0",
          "state": {
            "_view_name": "LayoutView",
            "grid_template_rows": null,
            "right": null,
            "justify_content": null,
            "_view_module": "@jupyter-widgets/base",
            "overflow": null,
            "_model_module_version": "1.2.0",
            "_view_count": null,
            "flex_flow": null,
            "width": null,
            "min_width": null,
            "border": null,
            "align_items": null,
            "bottom": null,
            "_model_module": "@jupyter-widgets/base",
            "top": null,
            "grid_column": null,
            "overflow_y": null,
            "overflow_x": null,
            "grid_auto_flow": null,
            "grid_area": null,
            "grid_template_columns": null,
            "flex": null,
            "_model_name": "LayoutModel",
            "justify_items": null,
            "grid_row": null,
            "max_height": null,
            "align_content": null,
            "visibility": null,
            "align_self": null,
            "height": null,
            "min_height": null,
            "padding": null,
            "grid_auto_rows": null,
            "grid_gap": null,
            "max_width": null,
            "order": null,
            "_view_module_version": "1.2.0",
            "grid_template_areas": null,
            "object_position": null,
            "object_fit": null,
            "grid_auto_columns": null,
            "margin": null,
            "display": null,
            "left": null
          }
        },
        "2416e013960e439cb9e207d278cd270a": {
          "model_module": "@jupyter-widgets/controls",
          "model_name": "ProgressStyleModel",
          "model_module_version": "1.5.0",
          "state": {
            "_view_name": "StyleView",
            "_model_name": "ProgressStyleModel",
            "description_width": "",
            "_view_module": "@jupyter-widgets/base",
            "_model_module_version": "1.5.0",
            "_view_count": null,
            "_view_module_version": "1.2.0",
            "bar_color": null,
            "_model_module": "@jupyter-widgets/controls"
          }
        },
        "3a23b2b119104eefb6e18f1ee07b5939": {
          "model_module": "@jupyter-widgets/base",
          "model_name": "LayoutModel",
          "model_module_version": "1.2.0",
          "state": {
            "_view_name": "LayoutView",
            "grid_template_rows": null,
            "right": null,
            "justify_content": null,
            "_view_module": "@jupyter-widgets/base",
            "overflow": null,
            "_model_module_version": "1.2.0",
            "_view_count": null,
            "flex_flow": null,
            "width": "20px",
            "min_width": null,
            "border": null,
            "align_items": null,
            "bottom": null,
            "_model_module": "@jupyter-widgets/base",
            "top": null,
            "grid_column": null,
            "overflow_y": null,
            "overflow_x": null,
            "grid_auto_flow": null,
            "grid_area": null,
            "grid_template_columns": null,
            "flex": null,
            "_model_name": "LayoutModel",
            "justify_items": null,
            "grid_row": null,
            "max_height": null,
            "align_content": null,
            "visibility": null,
            "align_self": null,
            "height": null,
            "min_height": null,
            "padding": null,
            "grid_auto_rows": null,
            "grid_gap": null,
            "max_width": null,
            "order": null,
            "_view_module_version": "1.2.0",
            "grid_template_areas": null,
            "object_position": null,
            "object_fit": null,
            "grid_auto_columns": null,
            "margin": null,
            "display": null,
            "left": null
          }
        },
        "cc802cc26e7d43f18f647d701d505a3c": {
          "model_module": "@jupyter-widgets/controls",
          "model_name": "DescriptionStyleModel",
          "model_module_version": "1.5.0",
          "state": {
            "_view_name": "StyleView",
            "_model_name": "DescriptionStyleModel",
            "description_width": "",
            "_view_module": "@jupyter-widgets/base",
            "_model_module_version": "1.5.0",
            "_view_count": null,
            "_view_module_version": "1.2.0",
            "_model_module": "@jupyter-widgets/controls"
          }
        },
        "a92f0f34d33c4f94b4091cf0edc86aec": {
          "model_module": "@jupyter-widgets/base",
          "model_name": "LayoutModel",
          "model_module_version": "1.2.0",
          "state": {
            "_view_name": "LayoutView",
            "grid_template_rows": null,
            "right": null,
            "justify_content": null,
            "_view_module": "@jupyter-widgets/base",
            "overflow": null,
            "_model_module_version": "1.2.0",
            "_view_count": null,
            "flex_flow": null,
            "width": null,
            "min_width": null,
            "border": null,
            "align_items": null,
            "bottom": null,
            "_model_module": "@jupyter-widgets/base",
            "top": null,
            "grid_column": null,
            "overflow_y": null,
            "overflow_x": null,
            "grid_auto_flow": null,
            "grid_area": null,
            "grid_template_columns": null,
            "flex": null,
            "_model_name": "LayoutModel",
            "justify_items": null,
            "grid_row": null,
            "max_height": null,
            "align_content": null,
            "visibility": null,
            "align_self": null,
            "height": null,
            "min_height": null,
            "padding": null,
            "grid_auto_rows": null,
            "grid_gap": null,
            "max_width": null,
            "order": null,
            "_view_module_version": "1.2.0",
            "grid_template_areas": null,
            "object_position": null,
            "object_fit": null,
            "grid_auto_columns": null,
            "margin": null,
            "display": null,
            "left": null
          }
        },
        "cb7c6592e8d34b418b07f1f08b28a962": {
          "model_module": "@jupyter-widgets/controls",
          "model_name": "HBoxModel",
          "model_module_version": "1.5.0",
          "state": {
            "_view_name": "HBoxView",
            "_dom_classes": [],
            "_model_name": "HBoxModel",
            "_view_module": "@jupyter-widgets/controls",
            "_model_module_version": "1.5.0",
            "_view_count": null,
            "_view_module_version": "1.5.0",
            "box_style": "",
            "layout": "IPY_MODEL_492273186cfe48c4966057222cca1d76",
            "_model_module": "@jupyter-widgets/controls",
            "children": [
              "IPY_MODEL_35d86a5f8b2c44f1b9852a721a66d745",
              "IPY_MODEL_11873a0ad69f4372b4433b7f88cca18c",
              "IPY_MODEL_273806e7397b4dc6abdcac2acc181ed2"
            ]
          }
        },
        "492273186cfe48c4966057222cca1d76": {
          "model_module": "@jupyter-widgets/base",
          "model_name": "LayoutModel",
          "model_module_version": "1.2.0",
          "state": {
            "_view_name": "LayoutView",
            "grid_template_rows": null,
            "right": null,
            "justify_content": null,
            "_view_module": "@jupyter-widgets/base",
            "overflow": null,
            "_model_module_version": "1.2.0",
            "_view_count": null,
            "flex_flow": null,
            "width": null,
            "min_width": null,
            "border": null,
            "align_items": null,
            "bottom": null,
            "_model_module": "@jupyter-widgets/base",
            "top": null,
            "grid_column": null,
            "overflow_y": null,
            "overflow_x": null,
            "grid_auto_flow": null,
            "grid_area": null,
            "grid_template_columns": null,
            "flex": null,
            "_model_name": "LayoutModel",
            "justify_items": null,
            "grid_row": null,
            "max_height": null,
            "align_content": null,
            "visibility": null,
            "align_self": null,
            "height": null,
            "min_height": null,
            "padding": null,
            "grid_auto_rows": null,
            "grid_gap": null,
            "max_width": null,
            "order": null,
            "_view_module_version": "1.2.0",
            "grid_template_areas": null,
            "object_position": null,
            "object_fit": null,
            "grid_auto_columns": null,
            "margin": null,
            "display": null,
            "left": null
          }
        },
        "35d86a5f8b2c44f1b9852a721a66d745": {
          "model_module": "@jupyter-widgets/controls",
          "model_name": "HTMLModel",
          "model_module_version": "1.5.0",
          "state": {
            "_view_name": "HTMLView",
            "style": "IPY_MODEL_4ad0bdf7fd4742a9b183f0b2f6dd324d",
            "_dom_classes": [],
            "description": "",
            "_model_name": "HTMLModel",
            "placeholder": "​",
            "_view_module": "@jupyter-widgets/controls",
            "_model_module_version": "1.5.0",
            "value": "Dl Size...: 100%",
            "_view_count": null,
            "_view_module_version": "1.5.0",
            "description_tooltip": null,
            "_model_module": "@jupyter-widgets/controls",
            "layout": "IPY_MODEL_5cb377d89ea248f7951dd491a86b8b20"
          }
        },
        "11873a0ad69f4372b4433b7f88cca18c": {
          "model_module": "@jupyter-widgets/controls",
          "model_name": "FloatProgressModel",
          "model_module_version": "1.5.0",
          "state": {
            "_view_name": "ProgressView",
            "style": "IPY_MODEL_17ef773b350343bc8987ba8ea3f13723",
            "_dom_classes": [],
            "description": "",
            "_model_name": "FloatProgressModel",
            "bar_style": "success",
            "max": 1,
            "_view_module": "@jupyter-widgets/controls",
            "_model_module_version": "1.5.0",
            "value": 1,
            "_view_count": null,
            "_view_module_version": "1.5.0",
            "orientation": "horizontal",
            "min": 0,
            "description_tooltip": null,
            "_model_module": "@jupyter-widgets/controls",
            "layout": "IPY_MODEL_1afb5a49f52e44eca7525560d2b52ec7"
          }
        },
        "273806e7397b4dc6abdcac2acc181ed2": {
          "model_module": "@jupyter-widgets/controls",
          "model_name": "HTMLModel",
          "model_module_version": "1.5.0",
          "state": {
            "_view_name": "HTMLView",
            "style": "IPY_MODEL_3f871930d7c242bbb9c1a7ec937450a1",
            "_dom_classes": [],
            "description": "",
            "_model_name": "HTMLModel",
            "placeholder": "​",
            "_view_module": "@jupyter-widgets/controls",
            "_model_module_version": "1.5.0",
            "value": " 80/80 [00:03&lt;00:00, 37.52 MiB/s]",
            "_view_count": null,
            "_view_module_version": "1.5.0",
            "description_tooltip": null,
            "_model_module": "@jupyter-widgets/controls",
            "layout": "IPY_MODEL_29964db82a8747f0b62b77f97b94d20a"
          }
        },
        "4ad0bdf7fd4742a9b183f0b2f6dd324d": {
          "model_module": "@jupyter-widgets/controls",
          "model_name": "DescriptionStyleModel",
          "model_module_version": "1.5.0",
          "state": {
            "_view_name": "StyleView",
            "_model_name": "DescriptionStyleModel",
            "description_width": "",
            "_view_module": "@jupyter-widgets/base",
            "_model_module_version": "1.5.0",
            "_view_count": null,
            "_view_module_version": "1.2.0",
            "_model_module": "@jupyter-widgets/controls"
          }
        },
        "5cb377d89ea248f7951dd491a86b8b20": {
          "model_module": "@jupyter-widgets/base",
          "model_name": "LayoutModel",
          "model_module_version": "1.2.0",
          "state": {
            "_view_name": "LayoutView",
            "grid_template_rows": null,
            "right": null,
            "justify_content": null,
            "_view_module": "@jupyter-widgets/base",
            "overflow": null,
            "_model_module_version": "1.2.0",
            "_view_count": null,
            "flex_flow": null,
            "width": null,
            "min_width": null,
            "border": null,
            "align_items": null,
            "bottom": null,
            "_model_module": "@jupyter-widgets/base",
            "top": null,
            "grid_column": null,
            "overflow_y": null,
            "overflow_x": null,
            "grid_auto_flow": null,
            "grid_area": null,
            "grid_template_columns": null,
            "flex": null,
            "_model_name": "LayoutModel",
            "justify_items": null,
            "grid_row": null,
            "max_height": null,
            "align_content": null,
            "visibility": null,
            "align_self": null,
            "height": null,
            "min_height": null,
            "padding": null,
            "grid_auto_rows": null,
            "grid_gap": null,
            "max_width": null,
            "order": null,
            "_view_module_version": "1.2.0",
            "grid_template_areas": null,
            "object_position": null,
            "object_fit": null,
            "grid_auto_columns": null,
            "margin": null,
            "display": null,
            "left": null
          }
        },
        "17ef773b350343bc8987ba8ea3f13723": {
          "model_module": "@jupyter-widgets/controls",
          "model_name": "ProgressStyleModel",
          "model_module_version": "1.5.0",
          "state": {
            "_view_name": "StyleView",
            "_model_name": "ProgressStyleModel",
            "description_width": "",
            "_view_module": "@jupyter-widgets/base",
            "_model_module_version": "1.5.0",
            "_view_count": null,
            "_view_module_version": "1.2.0",
            "bar_color": null,
            "_model_module": "@jupyter-widgets/controls"
          }
        },
        "1afb5a49f52e44eca7525560d2b52ec7": {
          "model_module": "@jupyter-widgets/base",
          "model_name": "LayoutModel",
          "model_module_version": "1.2.0",
          "state": {
            "_view_name": "LayoutView",
            "grid_template_rows": null,
            "right": null,
            "justify_content": null,
            "_view_module": "@jupyter-widgets/base",
            "overflow": null,
            "_model_module_version": "1.2.0",
            "_view_count": null,
            "flex_flow": null,
            "width": "20px",
            "min_width": null,
            "border": null,
            "align_items": null,
            "bottom": null,
            "_model_module": "@jupyter-widgets/base",
            "top": null,
            "grid_column": null,
            "overflow_y": null,
            "overflow_x": null,
            "grid_auto_flow": null,
            "grid_area": null,
            "grid_template_columns": null,
            "flex": null,
            "_model_name": "LayoutModel",
            "justify_items": null,
            "grid_row": null,
            "max_height": null,
            "align_content": null,
            "visibility": null,
            "align_self": null,
            "height": null,
            "min_height": null,
            "padding": null,
            "grid_auto_rows": null,
            "grid_gap": null,
            "max_width": null,
            "order": null,
            "_view_module_version": "1.2.0",
            "grid_template_areas": null,
            "object_position": null,
            "object_fit": null,
            "grid_auto_columns": null,
            "margin": null,
            "display": null,
            "left": null
          }
        },
        "3f871930d7c242bbb9c1a7ec937450a1": {
          "model_module": "@jupyter-widgets/controls",
          "model_name": "DescriptionStyleModel",
          "model_module_version": "1.5.0",
          "state": {
            "_view_name": "StyleView",
            "_model_name": "DescriptionStyleModel",
            "description_width": "",
            "_view_module": "@jupyter-widgets/base",
            "_model_module_version": "1.5.0",
            "_view_count": null,
            "_view_module_version": "1.2.0",
            "_model_module": "@jupyter-widgets/controls"
          }
        },
        "29964db82a8747f0b62b77f97b94d20a": {
          "model_module": "@jupyter-widgets/base",
          "model_name": "LayoutModel",
          "model_module_version": "1.2.0",
          "state": {
            "_view_name": "LayoutView",
            "grid_template_rows": null,
            "right": null,
            "justify_content": null,
            "_view_module": "@jupyter-widgets/base",
            "overflow": null,
            "_model_module_version": "1.2.0",
            "_view_count": null,
            "flex_flow": null,
            "width": null,
            "min_width": null,
            "border": null,
            "align_items": null,
            "bottom": null,
            "_model_module": "@jupyter-widgets/base",
            "top": null,
            "grid_column": null,
            "overflow_y": null,
            "overflow_x": null,
            "grid_auto_flow": null,
            "grid_area": null,
            "grid_template_columns": null,
            "flex": null,
            "_model_name": "LayoutModel",
            "justify_items": null,
            "grid_row": null,
            "max_height": null,
            "align_content": null,
            "visibility": null,
            "align_self": null,
            "height": null,
            "min_height": null,
            "padding": null,
            "grid_auto_rows": null,
            "grid_gap": null,
            "max_width": null,
            "order": null,
            "_view_module_version": "1.2.0",
            "grid_template_areas": null,
            "object_position": null,
            "object_fit": null,
            "grid_auto_columns": null,
            "margin": null,
            "display": null,
            "left": null
          }
        },
        "e4fde015515d444a9a363121c0942b68": {
          "model_module": "@jupyter-widgets/controls",
          "model_name": "HBoxModel",
          "model_module_version": "1.5.0",
          "state": {
            "_view_name": "HBoxView",
            "_dom_classes": [],
            "_model_name": "HBoxModel",
            "_view_module": "@jupyter-widgets/controls",
            "_model_module_version": "1.5.0",
            "_view_count": null,
            "_view_module_version": "1.5.0",
            "box_style": "",
            "layout": "IPY_MODEL_d4f70fcff45a4b74b828d1622a49f9dc",
            "_model_module": "@jupyter-widgets/controls",
            "children": [
              "IPY_MODEL_1cc7b7c24031475e87186b293035ed48",
              "IPY_MODEL_eb340157c69f4aecb16be00244bb2ecc",
              "IPY_MODEL_8c033a999cfb4d96b1518b1eb3218977"
            ]
          }
        },
        "d4f70fcff45a4b74b828d1622a49f9dc": {
          "model_module": "@jupyter-widgets/base",
          "model_name": "LayoutModel",
          "model_module_version": "1.2.0",
          "state": {
            "_view_name": "LayoutView",
            "grid_template_rows": null,
            "right": null,
            "justify_content": null,
            "_view_module": "@jupyter-widgets/base",
            "overflow": null,
            "_model_module_version": "1.2.0",
            "_view_count": null,
            "flex_flow": null,
            "width": null,
            "min_width": null,
            "border": null,
            "align_items": null,
            "bottom": null,
            "_model_module": "@jupyter-widgets/base",
            "top": null,
            "grid_column": null,
            "overflow_y": null,
            "overflow_x": null,
            "grid_auto_flow": null,
            "grid_area": null,
            "grid_template_columns": null,
            "flex": null,
            "_model_name": "LayoutModel",
            "justify_items": null,
            "grid_row": null,
            "max_height": null,
            "align_content": null,
            "visibility": null,
            "align_self": null,
            "height": null,
            "min_height": null,
            "padding": null,
            "grid_auto_rows": null,
            "grid_gap": null,
            "max_width": null,
            "order": null,
            "_view_module_version": "1.2.0",
            "grid_template_areas": null,
            "object_position": null,
            "object_fit": null,
            "grid_auto_columns": null,
            "margin": null,
            "display": null,
            "left": null
          }
        },
        "1cc7b7c24031475e87186b293035ed48": {
          "model_module": "@jupyter-widgets/controls",
          "model_name": "HTMLModel",
          "model_module_version": "1.5.0",
          "state": {
            "_view_name": "HTMLView",
            "style": "IPY_MODEL_0cdf7a6e3fd747188aa893452bdf46d6",
            "_dom_classes": [],
            "description": "",
            "_model_name": "HTMLModel",
            "placeholder": "​",
            "_view_module": "@jupyter-widgets/controls",
            "_model_module_version": "1.5.0",
            "value": "",
            "_view_count": null,
            "_view_module_version": "1.5.0",
            "description_tooltip": null,
            "_model_module": "@jupyter-widgets/controls",
            "layout": "IPY_MODEL_da4e4969435a4848990c92aa6a5cff66"
          }
        },
        "eb340157c69f4aecb16be00244bb2ecc": {
          "model_module": "@jupyter-widgets/controls",
          "model_name": "FloatProgressModel",
          "model_module_version": "1.5.0",
          "state": {
            "_view_name": "ProgressView",
            "style": "IPY_MODEL_76616b2283eb4791a524e6c8244de162",
            "_dom_classes": [],
            "description": "",
            "_model_name": "FloatProgressModel",
            "bar_style": "info",
            "max": 1,
            "_view_module": "@jupyter-widgets/controls",
            "_model_module_version": "1.5.0",
            "value": 1,
            "_view_count": null,
            "_view_module_version": "1.5.0",
            "orientation": "horizontal",
            "min": 0,
            "description_tooltip": null,
            "_model_module": "@jupyter-widgets/controls",
            "layout": "IPY_MODEL_fbf70e2230e04246b84793e9cc481574"
          }
        },
        "8c033a999cfb4d96b1518b1eb3218977": {
          "model_module": "@jupyter-widgets/controls",
          "model_name": "HTMLModel",
          "model_module_version": "1.5.0",
          "state": {
            "_view_name": "HTMLView",
            "style": "IPY_MODEL_74c80de0f2614fc480aab87a75e03cea",
            "_dom_classes": [],
            "description": "",
            "_model_name": "HTMLModel",
            "placeholder": "​",
            "_view_module": "@jupyter-widgets/controls",
            "_model_module_version": "1.5.0",
            "value": " 24914/0 [00:11&lt;00:00, 3053.49 examples/s]",
            "_view_count": null,
            "_view_module_version": "1.5.0",
            "description_tooltip": null,
            "_model_module": "@jupyter-widgets/controls",
            "layout": "IPY_MODEL_4436a572da1c43e79db9c8d26a6e67c6"
          }
        },
        "0cdf7a6e3fd747188aa893452bdf46d6": {
          "model_module": "@jupyter-widgets/controls",
          "model_name": "DescriptionStyleModel",
          "model_module_version": "1.5.0",
          "state": {
            "_view_name": "StyleView",
            "_model_name": "DescriptionStyleModel",
            "description_width": "",
            "_view_module": "@jupyter-widgets/base",
            "_model_module_version": "1.5.0",
            "_view_count": null,
            "_view_module_version": "1.2.0",
            "_model_module": "@jupyter-widgets/controls"
          }
        },
        "da4e4969435a4848990c92aa6a5cff66": {
          "model_module": "@jupyter-widgets/base",
          "model_name": "LayoutModel",
          "model_module_version": "1.2.0",
          "state": {
            "_view_name": "LayoutView",
            "grid_template_rows": null,
            "right": null,
            "justify_content": null,
            "_view_module": "@jupyter-widgets/base",
            "overflow": null,
            "_model_module_version": "1.2.0",
            "_view_count": null,
            "flex_flow": null,
            "width": null,
            "min_width": null,
            "border": null,
            "align_items": null,
            "bottom": null,
            "_model_module": "@jupyter-widgets/base",
            "top": null,
            "grid_column": null,
            "overflow_y": null,
            "overflow_x": null,
            "grid_auto_flow": null,
            "grid_area": null,
            "grid_template_columns": null,
            "flex": null,
            "_model_name": "LayoutModel",
            "justify_items": null,
            "grid_row": null,
            "max_height": null,
            "align_content": null,
            "visibility": null,
            "align_self": null,
            "height": null,
            "min_height": null,
            "padding": null,
            "grid_auto_rows": null,
            "grid_gap": null,
            "max_width": null,
            "order": null,
            "_view_module_version": "1.2.0",
            "grid_template_areas": null,
            "object_position": null,
            "object_fit": null,
            "grid_auto_columns": null,
            "margin": null,
            "display": null,
            "left": null
          }
        },
        "76616b2283eb4791a524e6c8244de162": {
          "model_module": "@jupyter-widgets/controls",
          "model_name": "ProgressStyleModel",
          "model_module_version": "1.5.0",
          "state": {
            "_view_name": "StyleView",
            "_model_name": "ProgressStyleModel",
            "description_width": "",
            "_view_module": "@jupyter-widgets/base",
            "_model_module_version": "1.5.0",
            "_view_count": null,
            "_view_module_version": "1.2.0",
            "bar_color": null,
            "_model_module": "@jupyter-widgets/controls"
          }
        },
        "fbf70e2230e04246b84793e9cc481574": {
          "model_module": "@jupyter-widgets/base",
          "model_name": "LayoutModel",
          "model_module_version": "1.2.0",
          "state": {
            "_view_name": "LayoutView",
            "grid_template_rows": null,
            "right": null,
            "justify_content": null,
            "_view_module": "@jupyter-widgets/base",
            "overflow": null,
            "_model_module_version": "1.2.0",
            "_view_count": null,
            "flex_flow": null,
            "width": "20px",
            "min_width": null,
            "border": null,
            "align_items": null,
            "bottom": null,
            "_model_module": "@jupyter-widgets/base",
            "top": null,
            "grid_column": null,
            "overflow_y": null,
            "overflow_x": null,
            "grid_auto_flow": null,
            "grid_area": null,
            "grid_template_columns": null,
            "flex": null,
            "_model_name": "LayoutModel",
            "justify_items": null,
            "grid_row": null,
            "max_height": null,
            "align_content": null,
            "visibility": null,
            "align_self": null,
            "height": null,
            "min_height": null,
            "padding": null,
            "grid_auto_rows": null,
            "grid_gap": null,
            "max_width": null,
            "order": null,
            "_view_module_version": "1.2.0",
            "grid_template_areas": null,
            "object_position": null,
            "object_fit": null,
            "grid_auto_columns": null,
            "margin": null,
            "display": null,
            "left": null
          }
        },
        "74c80de0f2614fc480aab87a75e03cea": {
          "model_module": "@jupyter-widgets/controls",
          "model_name": "DescriptionStyleModel",
          "model_module_version": "1.5.0",
          "state": {
            "_view_name": "StyleView",
            "_model_name": "DescriptionStyleModel",
            "description_width": "",
            "_view_module": "@jupyter-widgets/base",
            "_model_module_version": "1.5.0",
            "_view_count": null,
            "_view_module_version": "1.2.0",
            "_model_module": "@jupyter-widgets/controls"
          }
        },
        "4436a572da1c43e79db9c8d26a6e67c6": {
          "model_module": "@jupyter-widgets/base",
          "model_name": "LayoutModel",
          "model_module_version": "1.2.0",
          "state": {
            "_view_name": "LayoutView",
            "grid_template_rows": null,
            "right": null,
            "justify_content": null,
            "_view_module": "@jupyter-widgets/base",
            "overflow": null,
            "_model_module_version": "1.2.0",
            "_view_count": null,
            "flex_flow": null,
            "width": null,
            "min_width": null,
            "border": null,
            "align_items": null,
            "bottom": null,
            "_model_module": "@jupyter-widgets/base",
            "top": null,
            "grid_column": null,
            "overflow_y": null,
            "overflow_x": null,
            "grid_auto_flow": null,
            "grid_area": null,
            "grid_template_columns": null,
            "flex": null,
            "_model_name": "LayoutModel",
            "justify_items": null,
            "grid_row": null,
            "max_height": null,
            "align_content": null,
            "visibility": null,
            "align_self": null,
            "height": null,
            "min_height": null,
            "padding": null,
            "grid_auto_rows": null,
            "grid_gap": null,
            "max_width": null,
            "order": null,
            "_view_module_version": "1.2.0",
            "grid_template_areas": null,
            "object_position": null,
            "object_fit": null,
            "grid_auto_columns": null,
            "margin": null,
            "display": null,
            "left": null
          }
        },
        "8352aa24df164131a8f62f0d6e5271fb": {
          "model_module": "@jupyter-widgets/controls",
          "model_name": "HBoxModel",
          "model_module_version": "1.5.0",
          "state": {
            "_view_name": "HBoxView",
            "_dom_classes": [],
            "_model_name": "HBoxModel",
            "_view_module": "@jupyter-widgets/controls",
            "_model_module_version": "1.5.0",
            "_view_count": null,
            "_view_module_version": "1.5.0",
            "box_style": "",
            "layout": "IPY_MODEL_1fa418bfd9614dfba8c3b15aa6fafa06",
            "_model_module": "@jupyter-widgets/controls",
            "children": [
              "IPY_MODEL_33d12e3f03574ba3a7099b15b6758c04",
              "IPY_MODEL_68215837eb834a118ac32605f7bd6d70",
              "IPY_MODEL_f8f15c9c32584b79b748bd7eb7d912d8"
            ]
          }
        },
        "1fa418bfd9614dfba8c3b15aa6fafa06": {
          "model_module": "@jupyter-widgets/base",
          "model_name": "LayoutModel",
          "model_module_version": "1.2.0",
          "state": {
            "_view_name": "LayoutView",
            "grid_template_rows": null,
            "right": null,
            "justify_content": null,
            "_view_module": "@jupyter-widgets/base",
            "overflow": null,
            "_model_module_version": "1.2.0",
            "_view_count": null,
            "flex_flow": null,
            "width": null,
            "min_width": null,
            "border": null,
            "align_items": null,
            "bottom": null,
            "_model_module": "@jupyter-widgets/base",
            "top": null,
            "grid_column": null,
            "overflow_y": null,
            "overflow_x": null,
            "grid_auto_flow": null,
            "grid_area": null,
            "grid_template_columns": null,
            "flex": null,
            "_model_name": "LayoutModel",
            "justify_items": null,
            "grid_row": null,
            "max_height": null,
            "align_content": null,
            "visibility": null,
            "align_self": null,
            "height": null,
            "min_height": null,
            "padding": null,
            "grid_auto_rows": null,
            "grid_gap": null,
            "max_width": null,
            "order": null,
            "_view_module_version": "1.2.0",
            "grid_template_areas": null,
            "object_position": null,
            "object_fit": null,
            "grid_auto_columns": null,
            "margin": null,
            "display": null,
            "left": null
          }
        },
        "33d12e3f03574ba3a7099b15b6758c04": {
          "model_module": "@jupyter-widgets/controls",
          "model_name": "HTMLModel",
          "model_module_version": "1.5.0",
          "state": {
            "_view_name": "HTMLView",
            "style": "IPY_MODEL_b0ac08f87d9a4c5bb6f1a070ccc2e2ab",
            "_dom_classes": [],
            "description": "",
            "_model_name": "HTMLModel",
            "placeholder": "​",
            "_view_module": "@jupyter-widgets/controls",
            "_model_module_version": "1.5.0",
            "value": "100%",
            "_view_count": null,
            "_view_module_version": "1.5.0",
            "description_tooltip": null,
            "_model_module": "@jupyter-widgets/controls",
            "layout": "IPY_MODEL_fc3d1e9c416f4a7998ee833022a3ff51"
          }
        },
        "68215837eb834a118ac32605f7bd6d70": {
          "model_module": "@jupyter-widgets/controls",
          "model_name": "FloatProgressModel",
          "model_module_version": "1.5.0",
          "state": {
            "_view_name": "ProgressView",
            "style": "IPY_MODEL_163d8c98c7824a6091f0489d89362e28",
            "_dom_classes": [],
            "description": "",
            "_model_name": "FloatProgressModel",
            "bar_style": "danger",
            "max": 25000,
            "_view_module": "@jupyter-widgets/controls",
            "_model_module_version": "1.5.0",
            "value": 24999,
            "_view_count": null,
            "_view_module_version": "1.5.0",
            "orientation": "horizontal",
            "min": 0,
            "description_tooltip": null,
            "_model_module": "@jupyter-widgets/controls",
            "layout": "IPY_MODEL_1fd1b079bfb94ca68173dedcbb4f3893"
          }
        },
        "f8f15c9c32584b79b748bd7eb7d912d8": {
          "model_module": "@jupyter-widgets/controls",
          "model_name": "HTMLModel",
          "model_module_version": "1.5.0",
          "state": {
            "_view_name": "HTMLView",
            "style": "IPY_MODEL_ed75b3f6e78e4e6a9419f0a27681ac2d",
            "_dom_classes": [],
            "description": "",
            "_model_name": "HTMLModel",
            "placeholder": "​",
            "_view_module": "@jupyter-widgets/controls",
            "_model_module_version": "1.5.0",
            "value": " 24999/25000 [00:00&lt;00:00, 45381.06 examples/s]",
            "_view_count": null,
            "_view_module_version": "1.5.0",
            "description_tooltip": null,
            "_model_module": "@jupyter-widgets/controls",
            "layout": "IPY_MODEL_6a8d707f705a4d7a8aca3574573eb1fb"
          }
        },
        "b0ac08f87d9a4c5bb6f1a070ccc2e2ab": {
          "model_module": "@jupyter-widgets/controls",
          "model_name": "DescriptionStyleModel",
          "model_module_version": "1.5.0",
          "state": {
            "_view_name": "StyleView",
            "_model_name": "DescriptionStyleModel",
            "description_width": "",
            "_view_module": "@jupyter-widgets/base",
            "_model_module_version": "1.5.0",
            "_view_count": null,
            "_view_module_version": "1.2.0",
            "_model_module": "@jupyter-widgets/controls"
          }
        },
        "fc3d1e9c416f4a7998ee833022a3ff51": {
          "model_module": "@jupyter-widgets/base",
          "model_name": "LayoutModel",
          "model_module_version": "1.2.0",
          "state": {
            "_view_name": "LayoutView",
            "grid_template_rows": null,
            "right": null,
            "justify_content": null,
            "_view_module": "@jupyter-widgets/base",
            "overflow": null,
            "_model_module_version": "1.2.0",
            "_view_count": null,
            "flex_flow": null,
            "width": null,
            "min_width": null,
            "border": null,
            "align_items": null,
            "bottom": null,
            "_model_module": "@jupyter-widgets/base",
            "top": null,
            "grid_column": null,
            "overflow_y": null,
            "overflow_x": null,
            "grid_auto_flow": null,
            "grid_area": null,
            "grid_template_columns": null,
            "flex": null,
            "_model_name": "LayoutModel",
            "justify_items": null,
            "grid_row": null,
            "max_height": null,
            "align_content": null,
            "visibility": null,
            "align_self": null,
            "height": null,
            "min_height": null,
            "padding": null,
            "grid_auto_rows": null,
            "grid_gap": null,
            "max_width": null,
            "order": null,
            "_view_module_version": "1.2.0",
            "grid_template_areas": null,
            "object_position": null,
            "object_fit": null,
            "grid_auto_columns": null,
            "margin": null,
            "display": null,
            "left": null
          }
        },
        "163d8c98c7824a6091f0489d89362e28": {
          "model_module": "@jupyter-widgets/controls",
          "model_name": "ProgressStyleModel",
          "model_module_version": "1.5.0",
          "state": {
            "_view_name": "StyleView",
            "_model_name": "ProgressStyleModel",
            "description_width": "",
            "_view_module": "@jupyter-widgets/base",
            "_model_module_version": "1.5.0",
            "_view_count": null,
            "_view_module_version": "1.2.0",
            "bar_color": null,
            "_model_module": "@jupyter-widgets/controls"
          }
        },
        "1fd1b079bfb94ca68173dedcbb4f3893": {
          "model_module": "@jupyter-widgets/base",
          "model_name": "LayoutModel",
          "model_module_version": "1.2.0",
          "state": {
            "_view_name": "LayoutView",
            "grid_template_rows": null,
            "right": null,
            "justify_content": null,
            "_view_module": "@jupyter-widgets/base",
            "overflow": null,
            "_model_module_version": "1.2.0",
            "_view_count": null,
            "flex_flow": null,
            "width": null,
            "min_width": null,
            "border": null,
            "align_items": null,
            "bottom": null,
            "_model_module": "@jupyter-widgets/base",
            "top": null,
            "grid_column": null,
            "overflow_y": null,
            "overflow_x": null,
            "grid_auto_flow": null,
            "grid_area": null,
            "grid_template_columns": null,
            "flex": null,
            "_model_name": "LayoutModel",
            "justify_items": null,
            "grid_row": null,
            "max_height": null,
            "align_content": null,
            "visibility": null,
            "align_self": null,
            "height": null,
            "min_height": null,
            "padding": null,
            "grid_auto_rows": null,
            "grid_gap": null,
            "max_width": null,
            "order": null,
            "_view_module_version": "1.2.0",
            "grid_template_areas": null,
            "object_position": null,
            "object_fit": null,
            "grid_auto_columns": null,
            "margin": null,
            "display": null,
            "left": null
          }
        },
        "ed75b3f6e78e4e6a9419f0a27681ac2d": {
          "model_module": "@jupyter-widgets/controls",
          "model_name": "DescriptionStyleModel",
          "model_module_version": "1.5.0",
          "state": {
            "_view_name": "StyleView",
            "_model_name": "DescriptionStyleModel",
            "description_width": "",
            "_view_module": "@jupyter-widgets/base",
            "_model_module_version": "1.5.0",
            "_view_count": null,
            "_view_module_version": "1.2.0",
            "_model_module": "@jupyter-widgets/controls"
          }
        },
        "6a8d707f705a4d7a8aca3574573eb1fb": {
          "model_module": "@jupyter-widgets/base",
          "model_name": "LayoutModel",
          "model_module_version": "1.2.0",
          "state": {
            "_view_name": "LayoutView",
            "grid_template_rows": null,
            "right": null,
            "justify_content": null,
            "_view_module": "@jupyter-widgets/base",
            "overflow": null,
            "_model_module_version": "1.2.0",
            "_view_count": null,
            "flex_flow": null,
            "width": null,
            "min_width": null,
            "border": null,
            "align_items": null,
            "bottom": null,
            "_model_module": "@jupyter-widgets/base",
            "top": null,
            "grid_column": null,
            "overflow_y": null,
            "overflow_x": null,
            "grid_auto_flow": null,
            "grid_area": null,
            "grid_template_columns": null,
            "flex": null,
            "_model_name": "LayoutModel",
            "justify_items": null,
            "grid_row": null,
            "max_height": null,
            "align_content": null,
            "visibility": null,
            "align_self": null,
            "height": null,
            "min_height": null,
            "padding": null,
            "grid_auto_rows": null,
            "grid_gap": null,
            "max_width": null,
            "order": null,
            "_view_module_version": "1.2.0",
            "grid_template_areas": null,
            "object_position": null,
            "object_fit": null,
            "grid_auto_columns": null,
            "margin": null,
            "display": null,
            "left": null
          }
        },
        "33e6843051f14ae9b4538974f1a0fdb5": {
          "model_module": "@jupyter-widgets/controls",
          "model_name": "HBoxModel",
          "model_module_version": "1.5.0",
          "state": {
            "_view_name": "HBoxView",
            "_dom_classes": [],
            "_model_name": "HBoxModel",
            "_view_module": "@jupyter-widgets/controls",
            "_model_module_version": "1.5.0",
            "_view_count": null,
            "_view_module_version": "1.5.0",
            "box_style": "",
            "layout": "IPY_MODEL_ec606a62a34a4adb9d3fcd0d54386d5c",
            "_model_module": "@jupyter-widgets/controls",
            "children": [
              "IPY_MODEL_7a286a8a6b074edba88a0f3a2dbcc25a",
              "IPY_MODEL_7715e05893984a37996d5515b9d78a6d",
              "IPY_MODEL_060c14e7cde043bb8e0fe899a979663a"
            ]
          }
        },
        "ec606a62a34a4adb9d3fcd0d54386d5c": {
          "model_module": "@jupyter-widgets/base",
          "model_name": "LayoutModel",
          "model_module_version": "1.2.0",
          "state": {
            "_view_name": "LayoutView",
            "grid_template_rows": null,
            "right": null,
            "justify_content": null,
            "_view_module": "@jupyter-widgets/base",
            "overflow": null,
            "_model_module_version": "1.2.0",
            "_view_count": null,
            "flex_flow": null,
            "width": null,
            "min_width": null,
            "border": null,
            "align_items": null,
            "bottom": null,
            "_model_module": "@jupyter-widgets/base",
            "top": null,
            "grid_column": null,
            "overflow_y": null,
            "overflow_x": null,
            "grid_auto_flow": null,
            "grid_area": null,
            "grid_template_columns": null,
            "flex": null,
            "_model_name": "LayoutModel",
            "justify_items": null,
            "grid_row": null,
            "max_height": null,
            "align_content": null,
            "visibility": null,
            "align_self": null,
            "height": null,
            "min_height": null,
            "padding": null,
            "grid_auto_rows": null,
            "grid_gap": null,
            "max_width": null,
            "order": null,
            "_view_module_version": "1.2.0",
            "grid_template_areas": null,
            "object_position": null,
            "object_fit": null,
            "grid_auto_columns": null,
            "margin": null,
            "display": null,
            "left": null
          }
        },
        "7a286a8a6b074edba88a0f3a2dbcc25a": {
          "model_module": "@jupyter-widgets/controls",
          "model_name": "HTMLModel",
          "model_module_version": "1.5.0",
          "state": {
            "_view_name": "HTMLView",
            "style": "IPY_MODEL_76ecd52773ec4835a2d8aee68a6e098f",
            "_dom_classes": [],
            "description": "",
            "_model_name": "HTMLModel",
            "placeholder": "​",
            "_view_module": "@jupyter-widgets/controls",
            "_model_module_version": "1.5.0",
            "value": "",
            "_view_count": null,
            "_view_module_version": "1.5.0",
            "description_tooltip": null,
            "_model_module": "@jupyter-widgets/controls",
            "layout": "IPY_MODEL_fed661cec9d648c7b13bbed9af006520"
          }
        },
        "7715e05893984a37996d5515b9d78a6d": {
          "model_module": "@jupyter-widgets/controls",
          "model_name": "FloatProgressModel",
          "model_module_version": "1.5.0",
          "state": {
            "_view_name": "ProgressView",
            "style": "IPY_MODEL_9fd0b3f3bb4e45c3945241183b1ce06c",
            "_dom_classes": [],
            "description": "",
            "_model_name": "FloatProgressModel",
            "bar_style": "info",
            "max": 1,
            "_view_module": "@jupyter-widgets/controls",
            "_model_module_version": "1.5.0",
            "value": 1,
            "_view_count": null,
            "_view_module_version": "1.5.0",
            "orientation": "horizontal",
            "min": 0,
            "description_tooltip": null,
            "_model_module": "@jupyter-widgets/controls",
            "layout": "IPY_MODEL_4931f99896934ad98300eeb11014208d"
          }
        },
        "060c14e7cde043bb8e0fe899a979663a": {
          "model_module": "@jupyter-widgets/controls",
          "model_name": "HTMLModel",
          "model_module_version": "1.5.0",
          "state": {
            "_view_name": "HTMLView",
            "style": "IPY_MODEL_2fe84b5e0251446c9abdac03d57915ff",
            "_dom_classes": [],
            "description": "",
            "_model_name": "HTMLModel",
            "placeholder": "​",
            "_view_module": "@jupyter-widgets/controls",
            "_model_module_version": "1.5.0",
            "value": " 24834/0 [00:08&lt;00:00, 3161.20 examples/s]",
            "_view_count": null,
            "_view_module_version": "1.5.0",
            "description_tooltip": null,
            "_model_module": "@jupyter-widgets/controls",
            "layout": "IPY_MODEL_3f4239000c3e4c9cab06d019bac2776d"
          }
        },
        "76ecd52773ec4835a2d8aee68a6e098f": {
          "model_module": "@jupyter-widgets/controls",
          "model_name": "DescriptionStyleModel",
          "model_module_version": "1.5.0",
          "state": {
            "_view_name": "StyleView",
            "_model_name": "DescriptionStyleModel",
            "description_width": "",
            "_view_module": "@jupyter-widgets/base",
            "_model_module_version": "1.5.0",
            "_view_count": null,
            "_view_module_version": "1.2.0",
            "_model_module": "@jupyter-widgets/controls"
          }
        },
        "fed661cec9d648c7b13bbed9af006520": {
          "model_module": "@jupyter-widgets/base",
          "model_name": "LayoutModel",
          "model_module_version": "1.2.0",
          "state": {
            "_view_name": "LayoutView",
            "grid_template_rows": null,
            "right": null,
            "justify_content": null,
            "_view_module": "@jupyter-widgets/base",
            "overflow": null,
            "_model_module_version": "1.2.0",
            "_view_count": null,
            "flex_flow": null,
            "width": null,
            "min_width": null,
            "border": null,
            "align_items": null,
            "bottom": null,
            "_model_module": "@jupyter-widgets/base",
            "top": null,
            "grid_column": null,
            "overflow_y": null,
            "overflow_x": null,
            "grid_auto_flow": null,
            "grid_area": null,
            "grid_template_columns": null,
            "flex": null,
            "_model_name": "LayoutModel",
            "justify_items": null,
            "grid_row": null,
            "max_height": null,
            "align_content": null,
            "visibility": null,
            "align_self": null,
            "height": null,
            "min_height": null,
            "padding": null,
            "grid_auto_rows": null,
            "grid_gap": null,
            "max_width": null,
            "order": null,
            "_view_module_version": "1.2.0",
            "grid_template_areas": null,
            "object_position": null,
            "object_fit": null,
            "grid_auto_columns": null,
            "margin": null,
            "display": null,
            "left": null
          }
        },
        "9fd0b3f3bb4e45c3945241183b1ce06c": {
          "model_module": "@jupyter-widgets/controls",
          "model_name": "ProgressStyleModel",
          "model_module_version": "1.5.0",
          "state": {
            "_view_name": "StyleView",
            "_model_name": "ProgressStyleModel",
            "description_width": "",
            "_view_module": "@jupyter-widgets/base",
            "_model_module_version": "1.5.0",
            "_view_count": null,
            "_view_module_version": "1.2.0",
            "bar_color": null,
            "_model_module": "@jupyter-widgets/controls"
          }
        },
        "4931f99896934ad98300eeb11014208d": {
          "model_module": "@jupyter-widgets/base",
          "model_name": "LayoutModel",
          "model_module_version": "1.2.0",
          "state": {
            "_view_name": "LayoutView",
            "grid_template_rows": null,
            "right": null,
            "justify_content": null,
            "_view_module": "@jupyter-widgets/base",
            "overflow": null,
            "_model_module_version": "1.2.0",
            "_view_count": null,
            "flex_flow": null,
            "width": "20px",
            "min_width": null,
            "border": null,
            "align_items": null,
            "bottom": null,
            "_model_module": "@jupyter-widgets/base",
            "top": null,
            "grid_column": null,
            "overflow_y": null,
            "overflow_x": null,
            "grid_auto_flow": null,
            "grid_area": null,
            "grid_template_columns": null,
            "flex": null,
            "_model_name": "LayoutModel",
            "justify_items": null,
            "grid_row": null,
            "max_height": null,
            "align_content": null,
            "visibility": null,
            "align_self": null,
            "height": null,
            "min_height": null,
            "padding": null,
            "grid_auto_rows": null,
            "grid_gap": null,
            "max_width": null,
            "order": null,
            "_view_module_version": "1.2.0",
            "grid_template_areas": null,
            "object_position": null,
            "object_fit": null,
            "grid_auto_columns": null,
            "margin": null,
            "display": null,
            "left": null
          }
        },
        "2fe84b5e0251446c9abdac03d57915ff": {
          "model_module": "@jupyter-widgets/controls",
          "model_name": "DescriptionStyleModel",
          "model_module_version": "1.5.0",
          "state": {
            "_view_name": "StyleView",
            "_model_name": "DescriptionStyleModel",
            "description_width": "",
            "_view_module": "@jupyter-widgets/base",
            "_model_module_version": "1.5.0",
            "_view_count": null,
            "_view_module_version": "1.2.0",
            "_model_module": "@jupyter-widgets/controls"
          }
        },
        "3f4239000c3e4c9cab06d019bac2776d": {
          "model_module": "@jupyter-widgets/base",
          "model_name": "LayoutModel",
          "model_module_version": "1.2.0",
          "state": {
            "_view_name": "LayoutView",
            "grid_template_rows": null,
            "right": null,
            "justify_content": null,
            "_view_module": "@jupyter-widgets/base",
            "overflow": null,
            "_model_module_version": "1.2.0",
            "_view_count": null,
            "flex_flow": null,
            "width": null,
            "min_width": null,
            "border": null,
            "align_items": null,
            "bottom": null,
            "_model_module": "@jupyter-widgets/base",
            "top": null,
            "grid_column": null,
            "overflow_y": null,
            "overflow_x": null,
            "grid_auto_flow": null,
            "grid_area": null,
            "grid_template_columns": null,
            "flex": null,
            "_model_name": "LayoutModel",
            "justify_items": null,
            "grid_row": null,
            "max_height": null,
            "align_content": null,
            "visibility": null,
            "align_self": null,
            "height": null,
            "min_height": null,
            "padding": null,
            "grid_auto_rows": null,
            "grid_gap": null,
            "max_width": null,
            "order": null,
            "_view_module_version": "1.2.0",
            "grid_template_areas": null,
            "object_position": null,
            "object_fit": null,
            "grid_auto_columns": null,
            "margin": null,
            "display": null,
            "left": null
          }
        },
        "2ea83ed821654e2a815cc1161fd343f7": {
          "model_module": "@jupyter-widgets/controls",
          "model_name": "HBoxModel",
          "model_module_version": "1.5.0",
          "state": {
            "_view_name": "HBoxView",
            "_dom_classes": [],
            "_model_name": "HBoxModel",
            "_view_module": "@jupyter-widgets/controls",
            "_model_module_version": "1.5.0",
            "_view_count": null,
            "_view_module_version": "1.5.0",
            "box_style": "",
            "layout": "IPY_MODEL_ca60e5d244a04090a5afc5b36306d456",
            "_model_module": "@jupyter-widgets/controls",
            "children": [
              "IPY_MODEL_a4338298a20f4f3db1049a80476cbaab",
              "IPY_MODEL_9d3816444cc347cba6b66ba0a17d7ac3",
              "IPY_MODEL_5f45915621f7453f80652c3e7150c83d"
            ]
          }
        },
        "ca60e5d244a04090a5afc5b36306d456": {
          "model_module": "@jupyter-widgets/base",
          "model_name": "LayoutModel",
          "model_module_version": "1.2.0",
          "state": {
            "_view_name": "LayoutView",
            "grid_template_rows": null,
            "right": null,
            "justify_content": null,
            "_view_module": "@jupyter-widgets/base",
            "overflow": null,
            "_model_module_version": "1.2.0",
            "_view_count": null,
            "flex_flow": null,
            "width": null,
            "min_width": null,
            "border": null,
            "align_items": null,
            "bottom": null,
            "_model_module": "@jupyter-widgets/base",
            "top": null,
            "grid_column": null,
            "overflow_y": null,
            "overflow_x": null,
            "grid_auto_flow": null,
            "grid_area": null,
            "grid_template_columns": null,
            "flex": null,
            "_model_name": "LayoutModel",
            "justify_items": null,
            "grid_row": null,
            "max_height": null,
            "align_content": null,
            "visibility": null,
            "align_self": null,
            "height": null,
            "min_height": null,
            "padding": null,
            "grid_auto_rows": null,
            "grid_gap": null,
            "max_width": null,
            "order": null,
            "_view_module_version": "1.2.0",
            "grid_template_areas": null,
            "object_position": null,
            "object_fit": null,
            "grid_auto_columns": null,
            "margin": null,
            "display": null,
            "left": null
          }
        },
        "a4338298a20f4f3db1049a80476cbaab": {
          "model_module": "@jupyter-widgets/controls",
          "model_name": "HTMLModel",
          "model_module_version": "1.5.0",
          "state": {
            "_view_name": "HTMLView",
            "style": "IPY_MODEL_7bb7ba0b5efe46648a3d2fa4ee836e68",
            "_dom_classes": [],
            "description": "",
            "_model_name": "HTMLModel",
            "placeholder": "​",
            "_view_module": "@jupyter-widgets/controls",
            "_model_module_version": "1.5.0",
            "value": "100%",
            "_view_count": null,
            "_view_module_version": "1.5.0",
            "description_tooltip": null,
            "_model_module": "@jupyter-widgets/controls",
            "layout": "IPY_MODEL_f01d6b2ab96e4062bd754f8317ad15d5"
          }
        },
        "9d3816444cc347cba6b66ba0a17d7ac3": {
          "model_module": "@jupyter-widgets/controls",
          "model_name": "FloatProgressModel",
          "model_module_version": "1.5.0",
          "state": {
            "_view_name": "ProgressView",
            "style": "IPY_MODEL_a8139aedeebb46839eb5a8daa457e888",
            "_dom_classes": [],
            "description": "",
            "_model_name": "FloatProgressModel",
            "bar_style": "danger",
            "max": 25000,
            "_view_module": "@jupyter-widgets/controls",
            "_model_module_version": "1.5.0",
            "value": 24999,
            "_view_count": null,
            "_view_module_version": "1.5.0",
            "orientation": "horizontal",
            "min": 0,
            "description_tooltip": null,
            "_model_module": "@jupyter-widgets/controls",
            "layout": "IPY_MODEL_1c8d97e34ef8435ebebce4517c96dbb2"
          }
        },
        "5f45915621f7453f80652c3e7150c83d": {
          "model_module": "@jupyter-widgets/controls",
          "model_name": "HTMLModel",
          "model_module_version": "1.5.0",
          "state": {
            "_view_name": "HTMLView",
            "style": "IPY_MODEL_a994be11aff941b1933717856ac8c37e",
            "_dom_classes": [],
            "description": "",
            "_model_name": "HTMLModel",
            "placeholder": "​",
            "_view_module": "@jupyter-widgets/controls",
            "_model_module_version": "1.5.0",
            "value": " 24999/25000 [00:00&lt;00:00, 63221.32 examples/s]",
            "_view_count": null,
            "_view_module_version": "1.5.0",
            "description_tooltip": null,
            "_model_module": "@jupyter-widgets/controls",
            "layout": "IPY_MODEL_d7cb6013bdd5410aba315e8597a494ad"
          }
        },
        "7bb7ba0b5efe46648a3d2fa4ee836e68": {
          "model_module": "@jupyter-widgets/controls",
          "model_name": "DescriptionStyleModel",
          "model_module_version": "1.5.0",
          "state": {
            "_view_name": "StyleView",
            "_model_name": "DescriptionStyleModel",
            "description_width": "",
            "_view_module": "@jupyter-widgets/base",
            "_model_module_version": "1.5.0",
            "_view_count": null,
            "_view_module_version": "1.2.0",
            "_model_module": "@jupyter-widgets/controls"
          }
        },
        "f01d6b2ab96e4062bd754f8317ad15d5": {
          "model_module": "@jupyter-widgets/base",
          "model_name": "LayoutModel",
          "model_module_version": "1.2.0",
          "state": {
            "_view_name": "LayoutView",
            "grid_template_rows": null,
            "right": null,
            "justify_content": null,
            "_view_module": "@jupyter-widgets/base",
            "overflow": null,
            "_model_module_version": "1.2.0",
            "_view_count": null,
            "flex_flow": null,
            "width": null,
            "min_width": null,
            "border": null,
            "align_items": null,
            "bottom": null,
            "_model_module": "@jupyter-widgets/base",
            "top": null,
            "grid_column": null,
            "overflow_y": null,
            "overflow_x": null,
            "grid_auto_flow": null,
            "grid_area": null,
            "grid_template_columns": null,
            "flex": null,
            "_model_name": "LayoutModel",
            "justify_items": null,
            "grid_row": null,
            "max_height": null,
            "align_content": null,
            "visibility": null,
            "align_self": null,
            "height": null,
            "min_height": null,
            "padding": null,
            "grid_auto_rows": null,
            "grid_gap": null,
            "max_width": null,
            "order": null,
            "_view_module_version": "1.2.0",
            "grid_template_areas": null,
            "object_position": null,
            "object_fit": null,
            "grid_auto_columns": null,
            "margin": null,
            "display": null,
            "left": null
          }
        },
        "a8139aedeebb46839eb5a8daa457e888": {
          "model_module": "@jupyter-widgets/controls",
          "model_name": "ProgressStyleModel",
          "model_module_version": "1.5.0",
          "state": {
            "_view_name": "StyleView",
            "_model_name": "ProgressStyleModel",
            "description_width": "",
            "_view_module": "@jupyter-widgets/base",
            "_model_module_version": "1.5.0",
            "_view_count": null,
            "_view_module_version": "1.2.0",
            "bar_color": null,
            "_model_module": "@jupyter-widgets/controls"
          }
        },
        "1c8d97e34ef8435ebebce4517c96dbb2": {
          "model_module": "@jupyter-widgets/base",
          "model_name": "LayoutModel",
          "model_module_version": "1.2.0",
          "state": {
            "_view_name": "LayoutView",
            "grid_template_rows": null,
            "right": null,
            "justify_content": null,
            "_view_module": "@jupyter-widgets/base",
            "overflow": null,
            "_model_module_version": "1.2.0",
            "_view_count": null,
            "flex_flow": null,
            "width": null,
            "min_width": null,
            "border": null,
            "align_items": null,
            "bottom": null,
            "_model_module": "@jupyter-widgets/base",
            "top": null,
            "grid_column": null,
            "overflow_y": null,
            "overflow_x": null,
            "grid_auto_flow": null,
            "grid_area": null,
            "grid_template_columns": null,
            "flex": null,
            "_model_name": "LayoutModel",
            "justify_items": null,
            "grid_row": null,
            "max_height": null,
            "align_content": null,
            "visibility": null,
            "align_self": null,
            "height": null,
            "min_height": null,
            "padding": null,
            "grid_auto_rows": null,
            "grid_gap": null,
            "max_width": null,
            "order": null,
            "_view_module_version": "1.2.0",
            "grid_template_areas": null,
            "object_position": null,
            "object_fit": null,
            "grid_auto_columns": null,
            "margin": null,
            "display": null,
            "left": null
          }
        },
        "a994be11aff941b1933717856ac8c37e": {
          "model_module": "@jupyter-widgets/controls",
          "model_name": "DescriptionStyleModel",
          "model_module_version": "1.5.0",
          "state": {
            "_view_name": "StyleView",
            "_model_name": "DescriptionStyleModel",
            "description_width": "",
            "_view_module": "@jupyter-widgets/base",
            "_model_module_version": "1.5.0",
            "_view_count": null,
            "_view_module_version": "1.2.0",
            "_model_module": "@jupyter-widgets/controls"
          }
        },
        "d7cb6013bdd5410aba315e8597a494ad": {
          "model_module": "@jupyter-widgets/base",
          "model_name": "LayoutModel",
          "model_module_version": "1.2.0",
          "state": {
            "_view_name": "LayoutView",
            "grid_template_rows": null,
            "right": null,
            "justify_content": null,
            "_view_module": "@jupyter-widgets/base",
            "overflow": null,
            "_model_module_version": "1.2.0",
            "_view_count": null,
            "flex_flow": null,
            "width": null,
            "min_width": null,
            "border": null,
            "align_items": null,
            "bottom": null,
            "_model_module": "@jupyter-widgets/base",
            "top": null,
            "grid_column": null,
            "overflow_y": null,
            "overflow_x": null,
            "grid_auto_flow": null,
            "grid_area": null,
            "grid_template_columns": null,
            "flex": null,
            "_model_name": "LayoutModel",
            "justify_items": null,
            "grid_row": null,
            "max_height": null,
            "align_content": null,
            "visibility": null,
            "align_self": null,
            "height": null,
            "min_height": null,
            "padding": null,
            "grid_auto_rows": null,
            "grid_gap": null,
            "max_width": null,
            "order": null,
            "_view_module_version": "1.2.0",
            "grid_template_areas": null,
            "object_position": null,
            "object_fit": null,
            "grid_auto_columns": null,
            "margin": null,
            "display": null,
            "left": null
          }
        },
        "433298c4129a4ecfb3ddb0c07534ad66": {
          "model_module": "@jupyter-widgets/controls",
          "model_name": "HBoxModel",
          "model_module_version": "1.5.0",
          "state": {
            "_view_name": "HBoxView",
            "_dom_classes": [],
            "_model_name": "HBoxModel",
            "_view_module": "@jupyter-widgets/controls",
            "_model_module_version": "1.5.0",
            "_view_count": null,
            "_view_module_version": "1.5.0",
            "box_style": "",
            "layout": "IPY_MODEL_af7f495b89044bf8abad0d2263f31e27",
            "_model_module": "@jupyter-widgets/controls",
            "children": [
              "IPY_MODEL_53ce7c4253e849fcbd4d4b07777c705e",
              "IPY_MODEL_7adc540db5434740be0ca66ab3601b60",
              "IPY_MODEL_5cc329dd305342e1a0f3931769744753"
            ]
          }
        },
        "af7f495b89044bf8abad0d2263f31e27": {
          "model_module": "@jupyter-widgets/base",
          "model_name": "LayoutModel",
          "model_module_version": "1.2.0",
          "state": {
            "_view_name": "LayoutView",
            "grid_template_rows": null,
            "right": null,
            "justify_content": null,
            "_view_module": "@jupyter-widgets/base",
            "overflow": null,
            "_model_module_version": "1.2.0",
            "_view_count": null,
            "flex_flow": null,
            "width": null,
            "min_width": null,
            "border": null,
            "align_items": null,
            "bottom": null,
            "_model_module": "@jupyter-widgets/base",
            "top": null,
            "grid_column": null,
            "overflow_y": null,
            "overflow_x": null,
            "grid_auto_flow": null,
            "grid_area": null,
            "grid_template_columns": null,
            "flex": null,
            "_model_name": "LayoutModel",
            "justify_items": null,
            "grid_row": null,
            "max_height": null,
            "align_content": null,
            "visibility": null,
            "align_self": null,
            "height": null,
            "min_height": null,
            "padding": null,
            "grid_auto_rows": null,
            "grid_gap": null,
            "max_width": null,
            "order": null,
            "_view_module_version": "1.2.0",
            "grid_template_areas": null,
            "object_position": null,
            "object_fit": null,
            "grid_auto_columns": null,
            "margin": null,
            "display": null,
            "left": null
          }
        },
        "53ce7c4253e849fcbd4d4b07777c705e": {
          "model_module": "@jupyter-widgets/controls",
          "model_name": "HTMLModel",
          "model_module_version": "1.5.0",
          "state": {
            "_view_name": "HTMLView",
            "style": "IPY_MODEL_5d6e92782daa4895ba525aebab40d008",
            "_dom_classes": [],
            "description": "",
            "_model_name": "HTMLModel",
            "placeholder": "​",
            "_view_module": "@jupyter-widgets/controls",
            "_model_module_version": "1.5.0",
            "value": "",
            "_view_count": null,
            "_view_module_version": "1.5.0",
            "description_tooltip": null,
            "_model_module": "@jupyter-widgets/controls",
            "layout": "IPY_MODEL_4c81063201e44d40904f8a26eb42780c"
          }
        },
        "7adc540db5434740be0ca66ab3601b60": {
          "model_module": "@jupyter-widgets/controls",
          "model_name": "FloatProgressModel",
          "model_module_version": "1.5.0",
          "state": {
            "_view_name": "ProgressView",
            "style": "IPY_MODEL_00e6e14294d24aa98fe6bf9cdd35c93f",
            "_dom_classes": [],
            "description": "",
            "_model_name": "FloatProgressModel",
            "bar_style": "info",
            "max": 1,
            "_view_module": "@jupyter-widgets/controls",
            "_model_module_version": "1.5.0",
            "value": 1,
            "_view_count": null,
            "_view_module_version": "1.5.0",
            "orientation": "horizontal",
            "min": 0,
            "description_tooltip": null,
            "_model_module": "@jupyter-widgets/controls",
            "layout": "IPY_MODEL_92f380434e154e51be427e4e4c03ddaa"
          }
        },
        "5cc329dd305342e1a0f3931769744753": {
          "model_module": "@jupyter-widgets/controls",
          "model_name": "HTMLModel",
          "model_module_version": "1.5.0",
          "state": {
            "_view_name": "HTMLView",
            "style": "IPY_MODEL_2ed1bb88fa894d4aaa9829dd9c0149cb",
            "_dom_classes": [],
            "description": "",
            "_model_name": "HTMLModel",
            "placeholder": "​",
            "_view_module": "@jupyter-widgets/controls",
            "_model_module_version": "1.5.0",
            "value": " 49785/0 [00:21&lt;00:00, 3031.63 examples/s]",
            "_view_count": null,
            "_view_module_version": "1.5.0",
            "description_tooltip": null,
            "_model_module": "@jupyter-widgets/controls",
            "layout": "IPY_MODEL_7c0dc1e07c0a4801a213b43495fc0640"
          }
        },
        "5d6e92782daa4895ba525aebab40d008": {
          "model_module": "@jupyter-widgets/controls",
          "model_name": "DescriptionStyleModel",
          "model_module_version": "1.5.0",
          "state": {
            "_view_name": "StyleView",
            "_model_name": "DescriptionStyleModel",
            "description_width": "",
            "_view_module": "@jupyter-widgets/base",
            "_model_module_version": "1.5.0",
            "_view_count": null,
            "_view_module_version": "1.2.0",
            "_model_module": "@jupyter-widgets/controls"
          }
        },
        "4c81063201e44d40904f8a26eb42780c": {
          "model_module": "@jupyter-widgets/base",
          "model_name": "LayoutModel",
          "model_module_version": "1.2.0",
          "state": {
            "_view_name": "LayoutView",
            "grid_template_rows": null,
            "right": null,
            "justify_content": null,
            "_view_module": "@jupyter-widgets/base",
            "overflow": null,
            "_model_module_version": "1.2.0",
            "_view_count": null,
            "flex_flow": null,
            "width": null,
            "min_width": null,
            "border": null,
            "align_items": null,
            "bottom": null,
            "_model_module": "@jupyter-widgets/base",
            "top": null,
            "grid_column": null,
            "overflow_y": null,
            "overflow_x": null,
            "grid_auto_flow": null,
            "grid_area": null,
            "grid_template_columns": null,
            "flex": null,
            "_model_name": "LayoutModel",
            "justify_items": null,
            "grid_row": null,
            "max_height": null,
            "align_content": null,
            "visibility": null,
            "align_self": null,
            "height": null,
            "min_height": null,
            "padding": null,
            "grid_auto_rows": null,
            "grid_gap": null,
            "max_width": null,
            "order": null,
            "_view_module_version": "1.2.0",
            "grid_template_areas": null,
            "object_position": null,
            "object_fit": null,
            "grid_auto_columns": null,
            "margin": null,
            "display": null,
            "left": null
          }
        },
        "00e6e14294d24aa98fe6bf9cdd35c93f": {
          "model_module": "@jupyter-widgets/controls",
          "model_name": "ProgressStyleModel",
          "model_module_version": "1.5.0",
          "state": {
            "_view_name": "StyleView",
            "_model_name": "ProgressStyleModel",
            "description_width": "",
            "_view_module": "@jupyter-widgets/base",
            "_model_module_version": "1.5.0",
            "_view_count": null,
            "_view_module_version": "1.2.0",
            "bar_color": null,
            "_model_module": "@jupyter-widgets/controls"
          }
        },
        "92f380434e154e51be427e4e4c03ddaa": {
          "model_module": "@jupyter-widgets/base",
          "model_name": "LayoutModel",
          "model_module_version": "1.2.0",
          "state": {
            "_view_name": "LayoutView",
            "grid_template_rows": null,
            "right": null,
            "justify_content": null,
            "_view_module": "@jupyter-widgets/base",
            "overflow": null,
            "_model_module_version": "1.2.0",
            "_view_count": null,
            "flex_flow": null,
            "width": "20px",
            "min_width": null,
            "border": null,
            "align_items": null,
            "bottom": null,
            "_model_module": "@jupyter-widgets/base",
            "top": null,
            "grid_column": null,
            "overflow_y": null,
            "overflow_x": null,
            "grid_auto_flow": null,
            "grid_area": null,
            "grid_template_columns": null,
            "flex": null,
            "_model_name": "LayoutModel",
            "justify_items": null,
            "grid_row": null,
            "max_height": null,
            "align_content": null,
            "visibility": null,
            "align_self": null,
            "height": null,
            "min_height": null,
            "padding": null,
            "grid_auto_rows": null,
            "grid_gap": null,
            "max_width": null,
            "order": null,
            "_view_module_version": "1.2.0",
            "grid_template_areas": null,
            "object_position": null,
            "object_fit": null,
            "grid_auto_columns": null,
            "margin": null,
            "display": null,
            "left": null
          }
        },
        "2ed1bb88fa894d4aaa9829dd9c0149cb": {
          "model_module": "@jupyter-widgets/controls",
          "model_name": "DescriptionStyleModel",
          "model_module_version": "1.5.0",
          "state": {
            "_view_name": "StyleView",
            "_model_name": "DescriptionStyleModel",
            "description_width": "",
            "_view_module": "@jupyter-widgets/base",
            "_model_module_version": "1.5.0",
            "_view_count": null,
            "_view_module_version": "1.2.0",
            "_model_module": "@jupyter-widgets/controls"
          }
        },
        "7c0dc1e07c0a4801a213b43495fc0640": {
          "model_module": "@jupyter-widgets/base",
          "model_name": "LayoutModel",
          "model_module_version": "1.2.0",
          "state": {
            "_view_name": "LayoutView",
            "grid_template_rows": null,
            "right": null,
            "justify_content": null,
            "_view_module": "@jupyter-widgets/base",
            "overflow": null,
            "_model_module_version": "1.2.0",
            "_view_count": null,
            "flex_flow": null,
            "width": null,
            "min_width": null,
            "border": null,
            "align_items": null,
            "bottom": null,
            "_model_module": "@jupyter-widgets/base",
            "top": null,
            "grid_column": null,
            "overflow_y": null,
            "overflow_x": null,
            "grid_auto_flow": null,
            "grid_area": null,
            "grid_template_columns": null,
            "flex": null,
            "_model_name": "LayoutModel",
            "justify_items": null,
            "grid_row": null,
            "max_height": null,
            "align_content": null,
            "visibility": null,
            "align_self": null,
            "height": null,
            "min_height": null,
            "padding": null,
            "grid_auto_rows": null,
            "grid_gap": null,
            "max_width": null,
            "order": null,
            "_view_module_version": "1.2.0",
            "grid_template_areas": null,
            "object_position": null,
            "object_fit": null,
            "grid_auto_columns": null,
            "margin": null,
            "display": null,
            "left": null
          }
        },
        "d840d1ba25a24a0f9c145a38acfb5c72": {
          "model_module": "@jupyter-widgets/controls",
          "model_name": "HBoxModel",
          "model_module_version": "1.5.0",
          "state": {
            "_view_name": "HBoxView",
            "_dom_classes": [],
            "_model_name": "HBoxModel",
            "_view_module": "@jupyter-widgets/controls",
            "_model_module_version": "1.5.0",
            "_view_count": null,
            "_view_module_version": "1.5.0",
            "box_style": "",
            "layout": "IPY_MODEL_eec5611802df43d2ac393da72a01ccb0",
            "_model_module": "@jupyter-widgets/controls",
            "children": [
              "IPY_MODEL_ec3fadcd4b894ffe92ad7bf373ecff27",
              "IPY_MODEL_6487393d326d4cc3a5c15889aabf7ca0",
              "IPY_MODEL_501667b15d5b419f8886315e9ca7d33a"
            ]
          }
        },
        "eec5611802df43d2ac393da72a01ccb0": {
          "model_module": "@jupyter-widgets/base",
          "model_name": "LayoutModel",
          "model_module_version": "1.2.0",
          "state": {
            "_view_name": "LayoutView",
            "grid_template_rows": null,
            "right": null,
            "justify_content": null,
            "_view_module": "@jupyter-widgets/base",
            "overflow": null,
            "_model_module_version": "1.2.0",
            "_view_count": null,
            "flex_flow": null,
            "width": null,
            "min_width": null,
            "border": null,
            "align_items": null,
            "bottom": null,
            "_model_module": "@jupyter-widgets/base",
            "top": null,
            "grid_column": null,
            "overflow_y": null,
            "overflow_x": null,
            "grid_auto_flow": null,
            "grid_area": null,
            "grid_template_columns": null,
            "flex": null,
            "_model_name": "LayoutModel",
            "justify_items": null,
            "grid_row": null,
            "max_height": null,
            "align_content": null,
            "visibility": null,
            "align_self": null,
            "height": null,
            "min_height": null,
            "padding": null,
            "grid_auto_rows": null,
            "grid_gap": null,
            "max_width": null,
            "order": null,
            "_view_module_version": "1.2.0",
            "grid_template_areas": null,
            "object_position": null,
            "object_fit": null,
            "grid_auto_columns": null,
            "margin": null,
            "display": null,
            "left": null
          }
        },
        "ec3fadcd4b894ffe92ad7bf373ecff27": {
          "model_module": "@jupyter-widgets/controls",
          "model_name": "HTMLModel",
          "model_module_version": "1.5.0",
          "state": {
            "_view_name": "HTMLView",
            "style": "IPY_MODEL_38f46db9f0504f41a9a2175b19707a62",
            "_dom_classes": [],
            "description": "",
            "_model_name": "HTMLModel",
            "placeholder": "​",
            "_view_module": "@jupyter-widgets/controls",
            "_model_module_version": "1.5.0",
            "value": "100%",
            "_view_count": null,
            "_view_module_version": "1.5.0",
            "description_tooltip": null,
            "_model_module": "@jupyter-widgets/controls",
            "layout": "IPY_MODEL_57785bb6ee9f465ca8c27434d3a00cad"
          }
        },
        "6487393d326d4cc3a5c15889aabf7ca0": {
          "model_module": "@jupyter-widgets/controls",
          "model_name": "FloatProgressModel",
          "model_module_version": "1.5.0",
          "state": {
            "_view_name": "ProgressView",
            "style": "IPY_MODEL_7055f5b5c4d4413596be064f41a3427b",
            "_dom_classes": [],
            "description": "",
            "_model_name": "FloatProgressModel",
            "bar_style": "danger",
            "max": 50000,
            "_view_module": "@jupyter-widgets/controls",
            "_model_module_version": "1.5.0",
            "value": 49999,
            "_view_count": null,
            "_view_module_version": "1.5.0",
            "orientation": "horizontal",
            "min": 0,
            "description_tooltip": null,
            "_model_module": "@jupyter-widgets/controls",
            "layout": "IPY_MODEL_0342bc10cd3d43a88397d138a548d092"
          }
        },
        "501667b15d5b419f8886315e9ca7d33a": {
          "model_module": "@jupyter-widgets/controls",
          "model_name": "HTMLModel",
          "model_module_version": "1.5.0",
          "state": {
            "_view_name": "HTMLView",
            "style": "IPY_MODEL_558ff58af1c14f1c991fee3d7bde8c56",
            "_dom_classes": [],
            "description": "",
            "_model_name": "HTMLModel",
            "placeholder": "​",
            "_view_module": "@jupyter-widgets/controls",
            "_model_module_version": "1.5.0",
            "value": " 49999/50000 [00:00&lt;00:00, 158345.24 examples/s]",
            "_view_count": null,
            "_view_module_version": "1.5.0",
            "description_tooltip": null,
            "_model_module": "@jupyter-widgets/controls",
            "layout": "IPY_MODEL_8e90d086802c40d583536d54ad00ee96"
          }
        },
        "38f46db9f0504f41a9a2175b19707a62": {
          "model_module": "@jupyter-widgets/controls",
          "model_name": "DescriptionStyleModel",
          "model_module_version": "1.5.0",
          "state": {
            "_view_name": "StyleView",
            "_model_name": "DescriptionStyleModel",
            "description_width": "",
            "_view_module": "@jupyter-widgets/base",
            "_model_module_version": "1.5.0",
            "_view_count": null,
            "_view_module_version": "1.2.0",
            "_model_module": "@jupyter-widgets/controls"
          }
        },
        "57785bb6ee9f465ca8c27434d3a00cad": {
          "model_module": "@jupyter-widgets/base",
          "model_name": "LayoutModel",
          "model_module_version": "1.2.0",
          "state": {
            "_view_name": "LayoutView",
            "grid_template_rows": null,
            "right": null,
            "justify_content": null,
            "_view_module": "@jupyter-widgets/base",
            "overflow": null,
            "_model_module_version": "1.2.0",
            "_view_count": null,
            "flex_flow": null,
            "width": null,
            "min_width": null,
            "border": null,
            "align_items": null,
            "bottom": null,
            "_model_module": "@jupyter-widgets/base",
            "top": null,
            "grid_column": null,
            "overflow_y": null,
            "overflow_x": null,
            "grid_auto_flow": null,
            "grid_area": null,
            "grid_template_columns": null,
            "flex": null,
            "_model_name": "LayoutModel",
            "justify_items": null,
            "grid_row": null,
            "max_height": null,
            "align_content": null,
            "visibility": null,
            "align_self": null,
            "height": null,
            "min_height": null,
            "padding": null,
            "grid_auto_rows": null,
            "grid_gap": null,
            "max_width": null,
            "order": null,
            "_view_module_version": "1.2.0",
            "grid_template_areas": null,
            "object_position": null,
            "object_fit": null,
            "grid_auto_columns": null,
            "margin": null,
            "display": null,
            "left": null
          }
        },
        "7055f5b5c4d4413596be064f41a3427b": {
          "model_module": "@jupyter-widgets/controls",
          "model_name": "ProgressStyleModel",
          "model_module_version": "1.5.0",
          "state": {
            "_view_name": "StyleView",
            "_model_name": "ProgressStyleModel",
            "description_width": "",
            "_view_module": "@jupyter-widgets/base",
            "_model_module_version": "1.5.0",
            "_view_count": null,
            "_view_module_version": "1.2.0",
            "bar_color": null,
            "_model_module": "@jupyter-widgets/controls"
          }
        },
        "0342bc10cd3d43a88397d138a548d092": {
          "model_module": "@jupyter-widgets/base",
          "model_name": "LayoutModel",
          "model_module_version": "1.2.0",
          "state": {
            "_view_name": "LayoutView",
            "grid_template_rows": null,
            "right": null,
            "justify_content": null,
            "_view_module": "@jupyter-widgets/base",
            "overflow": null,
            "_model_module_version": "1.2.0",
            "_view_count": null,
            "flex_flow": null,
            "width": null,
            "min_width": null,
            "border": null,
            "align_items": null,
            "bottom": null,
            "_model_module": "@jupyter-widgets/base",
            "top": null,
            "grid_column": null,
            "overflow_y": null,
            "overflow_x": null,
            "grid_auto_flow": null,
            "grid_area": null,
            "grid_template_columns": null,
            "flex": null,
            "_model_name": "LayoutModel",
            "justify_items": null,
            "grid_row": null,
            "max_height": null,
            "align_content": null,
            "visibility": null,
            "align_self": null,
            "height": null,
            "min_height": null,
            "padding": null,
            "grid_auto_rows": null,
            "grid_gap": null,
            "max_width": null,
            "order": null,
            "_view_module_version": "1.2.0",
            "grid_template_areas": null,
            "object_position": null,
            "object_fit": null,
            "grid_auto_columns": null,
            "margin": null,
            "display": null,
            "left": null
          }
        },
        "558ff58af1c14f1c991fee3d7bde8c56": {
          "model_module": "@jupyter-widgets/controls",
          "model_name": "DescriptionStyleModel",
          "model_module_version": "1.5.0",
          "state": {
            "_view_name": "StyleView",
            "_model_name": "DescriptionStyleModel",
            "description_width": "",
            "_view_module": "@jupyter-widgets/base",
            "_model_module_version": "1.5.0",
            "_view_count": null,
            "_view_module_version": "1.2.0",
            "_model_module": "@jupyter-widgets/controls"
          }
        },
        "8e90d086802c40d583536d54ad00ee96": {
          "model_module": "@jupyter-widgets/base",
          "model_name": "LayoutModel",
          "model_module_version": "1.2.0",
          "state": {
            "_view_name": "LayoutView",
            "grid_template_rows": null,
            "right": null,
            "justify_content": null,
            "_view_module": "@jupyter-widgets/base",
            "overflow": null,
            "_model_module_version": "1.2.0",
            "_view_count": null,
            "flex_flow": null,
            "width": null,
            "min_width": null,
            "border": null,
            "align_items": null,
            "bottom": null,
            "_model_module": "@jupyter-widgets/base",
            "top": null,
            "grid_column": null,
            "overflow_y": null,
            "overflow_x": null,
            "grid_auto_flow": null,
            "grid_area": null,
            "grid_template_columns": null,
            "flex": null,
            "_model_name": "LayoutModel",
            "justify_items": null,
            "grid_row": null,
            "max_height": null,
            "align_content": null,
            "visibility": null,
            "align_self": null,
            "height": null,
            "min_height": null,
            "padding": null,
            "grid_auto_rows": null,
            "grid_gap": null,
            "max_width": null,
            "order": null,
            "_view_module_version": "1.2.0",
            "grid_template_areas": null,
            "object_position": null,
            "object_fit": null,
            "grid_auto_columns": null,
            "margin": null,
            "display": null,
            "left": null
          }
        }
      }
    }
  },
  "cells": [
    {
      "cell_type": "markdown",
      "metadata": {
        "id": "view-in-github",
        "colab_type": "text"
      },
      "source": [
        "<a href=\"https://colab.research.google.com/github/ZakariaabGit/zakariaabGit.github.io/blob/main/classification_MLP(Feedforward)_RNN(vanilla_GRU).ipynb\" target=\"_parent\"><img src=\"https://colab.research.google.com/assets/colab-badge.svg\" alt=\"Open In Colab\"/></a>"
      ]
    },
    {
      "cell_type": "code",
      "metadata": {
        "colab": {
          "base_uri": "https://localhost:8080/"
        },
        "id": "Ur3h07r7X1Y0",
        "outputId": "e34e5095-e157-423f-e302-900f4ebf29fd"
      },
      "source": [
        "!pip install tensorflow-text"
      ],
      "execution_count": null,
      "outputs": [
        {
          "output_type": "stream",
          "name": "stdout",
          "text": [
            "Successfully installed tensorflow-text-2.7.3\n"
          ]
        }
      ]
    },
    {
      "cell_type": "code",
      "metadata": {
        "id": "ZWaCty8k8faB"
      },
      "source": [
        "import numpy as np\n",
        "#from collections import Counter\n",
        "import tensorflow_datasets as tfds\n",
        "from tensorflow.keras.layers import Input, LSTM, GRU, SimpleRNN, Masking, Embedding, Dense, Flatten\n",
        "from tensorflow.keras import Model\n",
        "from tensorflow.keras.preprocessing.sequence import pad_sequences"
      ],
      "execution_count": 1,
      "outputs": []
    },
    {
      "cell_type": "markdown",
      "metadata": {
        "id": "5cfR7Fik77Ii"
      },
      "source": [
        "# 1 Les données"
      ]
    },
    {
      "cell_type": "markdown",
      "metadata": {
        "id": "DYYY3Km58Chh"
      },
      "source": [
        "La base de données utilisée ici est la base IMDB, très connue en analyse de texte. Il s’agit\n",
        "d’avis sur des films qui sont classés comme \"positifs\" (classe 1) ou \"négatifs\" (classe 0).\n",
        "Le jeu de données est composé de 25000 avis positifs et 25000 avis négatifs. "
      ]
    },
    {
      "cell_type": "code",
      "metadata": {
        "id": "z7Vq1FgrQDFE",
        "colab": {
          "base_uri": "https://localhost:8080/",
          "height": 513,
          "referenced_widgets": [
            "55a2f031015541a7bd8f6c8d9f22be34",
            "8fad66db472d400db179110b6dcc9321",
            "27a88bef314d48bbb6502bbf71470cf6",
            "f5e581d05ab54d0e9fbece93c8877f30",
            "a6090ff443594535bbf1b23151dbec51",
            "f055c378f70942268382381b0ff2394f",
            "48c13f9cf86f4ade93d1c062d2ad21dc",
            "2416e013960e439cb9e207d278cd270a",
            "3a23b2b119104eefb6e18f1ee07b5939",
            "cc802cc26e7d43f18f647d701d505a3c",
            "a92f0f34d33c4f94b4091cf0edc86aec",
            "cb7c6592e8d34b418b07f1f08b28a962",
            "492273186cfe48c4966057222cca1d76",
            "35d86a5f8b2c44f1b9852a721a66d745",
            "11873a0ad69f4372b4433b7f88cca18c",
            "273806e7397b4dc6abdcac2acc181ed2",
            "4ad0bdf7fd4742a9b183f0b2f6dd324d",
            "5cb377d89ea248f7951dd491a86b8b20",
            "17ef773b350343bc8987ba8ea3f13723",
            "1afb5a49f52e44eca7525560d2b52ec7",
            "3f871930d7c242bbb9c1a7ec937450a1",
            "29964db82a8747f0b62b77f97b94d20a",
            "e4fde015515d444a9a363121c0942b68",
            "d4f70fcff45a4b74b828d1622a49f9dc",
            "1cc7b7c24031475e87186b293035ed48",
            "eb340157c69f4aecb16be00244bb2ecc",
            "8c033a999cfb4d96b1518b1eb3218977",
            "0cdf7a6e3fd747188aa893452bdf46d6",
            "da4e4969435a4848990c92aa6a5cff66",
            "76616b2283eb4791a524e6c8244de162",
            "fbf70e2230e04246b84793e9cc481574",
            "74c80de0f2614fc480aab87a75e03cea",
            "4436a572da1c43e79db9c8d26a6e67c6",
            "8352aa24df164131a8f62f0d6e5271fb",
            "1fa418bfd9614dfba8c3b15aa6fafa06",
            "33d12e3f03574ba3a7099b15b6758c04",
            "68215837eb834a118ac32605f7bd6d70",
            "f8f15c9c32584b79b748bd7eb7d912d8",
            "b0ac08f87d9a4c5bb6f1a070ccc2e2ab",
            "fc3d1e9c416f4a7998ee833022a3ff51",
            "163d8c98c7824a6091f0489d89362e28",
            "1fd1b079bfb94ca68173dedcbb4f3893",
            "ed75b3f6e78e4e6a9419f0a27681ac2d",
            "6a8d707f705a4d7a8aca3574573eb1fb",
            "33e6843051f14ae9b4538974f1a0fdb5",
            "ec606a62a34a4adb9d3fcd0d54386d5c",
            "7a286a8a6b074edba88a0f3a2dbcc25a",
            "7715e05893984a37996d5515b9d78a6d",
            "060c14e7cde043bb8e0fe899a979663a",
            "76ecd52773ec4835a2d8aee68a6e098f",
            "fed661cec9d648c7b13bbed9af006520",
            "9fd0b3f3bb4e45c3945241183b1ce06c",
            "4931f99896934ad98300eeb11014208d",
            "2fe84b5e0251446c9abdac03d57915ff",
            "3f4239000c3e4c9cab06d019bac2776d",
            "2ea83ed821654e2a815cc1161fd343f7",
            "ca60e5d244a04090a5afc5b36306d456",
            "a4338298a20f4f3db1049a80476cbaab",
            "9d3816444cc347cba6b66ba0a17d7ac3",
            "5f45915621f7453f80652c3e7150c83d",
            "7bb7ba0b5efe46648a3d2fa4ee836e68",
            "f01d6b2ab96e4062bd754f8317ad15d5",
            "a8139aedeebb46839eb5a8daa457e888",
            "1c8d97e34ef8435ebebce4517c96dbb2",
            "a994be11aff941b1933717856ac8c37e",
            "d7cb6013bdd5410aba315e8597a494ad",
            "433298c4129a4ecfb3ddb0c07534ad66",
            "af7f495b89044bf8abad0d2263f31e27",
            "53ce7c4253e849fcbd4d4b07777c705e",
            "7adc540db5434740be0ca66ab3601b60",
            "5cc329dd305342e1a0f3931769744753",
            "5d6e92782daa4895ba525aebab40d008",
            "4c81063201e44d40904f8a26eb42780c",
            "00e6e14294d24aa98fe6bf9cdd35c93f",
            "92f380434e154e51be427e4e4c03ddaa",
            "2ed1bb88fa894d4aaa9829dd9c0149cb",
            "7c0dc1e07c0a4801a213b43495fc0640",
            "d840d1ba25a24a0f9c145a38acfb5c72",
            "eec5611802df43d2ac393da72a01ccb0",
            "ec3fadcd4b894ffe92ad7bf373ecff27",
            "6487393d326d4cc3a5c15889aabf7ca0",
            "501667b15d5b419f8886315e9ca7d33a",
            "38f46db9f0504f41a9a2175b19707a62",
            "57785bb6ee9f465ca8c27434d3a00cad",
            "7055f5b5c4d4413596be064f41a3427b",
            "0342bc10cd3d43a88397d138a548d092",
            "558ff58af1c14f1c991fee3d7bde8c56",
            "8e90d086802c40d583536d54ad00ee96"
          ]
        },
        "outputId": "217e3098-5345-4708-dcf0-cb96692a6c6d"
      },
      "source": [
        "def get_texts_and_labels(data):\n",
        "  texts, labels = [], []\n",
        "  for text, label in data:\n",
        "    texts.append(text.numpy().decode('utf-8'))\n",
        "    labels.append(label.numpy())\n",
        "  return texts, labels\n",
        "\n",
        "def load_data():\n",
        "\n",
        "  train_data = tfds.load(\n",
        "    'imdb_reviews',\n",
        "    split='train',\n",
        "    # batch_size=BATCH_SIZE,  # None \n",
        "    shuffle_files=True,\n",
        "    as_supervised=True)\n",
        "  \n",
        "  test_data = tfds.load(\n",
        "    'imdb_reviews',\n",
        "    split='test',\n",
        "    # batch_size=BATCH_SIZE,  # None\n",
        "    shuffle_files=True,\n",
        "    as_supervised=True)\n",
        "\n",
        "  return train_data, test_data\n",
        "\n",
        "\n",
        "train_data, test_data = load_data()\n",
        "train_texts, train_labels = get_texts_and_labels(train_data)\n",
        "test_texts, test_labels = get_texts_and_labels(test_data)"
      ],
      "execution_count": 3,
      "outputs": [
        {
          "output_type": "stream",
          "name": "stdout",
          "text": [
            "\u001b[1mDownloading and preparing dataset imdb_reviews/plain_text/1.0.0 (download: 80.23 MiB, generated: Unknown size, total: 80.23 MiB) to /root/tensorflow_datasets/imdb_reviews/plain_text/1.0.0...\u001b[0m\n"
          ]
        },
        {
          "output_type": "display_data",
          "data": {
            "application/vnd.jupyter.widget-view+json": {
              "model_id": "55a2f031015541a7bd8f6c8d9f22be34",
              "version_minor": 0,
              "version_major": 2
            },
            "text/plain": [
              "Dl Completed...: 0 url [00:00, ? url/s]"
            ]
          },
          "metadata": {}
        },
        {
          "output_type": "display_data",
          "data": {
            "application/vnd.jupyter.widget-view+json": {
              "model_id": "cb7c6592e8d34b418b07f1f08b28a962",
              "version_minor": 0,
              "version_major": 2
            },
            "text/plain": [
              "Dl Size...: 0 MiB [00:00, ? MiB/s]"
            ]
          },
          "metadata": {}
        },
        {
          "output_type": "stream",
          "name": "stdout",
          "text": [
            "\n",
            "\n"
          ]
        },
        {
          "output_type": "display_data",
          "data": {
            "application/vnd.jupyter.widget-view+json": {
              "model_id": "e4fde015515d444a9a363121c0942b68",
              "version_minor": 0,
              "version_major": 2
            },
            "text/plain": [
              "0 examples [00:00, ? examples/s]"
            ]
          },
          "metadata": {}
        },
        {
          "output_type": "stream",
          "name": "stdout",
          "text": [
            "Shuffling and writing examples to /root/tensorflow_datasets/imdb_reviews/plain_text/1.0.0.incompleteTF0L9K/imdb_reviews-train.tfrecord\n"
          ]
        },
        {
          "output_type": "display_data",
          "data": {
            "application/vnd.jupyter.widget-view+json": {
              "model_id": "8352aa24df164131a8f62f0d6e5271fb",
              "version_minor": 0,
              "version_major": 2
            },
            "text/plain": [
              "  0%|          | 0/25000 [00:00<?, ? examples/s]"
            ]
          },
          "metadata": {}
        },
        {
          "output_type": "display_data",
          "data": {
            "application/vnd.jupyter.widget-view+json": {
              "model_id": "33e6843051f14ae9b4538974f1a0fdb5",
              "version_minor": 0,
              "version_major": 2
            },
            "text/plain": [
              "0 examples [00:00, ? examples/s]"
            ]
          },
          "metadata": {}
        },
        {
          "output_type": "stream",
          "name": "stdout",
          "text": [
            "Shuffling and writing examples to /root/tensorflow_datasets/imdb_reviews/plain_text/1.0.0.incompleteTF0L9K/imdb_reviews-test.tfrecord\n"
          ]
        },
        {
          "output_type": "display_data",
          "data": {
            "application/vnd.jupyter.widget-view+json": {
              "model_id": "2ea83ed821654e2a815cc1161fd343f7",
              "version_minor": 0,
              "version_major": 2
            },
            "text/plain": [
              "  0%|          | 0/25000 [00:00<?, ? examples/s]"
            ]
          },
          "metadata": {}
        },
        {
          "output_type": "display_data",
          "data": {
            "application/vnd.jupyter.widget-view+json": {
              "model_id": "433298c4129a4ecfb3ddb0c07534ad66",
              "version_minor": 0,
              "version_major": 2
            },
            "text/plain": [
              "0 examples [00:00, ? examples/s]"
            ]
          },
          "metadata": {}
        },
        {
          "output_type": "stream",
          "name": "stdout",
          "text": [
            "Shuffling and writing examples to /root/tensorflow_datasets/imdb_reviews/plain_text/1.0.0.incompleteTF0L9K/imdb_reviews-unsupervised.tfrecord\n"
          ]
        },
        {
          "output_type": "display_data",
          "data": {
            "application/vnd.jupyter.widget-view+json": {
              "model_id": "d840d1ba25a24a0f9c145a38acfb5c72",
              "version_minor": 0,
              "version_major": 2
            },
            "text/plain": [
              "  0%|          | 0/50000 [00:00<?, ? examples/s]"
            ]
          },
          "metadata": {}
        },
        {
          "output_type": "stream",
          "name": "stderr",
          "text": [
            "WARNING:absl:Dataset is using deprecated text encoder API which will be removed soon. Please use the plain_text version of the dataset and migrate to `tensorflow_text`.\n"
          ]
        },
        {
          "output_type": "stream",
          "name": "stdout",
          "text": [
            "\u001b[1mDataset imdb_reviews downloaded and prepared to /root/tensorflow_datasets/imdb_reviews/plain_text/1.0.0. Subsequent calls will reuse this data.\u001b[0m\n"
          ]
        }
      ]
    },
    {
      "cell_type": "code",
      "metadata": {
        "id": "cQNN9-KFX5sQ",
        "colab": {
          "base_uri": "https://localhost:8080/"
        },
        "outputId": "7399220e-9c4f-45cc-c6a7-decb0673e33d"
      },
      "source": [
        "train_texts[:5]\n"
      ],
      "execution_count": 69,
      "outputs": [
        {
          "output_type": "execute_result",
          "data": {
            "text/plain": [
              "[\"This was an absolutely terrible movie. Don't be lured in by Christopher Walken or Michael Ironside. Both are great actors, but this must simply be their worst role in history. Even their great acting could not redeem this movie's ridiculous storyline. This movie is an early nineties US propaganda piece. The most pathetic scenes were those when the Columbian rebels were making their cases for revolutions. Maria Conchita Alonso appeared phony, and her pseudo-love affair with Walken was nothing but a pathetic emotional plug in a movie that was devoid of any real meaning. I am disappointed that there are movies like this, ruining actor's like Christopher Walken's good name. I could barely sit through it.\",\n",
              " 'I have been known to fall asleep during films, but this is usually due to a combination of things including, really tired, being warm and comfortable on the sette and having just eaten a lot. However on this occasion I fell asleep because the film was rubbish. The plot development was constant. Constantly slow and boring. Things seemed to happen, but with no explanation of what was causing them or why. I admit, I may have missed part of the film, but i watched the majority of it and everything just seemed to happen of its own accord without any real concern for anything else. I cant recommend this film at all.',\n",
              " 'Mann photographs the Alberta Rocky Mountains in a superb fashion, and Jimmy Stewart and Walter Brennan give enjoyable performances as they always seem to do. <br /><br />But come on Hollywood - a Mountie telling the people of Dawson City, Yukon to elect themselves a marshal (yes a marshal!) and to enforce the law themselves, then gunfighters battling it out on the streets for control of the town? <br /><br />Nothing even remotely resembling that happened on the Canadian side of the border during the Klondike gold rush. Mr. Mann and company appear to have mistaken Dawson City for Deadwood, the Canadian North for the American Wild West.<br /><br />Canadian viewers be prepared for a Reefer Madness type of enjoyable howl with this ludicrous plot, or, to shake your head in disgust.',\n",
              " 'This is the kind of film for a snowy Sunday afternoon when the rest of the world can go ahead with its own business as you descend into a big arm-chair and mellow for a couple of hours. Wonderful performances from Cher and Nicolas Cage (as always) gently row the plot along. There are no rapids to cross, no dangerous waters, just a warm and witty paddle through New York life at its best. A family film in every sense and one that deserves the praise it received.',\n",
              " 'As others have mentioned, all the women that go nude in this film are mostly absolutely gorgeous. The plot very ably shows the hypocrisy of the female libido. When men are around they want to be pursued, but when no \"men\" are around, they become the pursuers of a 14 year old boy. And the boy becomes a man really fast (we should all be so lucky at this age!). He then gets up the courage to pursue his true love.']"
            ]
          },
          "metadata": {},
          "execution_count": 69
        }
      ]
    },
    {
      "cell_type": "code",
      "metadata": {
        "colab": {
          "base_uri": "https://localhost:8080/"
        },
        "id": "aUkbm9SuRqn-",
        "outputId": "a248c6a1-4a5e-4ef2-c477-1b3a3e3a9f6d"
      },
      "source": [
        "train_labels[:5]"
      ],
      "execution_count": 6,
      "outputs": [
        {
          "output_type": "execute_result",
          "data": {
            "text/plain": [
              "[0, 0, 0, 1, 1]"
            ]
          },
          "metadata": {},
          "execution_count": 6
        }
      ]
    },
    {
      "cell_type": "code",
      "metadata": {
        "colab": {
          "base_uri": "https://localhost:8080/"
        },
        "id": "CE4x-SGGcb93",
        "outputId": "4a2c481f-a6c4-403e-832c-b84e0a380416"
      },
      "source": [
        "len(train_texts), len(test_texts)"
      ],
      "execution_count": null,
      "outputs": [
        {
          "output_type": "execute_result",
          "data": {
            "text/plain": [
              "(25000, 25000)"
            ]
          },
          "metadata": {},
          "execution_count": 7
        }
      ]
    },
    {
      "cell_type": "code",
      "metadata": {
        "colab": {
          "base_uri": "https://localhost:8080/"
        },
        "id": "LgiLmXdqScNK",
        "outputId": "41cb51ef-ef9a-43fb-bfe8-b22f675917b3"
      },
      "source": [
        "len(small_train_texts), len(small_train_labels)"
      ],
      "execution_count": 12,
      "outputs": [
        {
          "output_type": "execute_result",
          "data": {
            "text/plain": [
              "(5, 5)"
            ]
          },
          "metadata": {},
          "execution_count": 12
        }
      ]
    },
    {
      "cell_type": "code",
      "metadata": {
        "id": "EFr7Pn8EdGPl"
      },
      "source": [
        "small_train_texts = train_texts[:5]\n",
        "small_train_labels = train_labels[:5]"
      ],
      "execution_count": 11,
      "outputs": []
    },
    {
      "cell_type": "markdown",
      "metadata": {
        "id": "EKH0rgWA8ZvA"
      },
      "source": [
        "# 2 Traitements préliminaires sur les données"
      ]
    },
    {
      "cell_type": "markdown",
      "metadata": {
        "id": "FRWv7BMl8epH"
      },
      "source": [
        "## 2.1 Observation du vocabulaire"
      ]
    },
    {
      "cell_type": "markdown",
      "metadata": {
        "id": "pAnf-ARL8h2P"
      },
      "source": [
        "Notez qu’un mot est uniquement défini par un espace : la présence\n",
        "d’une ponctuation derrière un mot créé des entités différentes."
      ]
    },
    {
      "cell_type": "code",
      "metadata": {
        "id": "lKhYFO1gTfy6"
      },
      "source": [
        "\"\"\"import itertools\n",
        "def get_words(list_lignes):\n",
        "  word_occ={}\n",
        "  word_uni={}\n",
        "  i=0\n",
        "  #list_words=[ligne.split(\" \") for ligne in list_lignes]\n",
        "  #list_words=list(itertools.chain.from_iterable(list_words))\n",
        "  for ligne in list_lignes:\n",
        "    list_words=ligne.split(\" \")\n",
        "    for word in list_words :\n",
        "      if word in word_occ.keys():\n",
        "        word_occ[word]+=1\n",
        "      elif word not in word_occ.keys():\n",
        "        word_occ[word]=1\n",
        "      if word not in word_uni.keys():\n",
        "        i+=1\n",
        "        word_occ[word]=i\n",
        "  return word_uni,word_occ\n",
        "\"\"\""
      ],
      "execution_count": null,
      "outputs": []
    },
    {
      "cell_type": "code",
      "metadata": {
        "colab": {
          "base_uri": "https://localhost:8080/"
        },
        "id": "-V41_MiCfE_t",
        "outputId": "993405a7-552e-4c53-ea57-413aa3dceaef"
      },
      "source": [
        "def get_words(lines):\n",
        "  dict_words = {}\n",
        "  index_words = {}\n",
        "  index = 1\n",
        "  for line in lines:\n",
        "    tokens = line.split()\n",
        "    for token in tokens:\n",
        "      if token in dict_words:\n",
        "        dict_words[token] += 1\n",
        "      else:\n",
        "        dict_words[token] = 1\n",
        "        index_words[token] = index\n",
        "        index += 1\n",
        "  return dict_words, index_words\n",
        "\n",
        "dict_words, index_words = get_words(small_train_texts)\n",
        "print(dict_words)\n",
        "print(len(dict_words))"
      ],
      "execution_count": 32,
      "outputs": [
        {
          "output_type": "stream",
          "name": "stdout",
          "text": [
            "{'This': 3, 'was': 6, 'an': 2, 'absolutely': 2, 'terrible': 1, 'movie.': 1, \"Don't\": 1, 'be': 5, 'lured': 1, 'in': 7, 'by': 1, 'Christopher': 2, 'Walken': 2, 'or': 2, 'Michael': 1, 'Ironside.': 1, 'Both': 1, 'are': 6, 'great': 2, 'actors,': 1, 'but': 6, 'this': 8, 'must': 1, 'simply': 1, 'their': 3, 'worst': 1, 'role': 1, 'history.': 1, 'Even': 1, 'acting': 1, 'could': 2, 'not': 1, 'redeem': 1, \"movie's\": 1, 'ridiculous': 1, 'storyline.': 1, 'movie': 2, 'is': 3, 'early': 1, 'nineties': 1, 'US': 1, 'propaganda': 1, 'piece.': 1, 'The': 3, 'most': 1, 'pathetic': 2, 'scenes': 1, 'were': 2, 'those': 1, 'when': 3, 'the': 26, 'Columbian': 1, 'rebels': 1, 'making': 1, 'cases': 1, 'for': 8, 'revolutions.': 1, 'Maria': 1, 'Conchita': 1, 'Alonso': 1, 'appeared': 1, 'phony,': 1, 'and': 13, 'her': 1, 'pseudo-love': 1, 'affair': 1, 'with': 4, 'nothing': 1, 'a': 15, 'emotional': 1, 'plug': 1, 'that': 5, 'devoid': 1, 'of': 15, 'any': 2, 'real': 2, 'meaning.': 1, 'I': 7, 'am': 1, 'disappointed': 1, 'there': 1, 'movies': 1, 'like': 2, 'this,': 1, 'ruining': 1, \"actor's\": 1, \"Walken's\": 1, 'good': 1, 'name.': 1, 'barely': 1, 'sit': 1, 'through': 2, 'it.': 1, 'have': 4, 'been': 1, 'known': 1, 'to': 12, 'fall': 1, 'asleep': 2, 'during': 2, 'films,': 1, 'usually': 1, 'due': 1, 'combination': 1, 'things': 1, 'including,': 1, 'really': 2, 'tired,': 1, 'being': 1, 'warm': 2, 'comfortable': 1, 'on': 5, 'sette': 1, 'having': 1, 'just': 3, 'eaten': 1, 'lot.': 1, 'However': 1, 'occasion': 1, 'fell': 1, 'because': 1, 'film': 5, 'rubbish.': 1, 'plot': 3, 'development': 1, 'constant.': 1, 'Constantly': 1, 'slow': 1, 'boring.': 1, 'Things': 1, 'seemed': 2, 'happen,': 1, 'no': 4, 'explanation': 1, 'what': 1, 'causing': 1, 'them': 1, 'why.': 1, 'admit,': 1, 'may': 1, 'missed': 1, 'part': 1, 'film,': 1, 'i': 1, 'watched': 1, 'majority': 1, 'it': 3, 'everything': 1, 'happen': 1, 'its': 3, 'own': 2, 'accord': 1, 'without': 1, 'concern': 1, 'anything': 1, 'else.': 1, 'cant': 1, 'recommend': 1, 'at': 3, 'all.': 1, 'Mann': 2, 'photographs': 1, 'Alberta': 1, 'Rocky': 1, 'Mountains': 1, 'superb': 1, 'fashion,': 1, 'Jimmy': 1, 'Stewart': 1, 'Walter': 1, 'Brennan': 1, 'give': 1, 'enjoyable': 2, 'performances': 2, 'as': 2, 'they': 3, 'always': 1, 'seem': 1, 'do.': 1, '<br': 2, '/><br': 3, '/>But': 1, 'come': 1, 'Hollywood': 1, '-': 1, 'Mountie': 1, 'telling': 1, 'people': 1, 'Dawson': 2, 'City,': 1, 'Yukon': 1, 'elect': 1, 'themselves': 1, 'marshal': 1, '(yes': 1, 'marshal!)': 1, 'enforce': 1, 'law': 1, 'themselves,': 1, 'then': 2, 'gunfighters': 1, 'battling': 1, 'out': 1, 'streets': 1, 'control': 1, 'town?': 1, '/>Nothing': 1, 'even': 1, 'remotely': 1, 'resembling': 1, 'happened': 1, 'Canadian': 2, 'side': 1, 'border': 1, 'Klondike': 1, 'gold': 1, 'rush.': 1, 'Mr.': 1, 'company': 1, 'appear': 1, 'mistaken': 1, 'City': 1, 'Deadwood,': 1, 'North': 1, 'American': 1, 'Wild': 1, 'West.<br': 1, '/>Canadian': 1, 'viewers': 1, 'prepared': 1, 'Reefer': 1, 'Madness': 1, 'type': 1, 'howl': 1, 'ludicrous': 1, 'plot,': 1, 'or,': 1, 'shake': 1, 'your': 1, 'head': 1, 'disgust.': 1, 'kind': 1, 'snowy': 1, 'Sunday': 1, 'afternoon': 1, 'rest': 1, 'world': 1, 'can': 1, 'go': 2, 'ahead': 1, 'business': 1, 'you': 1, 'descend': 1, 'into': 1, 'big': 1, 'arm-chair': 1, 'mellow': 1, 'couple': 1, 'hours.': 1, 'Wonderful': 1, 'from': 1, 'Cher': 1, 'Nicolas': 1, 'Cage': 1, '(as': 1, 'always)': 1, 'gently': 1, 'row': 1, 'along.': 1, 'There': 1, 'rapids': 1, 'cross,': 1, 'dangerous': 1, 'waters,': 1, 'witty': 1, 'paddle': 1, 'New': 1, 'York': 1, 'life': 1, 'best.': 1, 'A': 1, 'family': 1, 'every': 1, 'sense': 1, 'one': 1, 'deserves': 1, 'praise': 1, 'received.': 1, 'As': 1, 'others': 1, 'mentioned,': 1, 'all': 2, 'women': 1, 'nude': 1, 'mostly': 1, 'gorgeous.': 1, 'very': 1, 'ably': 1, 'shows': 1, 'hypocrisy': 1, 'female': 1, 'libido.': 1, 'When': 1, 'men': 1, 'around': 1, 'want': 1, 'pursued,': 1, '\"men\"': 1, 'around,': 1, 'become': 1, 'pursuers': 1, '14': 1, 'year': 1, 'old': 1, 'boy.': 1, 'And': 1, 'boy': 1, 'becomes': 1, 'man': 1, 'fast': 1, '(we': 1, 'should': 1, 'so': 1, 'lucky': 1, 'age!).': 1, 'He': 1, 'gets': 1, 'up': 1, 'courage': 1, 'pursue': 1, 'his': 1, 'true': 1, 'love.': 1}\n",
            "333\n"
          ]
        }
      ]
    },
    {
      "cell_type": "markdown",
      "metadata": {
        "id": "0kBoas2Z8l6B"
      },
      "source": [
        "## 2.2 Nettoyage des données"
      ]
    },
    {
      "cell_type": "markdown",
      "metadata": {
        "id": "hERaqj_68sTA"
      },
      "source": [
        "Notez que le nombre de mots sera réduit et que certains mots du lexique\n",
        "auront désormais une occurrence plus importante, ce qui sera bénéfique pour une\n",
        "modélisation automatique par une méthode d’apprentissage."
      ]
    },
    {
      "cell_type": "code",
      "metadata": {
        "colab": {
          "base_uri": "https://localhost:8080/"
        },
        "id": "AOncuGCsPmne",
        "outputId": "e18b5402-d3fb-4d51-83c2-e30f1245b1b0"
      },
      "source": [
        "filters = '!\"#$%&()*+,-./:;<=>?@[\\]^_`{|}~\\t\\n\\''\n",
        "\n",
        "def clean_textlines(lines):\n",
        "  new_lines = []\n",
        "  for line in lines:\n",
        "\n",
        "    # suppression des éléments du filtre\n",
        "    for item in list(filters):\n",
        "      line = line.replace(item, '')\n",
        "\n",
        "    # passage du texte en minuscule\n",
        "    line = line.lower()\n",
        "\n",
        "    # suppression des mots contenant des chiffres\n",
        "    line = ' '.join([word for word in line.split(' ') if word.isalpha()])\n",
        "\n",
        "    new_lines.append(line)\n",
        "  return new_lines\n",
        "\n",
        "clean_small_train_texts = clean_textlines(small_train_texts)\n",
        "print(clean_small_train_texts)\n",
        "\n",
        "dict_words, index_words = get_words(clean_small_train_texts)\n",
        "print(dict_words)\n",
        "print(len(dict_words))\n"
      ],
      "execution_count": 60,
      "outputs": [
        {
          "output_type": "stream",
          "name": "stdout",
          "text": [
            "['this was an absolutely terrible movie dont be lured in by christopher walken or michael ironside both are great actors but this must simply be their worst role in history even their great acting could not redeem this movies ridiculous storyline this movie is an early nineties us propaganda piece the most pathetic scenes were those when the columbian rebels were making their cases for revolutions maria conchita alonso appeared phony and her pseudolove affair with walken was nothing but a pathetic emotional plug in a movie that was devoid of any real meaning i am disappointed that there are movies like this ruining actors like christopher walkens good name i could barely sit through it', 'i have been known to fall asleep during films but this is usually due to a combination of things including really tired being warm and comfortable on the sette and having just eaten a lot however on this occasion i fell asleep because the film was rubbish the plot development was constant constantly slow and boring things seemed to happen but with no explanation of what was causing them or why i admit i may have missed part of the film but i watched the majority of it and everything just seemed to happen of its own accord without any real concern for anything else i cant recommend this film at all', 'mann photographs the alberta rocky mountains in a superb fashion and jimmy stewart and walter brennan give enjoyable performances as they always seem to do br br but come on hollywood a mountie telling the people of dawson city yukon to elect themselves a marshal yes a marshal and to enforce the law themselves then gunfighters battling it out on the streets for control of the town br br nothing even remotely resembling that happened on the canadian side of the border during the klondike gold rush mr mann and company appear to have mistaken dawson city for deadwood the canadian north for the american wild westbr br canadian viewers be prepared for a reefer madness type of enjoyable howl with this ludicrous plot or to shake your head in disgust', 'this is the kind of film for a snowy sunday afternoon when the rest of the world can go ahead with its own business as you descend into a big armchair and mellow for a couple of hours wonderful performances from cher and nicolas cage as always gently row the plot along there are no rapids to cross no dangerous waters just a warm and witty paddle through new york life at its best a family film in every sense and one that deserves the praise it received', 'as others have mentioned all the women that go nude in this film are mostly absolutely gorgeous the plot very ably shows the hypocrisy of the female libido when men are around they want to be pursued but when no men are around they become the pursuers of a year old boy and the boy becomes a man really fast we should all be so lucky at this age he then gets up the courage to pursue his true love']\n",
            "{'this': 12, 'was': 6, 'an': 2, 'absolutely': 2, 'terrible': 1, 'movie': 3, 'dont': 1, 'be': 5, 'lured': 1, 'in': 7, 'by': 1, 'christopher': 2, 'walken': 2, 'or': 3, 'michael': 1, 'ironside': 1, 'both': 1, 'are': 6, 'great': 2, 'actors': 2, 'but': 7, 'must': 1, 'simply': 1, 'their': 3, 'worst': 1, 'role': 1, 'history': 1, 'even': 2, 'acting': 1, 'could': 2, 'not': 1, 'redeem': 1, 'movies': 2, 'ridiculous': 1, 'storyline': 1, 'is': 3, 'early': 1, 'nineties': 1, 'us': 1, 'propaganda': 1, 'piece': 1, 'the': 29, 'most': 1, 'pathetic': 2, 'scenes': 1, 'were': 2, 'those': 1, 'when': 4, 'columbian': 1, 'rebels': 1, 'making': 1, 'cases': 1, 'for': 8, 'revolutions': 1, 'maria': 1, 'conchita': 1, 'alonso': 1, 'appeared': 1, 'phony': 1, 'and': 14, 'her': 1, 'pseudolove': 1, 'affair': 1, 'with': 4, 'nothing': 2, 'a': 16, 'emotional': 1, 'plug': 1, 'that': 5, 'devoid': 1, 'of': 15, 'any': 2, 'real': 2, 'meaning': 1, 'i': 8, 'am': 1, 'disappointed': 1, 'there': 2, 'like': 2, 'ruining': 1, 'walkens': 1, 'good': 1, 'name': 1, 'barely': 1, 'sit': 1, 'through': 2, 'it': 4, 'have': 4, 'been': 1, 'known': 1, 'to': 12, 'fall': 1, 'asleep': 2, 'during': 2, 'films': 1, 'usually': 1, 'due': 1, 'combination': 1, 'things': 2, 'including': 1, 'really': 2, 'tired': 1, 'being': 1, 'warm': 2, 'comfortable': 1, 'on': 5, 'sette': 1, 'having': 1, 'just': 3, 'eaten': 1, 'lot': 1, 'however': 1, 'occasion': 1, 'fell': 1, 'because': 1, 'film': 6, 'rubbish': 1, 'plot': 4, 'development': 1, 'constant': 1, 'constantly': 1, 'slow': 1, 'boring': 1, 'seemed': 2, 'happen': 2, 'no': 4, 'explanation': 1, 'what': 1, 'causing': 1, 'them': 1, 'why': 1, 'admit': 1, 'may': 1, 'missed': 1, 'part': 1, 'watched': 1, 'majority': 1, 'everything': 1, 'its': 3, 'own': 2, 'accord': 1, 'without': 1, 'concern': 1, 'anything': 1, 'else': 1, 'cant': 1, 'recommend': 1, 'at': 3, 'all': 3, 'mann': 2, 'photographs': 1, 'alberta': 1, 'rocky': 1, 'mountains': 1, 'superb': 1, 'fashion': 1, 'jimmy': 1, 'stewart': 1, 'walter': 1, 'brennan': 1, 'give': 1, 'enjoyable': 2, 'performances': 2, 'as': 4, 'they': 3, 'always': 2, 'seem': 1, 'do': 1, 'br': 5, 'come': 1, 'hollywood': 1, 'mountie': 1, 'telling': 1, 'people': 1, 'dawson': 2, 'city': 2, 'yukon': 1, 'elect': 1, 'themselves': 2, 'marshal': 2, 'yes': 1, 'enforce': 1, 'law': 1, 'then': 2, 'gunfighters': 1, 'battling': 1, 'out': 1, 'streets': 1, 'control': 1, 'town': 1, 'remotely': 1, 'resembling': 1, 'happened': 1, 'canadian': 3, 'side': 1, 'border': 1, 'klondike': 1, 'gold': 1, 'rush': 1, 'mr': 1, 'company': 1, 'appear': 1, 'mistaken': 1, 'deadwood': 1, 'north': 1, 'american': 1, 'wild': 1, 'westbr': 1, 'viewers': 1, 'prepared': 1, 'reefer': 1, 'madness': 1, 'type': 1, 'howl': 1, 'ludicrous': 1, 'shake': 1, 'your': 1, 'head': 1, 'disgust': 1, 'kind': 1, 'snowy': 1, 'sunday': 1, 'afternoon': 1, 'rest': 1, 'world': 1, 'can': 1, 'go': 2, 'ahead': 1, 'business': 1, 'you': 1, 'descend': 1, 'into': 1, 'big': 1, 'armchair': 1, 'mellow': 1, 'couple': 1, 'hours': 1, 'wonderful': 1, 'from': 1, 'cher': 1, 'nicolas': 1, 'cage': 1, 'gently': 1, 'row': 1, 'along': 1, 'rapids': 1, 'cross': 1, 'dangerous': 1, 'waters': 1, 'witty': 1, 'paddle': 1, 'new': 1, 'york': 1, 'life': 1, 'best': 1, 'family': 1, 'every': 1, 'sense': 1, 'one': 1, 'deserves': 1, 'praise': 1, 'received': 1, 'others': 1, 'mentioned': 1, 'women': 1, 'nude': 1, 'mostly': 1, 'gorgeous': 1, 'very': 1, 'ably': 1, 'shows': 1, 'hypocrisy': 1, 'female': 1, 'libido': 1, 'men': 2, 'around': 2, 'want': 1, 'pursued': 1, 'become': 1, 'pursuers': 1, 'year': 1, 'old': 1, 'boy': 2, 'becomes': 1, 'man': 1, 'fast': 1, 'we': 1, 'should': 1, 'so': 1, 'lucky': 1, 'age': 1, 'he': 1, 'gets': 1, 'up': 1, 'courage': 1, 'pursue': 1, 'his': 1, 'true': 1, 'love': 1}\n",
            "299\n"
          ]
        }
      ]
    },
    {
      "cell_type": "markdown",
      "metadata": {
        "id": "RQrhD8l68zx1"
      },
      "source": [
        "# 3 Formatage des données"
      ]
    },
    {
      "cell_type": "markdown",
      "metadata": {
        "id": "Fekv1vBz826-"
      },
      "source": [
        "## 3.1 Encodage vectoriel"
      ]
    },
    {
      "cell_type": "code",
      "metadata": {
        "colab": {
          "base_uri": "https://localhost:8080/"
        },
        "id": "_2FpCTCDcq8U",
        "outputId": "39f016c6-3aa3-4143-88ee-58b78f8d4e4b"
      },
      "source": [
        "def vector_count_representation(lines, id_words):\n",
        "\n",
        "  nb_words = len(id_words)\n",
        "  nb_lines = len(lines)\n",
        "\n",
        "  vrep_lines = np.zeros((nb_lines, nb_words))\n",
        "  for i,line in enumerate(lines):\n",
        "      words = line.split(' ')\n",
        "      for word in words:\n",
        "        vrep_lines[i,id_words[word]-1] += 1\n",
        "  return vrep_lines\n",
        "\n",
        "vector_rep_st = vector_count_representation(clean_small_train_texts, index_words)\n",
        "print(vector_rep_st.shape)\n",
        "vector_rep_st"
      ],
      "execution_count": 62,
      "outputs": [
        {
          "output_type": "stream",
          "name": "stdout",
          "text": [
            "(5, 299)\n"
          ]
        },
        {
          "output_type": "execute_result",
          "data": {
            "text/plain": [
              "array([[5., 3., 2., ..., 0., 0., 0.],\n",
              "       [3., 3., 0., ..., 0., 0., 0.],\n",
              "       [1., 0., 0., ..., 0., 0., 0.],\n",
              "       [1., 0., 0., ..., 0., 0., 0.],\n",
              "       [2., 0., 0., ..., 1., 1., 1.]])"
            ]
          },
          "metadata": {},
          "execution_count": 62
        }
      ]
    },
    {
      "cell_type": "markdown",
      "metadata": {
        "id": "_lcNcz6k86oA"
      },
      "source": [
        "## 3.2 Encodage séquentiel"
      ]
    },
    {
      "cell_type": "code",
      "metadata": {
        "colab": {
          "base_uri": "https://localhost:8080/"
        },
        "id": "lVh3qm3sVTtQ",
        "outputId": "d102f911-c17b-4eb9-fdfb-cec12fccd63d"
      },
      "source": [
        "def sequential_representation(lines, id_words):\n",
        "\n",
        "  vseq_lines = []\n",
        "  for i,line in enumerate(lines):\n",
        "    seq = [id_words[word] for word in line.split(' ')]\n",
        "    vseq_lines.append(seq)\n",
        "\n",
        "  return vseq_lines\n",
        "\n",
        "sequential_rep_st = sequential_representation(clean_small_train_texts, index_words)\n",
        "print(sequential_rep_st)"
      ],
      "execution_count": null,
      "outputs": [
        {
          "output_type": "stream",
          "name": "stdout",
          "text": [
            "[[1, 2, 3, 4, 5, 6, 7, 8, 9, 10, 11, 12, 13, 14, 15, 16, 17, 18, 19, 20, 21, 1, 22, 23, 8, 24, 25, 26, 10, 27, 28, 24, 19, 29, 30, 31, 32, 1, 33, 34, 35, 1, 6, 36, 3, 37, 38, 39, 40, 41, 42, 43, 44, 45, 46, 47, 48, 42, 49, 50, 46, 51, 24, 52, 53, 54, 55, 56, 57, 58, 59, 60, 61, 62, 63, 64, 13, 2, 65, 21, 66, 44, 67, 68, 10, 66, 6, 69, 2, 70, 71, 72, 73, 74, 75, 76, 77, 69, 78, 18, 33, 79, 1, 80, 20, 79, 12, 81, 82, 83, 75, 30, 84, 85, 86, 87], [75, 88, 89, 90, 91, 92, 93, 94, 95, 21, 1, 36, 96, 97, 91, 66, 98, 71, 99, 100, 101, 102, 103, 104, 60, 105, 106, 42, 107, 60, 108, 109, 110, 66, 111, 112, 106, 1, 113, 75, 114, 93, 115, 42, 116, 2, 117, 42, 118, 119, 2, 120, 121, 122, 60, 123, 99, 124, 91, 125, 21, 64, 126, 127, 71, 128, 2, 129, 130, 14, 131, 75, 132, 75, 133, 88, 134, 135, 71, 42, 116, 21, 75, 136, 42, 137, 71, 87, 60, 138, 109, 124, 91, 125, 71, 139, 140, 141, 142, 72, 73, 143, 53, 144, 145, 75, 146, 147, 1, 116, 148, 149], [150, 151, 42, 152, 153, 154, 10, 66, 155, 156, 60, 157, 158, 60, 159, 160, 161, 162, 163, 164, 165, 166, 167, 91, 168, 169, 169, 21, 170, 106, 171, 66, 172, 173, 42, 174, 71, 175, 176, 177, 91, 178, 179, 66, 180, 181, 66, 180, 60, 91, 182, 42, 183, 179, 184, 185, 186, 87, 187, 106, 42, 188, 53, 189, 71, 42, 190, 169, 169, 65, 28, 191, 192, 69, 193, 106, 42, 194, 195, 71, 42, 196, 94, 42, 197, 198, 199, 200, 150, 60, 201, 202, 91, 88, 203, 175, 176, 53, 204, 42, 194, 205, 53, 42, 206, 207, 208, 169, 194, 209, 8, 210, 53, 66, 211, 212, 213, 71, 162, 214, 64, 1, 215, 118, 14, 91, 216, 217, 218, 10, 219], [1, 36, 42, 220, 71, 116, 53, 66, 221, 222, 223, 48, 42, 224, 71, 42, 225, 226, 227, 228, 64, 139, 140, 229, 164, 230, 231, 232, 66, 233, 234, 60, 235, 53, 66, 236, 71, 237, 238, 163, 239, 240, 60, 241, 242, 164, 166, 243, 244, 42, 118, 245, 78, 18, 126, 246, 91, 247, 126, 248, 249, 109, 66, 104, 60, 250, 251, 86, 252, 253, 254, 148, 139, 255, 66, 256, 116, 10, 257, 258, 60, 259, 69, 260, 42, 261, 87, 262], [164, 263, 88, 264, 149, 42, 265, 69, 227, 266, 10, 1, 116, 18, 267, 4, 268, 42, 118, 269, 270, 271, 42, 272, 71, 42, 273, 274, 48, 275, 18, 276, 165, 277, 91, 8, 278, 21, 48, 126, 275, 18, 276, 165, 279, 42, 280, 71, 66, 281, 282, 283, 60, 42, 283, 284, 66, 285, 101, 286, 287, 288, 149, 8, 289, 290, 148, 1, 291, 292, 184, 293, 294, 42, 295, 91, 296, 297, 298, 299]]\n"
          ]
        }
      ]
    },
    {
      "cell_type": "markdown",
      "metadata": {
        "id": "Cv9HrQfb8_aY"
      },
      "source": [
        "## 3.3 Base de validation"
      ]
    },
    {
      "cell_type": "code",
      "metadata": {
        "id": "GQ99HwranmXe"
      },
      "source": [
        "def extract_valid_data(x_train_data, y_train_data, valid_proportion=0.2):\n",
        "\n",
        "  split_point = int(len(x_train_data) * valid_proportion)\n",
        "  x_valid = x_train_data[:split_point]\n",
        "  x_train = x_train_data[split_point:]\n",
        "\n",
        "  y_valid = y_train_data[:split_point]\n",
        "  y_train = y_train_data[split_point:]\n",
        "\n",
        "  return x_train, y_train, x_valid, y_valid\n",
        "\n",
        "valid_proportion = .2\n",
        "x_train_small, y_train_small, x_valid, y_valid = extract_valid_data(vector_rep_st, small_train_labels, valid_proportion=valid_proportion)"
      ],
      "execution_count": 68,
      "outputs": []
    },
    {
      "cell_type": "markdown",
      "metadata": {
        "id": "nK7v9MUP9Cfq"
      },
      "source": [
        "## 3.4 Formatage des données"
      ]
    },
    {
      "cell_type": "code",
      "metadata": {
        "id": "fiCkWX6btvKr"
      },
      "source": [
        "y_train_small = np.asarray(y_train_small).astype('float32')\n",
        "y_valid = np.asarray(y_valid).astype('float32')\n",
        "y_test = np.asarray(test_labels).astype('float32')"
      ],
      "execution_count": 70,
      "outputs": []
    },
    {
      "cell_type": "markdown",
      "metadata": {
        "id": "TPaGVggo9GFM"
      },
      "source": [
        "# 4 Réseau de neurones"
      ]
    },
    {
      "cell_type": "markdown",
      "metadata": {
        "id": "opwGKKxu9bRw"
      },
      "source": [
        "\n",
        "4.1 Réseau feedforward"
      ]
    },
    {
      "cell_type": "code",
      "metadata": {
        "colab": {
          "base_uri": "https://localhost:8080/"
        },
        "id": "Vvs-0igUp12O",
        "outputId": "e3157eb8-4403-4953-82f2-3ffc3561166f"
      },
      "source": [
        "def model_mlp(num_words):\n",
        "\n",
        "  input_layer = Input(shape=(num_words,))#input layer\n",
        "  dense1 = Dense(64, activation='relu')(input_layer)\n",
        "  dense2 = Dense(16, activation='relu')(dense1)\n",
        "  dense3 = Dense(1, activation='sigmoid')(dense2)\n",
        "  model = Model(input_layer, dense3)# que la première et la dernière\n",
        "  model.compile(optimizer='sgd',\n",
        "              loss='binary_crossentropy', # si plus de deux classes: loss='categorical_crossentropy'\n",
        "              metrics=['accuracy'])\n",
        "  model.summary()\n",
        "  return model\n",
        "\n",
        "my_model_mlp = model_mlp(len(index_words))"
      ],
      "execution_count": 72,
      "outputs": [
        {
          "output_type": "stream",
          "name": "stdout",
          "text": [
            "Model: \"model\"\n",
            "_________________________________________________________________\n",
            " Layer (type)                Output Shape              Param #   \n",
            "=================================================================\n",
            " input_1 (InputLayer)        [(None, 299)]             0         \n",
            "                                                                 \n",
            " dense (Dense)               (None, 64)                19200     \n",
            "                                                                 \n",
            " dense_1 (Dense)             (None, 16)                1040      \n",
            "                                                                 \n",
            " dense_2 (Dense)             (None, 1)                 17        \n",
            "                                                                 \n",
            "=================================================================\n",
            "Total params: 20,257\n",
            "Trainable params: 20,257\n",
            "Non-trainable params: 0\n",
            "_________________________________________________________________\n"
          ]
        }
      ]
    },
    {
      "cell_type": "code",
      "metadata": {
        "id": "IlR9hkwDtesN"
      },
      "source": [
        "#la représentation vectorielle 20% validation\n",
        "x_train_small, y_train_small, x_valid,y_valid = extract_valid_data(vector_rep_st,\n",
        "              small_train_labels, valid_proportion=valid_proportion)\n",
        "\n",
        "#l’apprentissage du modèle sur 20 epochs\n",
        "#la représentation vectorielle en entrée de réseau\n",
        "history = my_model_mlp.fit(x=x_train_small, y=y_train_small,\n",
        "                    epochs=20, batch_size=4,verbose=0,\n",
        "                    validation_data=(x_valid, y_valid))"
      ],
      "execution_count": 76,
      "outputs": []
    },
    {
      "cell_type": "markdown",
      "metadata": {
        "id": "I4sDyomQ9YjA"
      },
      "source": [
        "## 4.2 Réseau récurrent simple"
      ]
    },
    {
      "cell_type": "code",
      "metadata": {
        "colab": {
          "base_uri": "https://localhost:8080/"
        },
        "id": "q-rn4hQLlG1P",
        "outputId": "dbae9e79-4594-429d-881f-b074774663d9"
      },
      "source": [
        "T_max = max([len(x) for x in sequential_rep_st])\n",
        "#PADDING \n",
        "x_train_seq = pad_sequences(sequential_rep_st, maxlen=T_max, padding='post', truncating='post')\n",
        "print(T_max)\n",
        "\n",
        "x_train_small, y_train_small, x_valid, y_valid = extract_valid_data(x_train_seq, small_train_labels, valid_proportion=valid_proportion)\n",
        "y_train_small = np.asarray(y_train_small).astype('float32')\n",
        "y_valid = np.asarray(y_valid).astype('float32')\n",
        "print(x_train_small.shape)\n",
        "#x_train_small = np.reshape(x_train_small, (4, 131, 1))\n",
        "print(x_train_small.shape)"
      ],
      "execution_count": 78,
      "outputs": [
        {
          "output_type": "stream",
          "name": "stdout",
          "text": [
            "131\n",
            "(4, 131)\n",
            "(4, 131)\n"
          ]
        }
      ]
    },
    {
      "cell_type": "code",
      "metadata": {
        "colab": {
          "base_uri": "https://localhost:8080/"
        },
        "id": "LvXyhKBOkqUu",
        "outputId": "dc9d7c69-5094-4853-b347-374876ee35de"
      },
      "source": [
        "def model_rnn(T_max):\n",
        "\n",
        "  input_layer = Input(shape=(T_max,1))\n",
        "  srnn1 = SimpleRNN(64, return_sequences=True)(input_layer)\n",
        "  srnn2 = SimpleRNN(32, return_sequences=True)(srnn1)\n",
        "  srnn3 = SimpleRNN(1, activation='sigmoid')(srnn2)\n",
        "  model = Model(input_layer, srnn3)\n",
        "  model.compile(optimizer='sgd',\n",
        "              loss='binary_crossentropy', # si plus de deux classes: loss='categorical_crossentropy'\n",
        "              metrics=['accuracy'])\n",
        "  model.summary()\n",
        "  return model\n",
        "\n",
        "my_model_rnn = model_rnn(T_max)"
      ],
      "execution_count": 82,
      "outputs": [
        {
          "output_type": "stream",
          "name": "stdout",
          "text": [
            "Model: \"model_1\"\n",
            "_________________________________________________________________\n",
            " Layer (type)                Output Shape              Param #   \n",
            "=================================================================\n",
            " input_2 (InputLayer)        [(None, 131, 1)]          0         \n",
            "                                                                 \n",
            " simple_rnn (SimpleRNN)      (None, 131, 64)           4224      \n",
            "                                                                 \n",
            " simple_rnn_1 (SimpleRNN)    (None, 131, 32)           3104      \n",
            "                                                                 \n",
            " simple_rnn_2 (SimpleRNN)    (None, 1)                 34        \n",
            "                                                                 \n",
            "=================================================================\n",
            "Total params: 7,362\n",
            "Trainable params: 7,362\n",
            "Non-trainable params: 0\n",
            "_________________________________________________________________\n"
          ]
        }
      ]
    },
    {
      "cell_type": "code",
      "metadata": {
        "colab": {
          "base_uri": "https://localhost:8080/"
        },
        "id": "m_8BnFJ7BTP8",
        "outputId": "0738a735-97b3-4c48-eda5-613449b5ac5a"
      },
      "source": [
        "T_max = max([len(x) for x in sequential_rep_st])\n",
        "#PADDING \n",
        "x_train_seq = pad_sequences(sequential_rep_st, maxlen=T_max, padding='post', truncating='post')\n",
        "print(T_max)\n",
        "\n",
        "x_train_small, y_train_small, x_valid, y_valid = extract_valid_data(x_train_seq, small_train_labels, valid_proportion=valid_proportion)\n",
        "y_train_small = np.asarray(y_train_small).astype('float32')\n",
        "y_valid = np.asarray(y_valid).astype('float32')\n",
        "print(x_train_small.shape)\n",
        "#x_train_small = np.reshape(x_train_small, (4, 131, 1))\n",
        "print(x_train_small.shape)"
      ],
      "execution_count": 85,
      "outputs": [
        {
          "output_type": "stream",
          "name": "stdout",
          "text": [
            "131\n",
            "(4, 131)\n",
            "(4, 131)\n"
          ]
        }
      ]
    },
    {
      "cell_type": "code",
      "metadata": {
        "colab": {
          "base_uri": "https://localhost:8080/"
        },
        "id": "McjEymicdoaS",
        "outputId": "189f6bee-7240-4bc2-cd8f-f7552f7f1511"
      },
      "source": [
        "history = my_model_rnn.fit(x=x_train_small, y=y_train_small,\n",
        "                    epochs=10, batch_size=4,\n",
        "                    validation_data=(x_valid, y_valid))"
      ],
      "execution_count": 84,
      "outputs": [
        {
          "output_type": "stream",
          "name": "stdout",
          "text": [
            "Epoch 1/10\n",
            "1/1 [==============================] - 2s 2s/step - loss: 0.6360 - accuracy: 0.7500 - val_loss: 0.9799 - val_accuracy: 0.0000e+00\n",
            "Epoch 2/10\n",
            "1/1 [==============================] - 0s 92ms/step - loss: 0.4576 - accuracy: 0.7500 - val_loss: 0.8551 - val_accuracy: 0.0000e+00\n",
            "Epoch 3/10\n",
            "1/1 [==============================] - 0s 84ms/step - loss: 0.3290 - accuracy: 1.0000 - val_loss: 0.7837 - val_accuracy: 0.0000e+00\n",
            "Epoch 4/10\n",
            "1/1 [==============================] - 0s 92ms/step - loss: 0.2735 - accuracy: 1.0000 - val_loss: 0.7481 - val_accuracy: 0.0000e+00\n",
            "Epoch 5/10\n",
            "1/1 [==============================] - 0s 94ms/step - loss: 0.2335 - accuracy: 1.0000 - val_loss: 0.7182 - val_accuracy: 0.0000e+00\n",
            "Epoch 6/10\n",
            "1/1 [==============================] - 0s 89ms/step - loss: 0.2046 - accuracy: 1.0000 - val_loss: 0.6942 - val_accuracy: 0.0000e+00\n",
            "Epoch 7/10\n",
            "1/1 [==============================] - 0s 94ms/step - loss: 0.1822 - accuracy: 1.0000 - val_loss: 0.6741 - val_accuracy: 1.0000\n",
            "Epoch 8/10\n",
            "1/1 [==============================] - 0s 86ms/step - loss: 0.1639 - accuracy: 1.0000 - val_loss: 0.6511 - val_accuracy: 1.0000\n",
            "Epoch 9/10\n",
            "1/1 [==============================] - 0s 87ms/step - loss: 0.1497 - accuracy: 1.0000 - val_loss: 0.6335 - val_accuracy: 1.0000\n",
            "Epoch 10/10\n",
            "1/1 [==============================] - 0s 87ms/step - loss: 0.1386 - accuracy: 1.0000 - val_loss: 0.6113 - val_accuracy: 1.0000\n"
          ]
        }
      ]
    },
    {
      "cell_type": "markdown",
      "metadata": {
        "id": "s1JbESddEn1X"
      },
      "source": [
        "# 5 Application sur l’ensemble du jeu de données"
      ]
    },
    {
      "cell_type": "code",
      "metadata": {
        "colab": {
          "base_uri": "https://localhost:8080/"
        },
        "id": "12QkE1Pj33ut",
        "outputId": "5e79f051-78d5-4080-c260-d1c37247584b"
      },
      "source": [
        "#clean data \"filters\"\n",
        "clean_train_texts = clean_textlines(train_texts)\n",
        "# dictionnary of all words in text , frequency and unique index\n",
        "dict_words, index_words = get_words(clean_train_texts)\n",
        "print(len(dict_words))"
      ],
      "execution_count": 87,
      "outputs": [
        {
          "output_type": "stream",
          "name": "stdout",
          "text": [
            "117382\n"
          ]
        }
      ]
    },
    {
      "cell_type": "markdown",
      "metadata": {
        "id": "Kl0P9d69ErgB"
      },
      "source": [
        "## 5.1 Réduction du vocabulaire"
      ]
    },
    {
      "cell_type": "code",
      "metadata": {
        "colab": {
          "base_uri": "https://localhost:8080/"
        },
        "id": "nlIem1Rt4tH6",
        "outputId": "71544e2b-4e90-40d4-c82b-3f027197c287"
      },
      "source": [
        "def get_frequent_words(dict_words, n_freq_words, train_texts):\n",
        "  list_value_key = [(v, k) for k,v in dict_words.items()]\n",
        "  print(list_value_key[:10])\n",
        "  freq_words = sorted(list_value_key, reverse=True)[:n_freq_words]\n",
        "  print(freq_words[:10])\n",
        "  _, selected_words = zip(*freq_words)\n",
        "\n",
        "  reduced_text = []\n",
        "  for line in train_texts:\n",
        "    line = ' '.join([word if word in selected_words else 'unk' for word in line.split(' ')])\n",
        "    reduced_text.append(line)\n",
        "\n",
        "  return reduced_text\n",
        "\n",
        "reduced_train_texts = get_frequent_words(dict_words, 250, clean_train_texts)\n",
        "reduced_dict_words, reduced_index_words = get_words(reduced_train_texts)\n",
        "print(len(reduced_dict_words))\n",
        "for i in range(5):\n",
        "  print(reduced_train_texts[i])"
      ],
      "execution_count": 91,
      "outputs": [
        {
          "output_type": "stream",
          "name": "stdout",
          "text": [
            "[(75189, 'this'), (48007, 'was'), (21486, 'an'), (1481, 'absolutely'), (1585, 'terrible'), (41803, 'movie'), (8471, 'dont'), (26630, 'be'), (28, 'lured'), (93024, 'in')]\n",
            "[(334678, 'the'), (162210, 'and'), (161936, 'a'), (145323, 'of'), (135041, 'to'), (106854, 'is'), (93024, 'in'), (77084, 'it'), (75717, 'i'), (75189, 'this')]\n",
            "251\n",
            "this was an unk unk movie dont be unk in by unk unk or unk unk both are great actors but this must unk be their worst role in unk even their great acting could not unk this movies unk unk this movie is an unk unk us unk unk the most unk scenes were those when the unk unk were making their unk for unk unk unk unk unk unk and her unk unk with unk was nothing but a unk unk unk in a movie that was unk of any real unk i am unk that there are movies like this unk actors like unk unk good unk i could unk unk through it\n",
            "i have been unk to unk unk unk films but this is unk unk to a unk of things unk really unk being unk and unk on the unk and unk just unk a lot however on this unk i unk unk because the film was unk the plot unk was unk unk unk and unk things unk to unk but with no unk of what was unk them or why i unk i may have unk part of the film but i unk the unk of it and unk just unk to unk of its own unk without any real unk for anything unk i cant unk this film at all\n",
            "unk unk the unk unk unk in a unk unk and unk unk and unk unk give unk unk as they always unk to do br br but come on unk a unk unk the people of unk unk unk to unk unk a unk unk a unk and to unk the unk unk then unk unk it out on the unk for unk of the unk br br nothing even unk unk that unk on the unk unk of the unk unk the unk unk unk unk unk and unk unk to have unk unk unk for unk the unk unk for the unk unk unk br unk unk be unk for a unk unk unk of unk unk with this unk plot or to unk your unk in unk\n",
            "this is the kind of film for a unk unk unk when the unk of the world can go unk with its own unk as you unk into a big unk and unk for a unk of unk unk unk from unk and unk unk as always unk unk the plot unk there are no unk to unk no unk unk just a unk and unk unk through new unk life at its best a family film in every unk and one that unk the unk it unk\n",
            "as unk have unk all the unk that go unk in this film are unk unk unk the plot very unk unk the unk of the unk unk when unk are around they want to be unk but when no unk are around they unk the unk of a unk old unk and the unk unk a man really unk we should all be so unk at this unk he then gets up the unk to unk his unk love\n"
          ]
        }
      ]
    },
    {
      "cell_type": "code",
      "metadata": {
        "colab": {
          "base_uri": "https://localhost:8080/"
        },
        "id": "F1qYLTJ_MCS2",
        "outputId": "49457f74-8c81-482e-d302-29cc8deb4959"
      },
      "source": [
        "#clean data \"filters\"\n",
        "clean_train_texts = clean_textlines(train_texts)\n",
        "# dictionnary of all words in text , frequency and unique index\n",
        "dict_words, index_words = get_words(clean_train_texts)\n",
        "print(len(dict_words))"
      ],
      "execution_count": 89,
      "outputs": [
        {
          "output_type": "stream",
          "name": "stdout",
          "text": [
            "117382\n"
          ]
        }
      ]
    },
    {
      "cell_type": "code",
      "metadata": {
        "colab": {
          "base_uri": "https://localhost:8080/"
        },
        "id": "Ec8SM0D4-e8v",
        "outputId": "f3fda3fd-0226-4f44-c5af-c44a65a18e3e"
      },
      "source": [
        "# MLP sur des représentations vectorielles 20% validation\n",
        "reduced_train_texts = get_frequent_words(dict_words, 250, clean_train_texts)\n",
        "reduced_dict_words, reduced_index_words = get_words(reduced_train_texts)\n",
        "vect_rep = vector_count_representation(reduced_train_texts, reduced_index_words)\n",
        "x_train, y_train, x_valid, y_valid = extract_valid_data(vect_rep, train_labels, valid_proportion=valid_proportion)\n",
        "y_train = np.asarray(y_train).astype('float32')\n",
        "y_valid = np.asarray(y_valid).astype('float32')\n",
        "y_test = np.asarray(test_labels).astype('float32')\n",
        "print(x_train.shape)\n",
        "my_model_mlp = model_mlp(len(reduced_index_words))\n",
        "history_mlp = my_model_mlp.fit(x=x_train, y=y_train,\n",
        "                    epochs=5, batch_size=32,\n",
        "                    validation_data=(x_valid, y_valid))"
      ],
      "execution_count": 92,
      "outputs": [
        {
          "output_type": "stream",
          "name": "stdout",
          "text": [
            "[(75189, 'this'), (48007, 'was'), (21486, 'an'), (1481, 'absolutely'), (1585, 'terrible'), (41803, 'movie'), (8471, 'dont'), (26630, 'be'), (28, 'lured'), (93024, 'in')]\n",
            "[(334678, 'the'), (162210, 'and'), (161936, 'a'), (145323, 'of'), (135041, 'to'), (106854, 'is'), (93024, 'in'), (77084, 'it'), (75717, 'i'), (75189, 'this')]\n",
            "(20000, 251)\n",
            "Model: \"model_2\"\n",
            "_________________________________________________________________\n",
            " Layer (type)                Output Shape              Param #   \n",
            "=================================================================\n",
            " input_3 (InputLayer)        [(None, 251)]             0         \n",
            "                                                                 \n",
            " dense_3 (Dense)             (None, 64)                16128     \n",
            "                                                                 \n",
            " dense_4 (Dense)             (None, 16)                1040      \n",
            "                                                                 \n",
            " dense_5 (Dense)             (None, 1)                 17        \n",
            "                                                                 \n",
            "=================================================================\n",
            "Total params: 17,185\n",
            "Trainable params: 17,185\n",
            "Non-trainable params: 0\n",
            "_________________________________________________________________\n",
            "Epoch 1/10\n",
            "625/625 [==============================] - 2s 2ms/step - loss: 0.7410 - accuracy: 0.5562 - val_loss: 0.6596 - val_accuracy: 0.6248\n",
            "Epoch 2/10\n",
            "625/625 [==============================] - 1s 2ms/step - loss: 0.6651 - accuracy: 0.6078 - val_loss: 0.6432 - val_accuracy: 0.6420\n",
            "Epoch 3/10\n",
            "625/625 [==============================] - 1s 2ms/step - loss: 0.6543 - accuracy: 0.6327 - val_loss: 0.6393 - val_accuracy: 0.6480\n",
            "Epoch 4/10\n",
            "625/625 [==============================] - 1s 2ms/step - loss: 0.6410 - accuracy: 0.6493 - val_loss: 0.6188 - val_accuracy: 0.6870\n",
            "Epoch 5/10\n",
            "625/625 [==============================] - 1s 2ms/step - loss: 0.6309 - accuracy: 0.6625 - val_loss: 0.6153 - val_accuracy: 0.6768\n",
            "Epoch 6/10\n",
            "625/625 [==============================] - 1s 2ms/step - loss: 0.6169 - accuracy: 0.6758 - val_loss: 0.5912 - val_accuracy: 0.7080\n",
            "Epoch 7/10\n",
            "625/625 [==============================] - 1s 2ms/step - loss: 0.6099 - accuracy: 0.6825 - val_loss: 0.5974 - val_accuracy: 0.6968\n",
            "Epoch 8/10\n",
            "625/625 [==============================] - 1s 2ms/step - loss: 0.5986 - accuracy: 0.6928 - val_loss: 0.5927 - val_accuracy: 0.7018\n",
            "Epoch 9/10\n",
            "625/625 [==============================] - 1s 2ms/step - loss: 0.5919 - accuracy: 0.6964 - val_loss: 0.6109 - val_accuracy: 0.6812\n",
            "Epoch 10/10\n",
            "625/625 [==============================] - 1s 2ms/step - loss: 0.5860 - accuracy: 0.7068 - val_loss: 0.5622 - val_accuracy: 0.7276\n"
          ]
        }
      ]
    },
    {
      "cell_type": "code",
      "metadata": {
        "colab": {
          "base_uri": "https://localhost:8080/"
        },
        "id": "VathuD7V-1Qa",
        "outputId": "609a07cb-efb1-4f2d-b8db-5fb43ca5ce2d"
      },
      "source": [
        "# RNN sur des représentations séquentielles\n",
        "seq_rep = sequential_representation(reduced_train_texts, reduced_index_words)\n",
        "T_max = min(max([len(x) for x in seq_rep]), 80)\n",
        "print(T_max)\n",
        "x_train, y_train, x_valid, y_valid = extract_valid_data(seq_rep, train_labels, valid_proportion=valid_proportion)\n",
        "x_train = pad_sequences(x_train, maxlen=T_max, padding='post', truncating='post')\n",
        "x_valid = pad_sequences(x_valid, maxlen=T_max, padding='post', truncating='post')\n",
        "y_train = np.asarray(y_train).astype('float32')\n",
        "y_valid = np.asarray(y_valid).astype('float32')\n",
        "y_test = np.asarray(test_labels).astype('float32')\n",
        "\n",
        "print(x_train.shape)\n",
        "print(x_valid.shape)\n",
        "my_model_rnn = model_rnn(T_max)"
      ],
      "execution_count": 94,
      "outputs": [
        {
          "output_type": "stream",
          "name": "stdout",
          "text": [
            "80\n",
            "(20000, 80)\n",
            "(5000, 80)\n",
            "Model: \"model_3\"\n",
            "_________________________________________________________________\n",
            " Layer (type)                Output Shape              Param #   \n",
            "=================================================================\n",
            " input_4 (InputLayer)        [(None, 80, 1)]           0         \n",
            "                                                                 \n",
            " simple_rnn_3 (SimpleRNN)    (None, 80, 64)            4224      \n",
            "                                                                 \n",
            " simple_rnn_4 (SimpleRNN)    (None, 80, 32)            3104      \n",
            "                                                                 \n",
            " simple_rnn_5 (SimpleRNN)    (None, 1)                 34        \n",
            "                                                                 \n",
            "=================================================================\n",
            "Total params: 7,362\n",
            "Trainable params: 7,362\n",
            "Non-trainable params: 0\n",
            "_________________________________________________________________\n"
          ]
        }
      ]
    },
    {
      "cell_type": "code",
      "metadata": {
        "colab": {
          "base_uri": "https://localhost:8080/"
        },
        "id": "cy1kEY-GcshB",
        "outputId": "4de0bd09-228f-4aa9-a1f2-d370a5d8ca1a"
      },
      "source": [
        "history_rnn = my_model_rnn.fit(x=x_train, y=y_train,\n",
        "                    epochs=5, batch_size=32,\n",
        "                    validation_data=(x_valid, y_valid))"
      ],
      "execution_count": 95,
      "outputs": [
        {
          "output_type": "stream",
          "name": "stdout",
          "text": [
            "Epoch 1/5\n",
            "625/625 [==============================] - 27s 41ms/step - loss: 0.6995 - accuracy: 0.4985 - val_loss: 0.6974 - val_accuracy: 0.5050\n",
            "Epoch 2/5\n",
            "625/625 [==============================] - 25s 40ms/step - loss: 0.6947 - accuracy: 0.5094 - val_loss: 0.6959 - val_accuracy: 0.5010\n",
            "Epoch 3/5\n",
            "625/625 [==============================] - 25s 40ms/step - loss: 0.6936 - accuracy: 0.5125 - val_loss: 0.6932 - val_accuracy: 0.5132\n",
            "Epoch 4/5\n",
            "625/625 [==============================] - 25s 40ms/step - loss: 0.6929 - accuracy: 0.5197 - val_loss: 0.6938 - val_accuracy: 0.5162\n",
            "Epoch 5/5\n",
            "625/625 [==============================] - 25s 39ms/step - loss: 0.6926 - accuracy: 0.5165 - val_loss: 0.6949 - val_accuracy: 0.5076\n"
          ]
        }
      ]
    },
    {
      "cell_type": "markdown",
      "metadata": {
        "id": "fSE9EfI1ExEc"
      },
      "source": [
        "## 5.2 Application"
      ]
    },
    {
      "cell_type": "code",
      "metadata": {
        "colab": {
          "base_uri": "https://localhost:8080/"
        },
        "id": "W9u4LoLxIK4z",
        "outputId": "79f3d038-3e33-45dd-92fe-32bdd67d8ac5"
      },
      "source": [
        "def model_gru(T_max):\n",
        "\n",
        "  input_layer = Input(shape=(T_max,1))\n",
        "  srnn1 = GRU(64, return_sequences=True)(input_layer)\n",
        "  srnn2 = GRU(32, return_sequences=True)(srnn1)\n",
        "  srnn3 = GRU(1, activation='sigmoid')(srnn2)\n",
        "  model = Model(input_layer, srnn3)\n",
        "  model.compile(optimizer='sgd',\n",
        "              loss='binary_crossentropy', # si plus de deux classes: loss='categorical_crossentropy'\n",
        "              metrics=['accuracy'])\n",
        "  model.summary()\n",
        "  return model\n",
        "\n",
        "my_model_gru = model_gru(T_max)"
      ],
      "execution_count": 97,
      "outputs": [
        {
          "output_type": "stream",
          "name": "stdout",
          "text": [
            "Model: \"model_4\"\n",
            "_________________________________________________________________\n",
            " Layer (type)                Output Shape              Param #   \n",
            "=================================================================\n",
            " input_5 (InputLayer)        [(None, 80, 1)]           0         \n",
            "                                                                 \n",
            " gru (GRU)                   (None, 80, 64)            12864     \n",
            "                                                                 \n",
            " gru_1 (GRU)                 (None, 80, 32)            9408      \n",
            "                                                                 \n",
            " gru_2 (GRU)                 (None, 1)                 105       \n",
            "                                                                 \n",
            "=================================================================\n",
            "Total params: 22,377\n",
            "Trainable params: 22,377\n",
            "Non-trainable params: 0\n",
            "_________________________________________________________________\n"
          ]
        }
      ]
    },
    {
      "cell_type": "code",
      "metadata": {
        "colab": {
          "base_uri": "https://localhost:8080/"
        },
        "id": "cSrQEZr2Ij4a",
        "outputId": "3d44cb89-2e76-4350-be29-f57a1ebe2694"
      },
      "source": [
        "history_gru = my_model_gru.fit(x=x_train, y=y_train,\n",
        "                    epochs=10, batch_size=32,\n",
        "                    validation_data=(x_valid, y_valid))"
      ],
      "execution_count": 98,
      "outputs": [
        {
          "output_type": "stream",
          "name": "stdout",
          "text": [
            "Epoch 1/10\n",
            "625/625 [==============================] - 48s 72ms/step - loss: 0.6945 - accuracy: 0.5021 - val_loss: 0.6923 - val_accuracy: 0.5194\n",
            "Epoch 2/10\n",
            "625/625 [==============================] - 45s 72ms/step - loss: 0.6933 - accuracy: 0.5083 - val_loss: 0.6935 - val_accuracy: 0.5054\n",
            "Epoch 3/10\n",
            "625/625 [==============================] - 45s 71ms/step - loss: 0.6930 - accuracy: 0.5110 - val_loss: 0.6936 - val_accuracy: 0.5060\n",
            "Epoch 4/10\n",
            "625/625 [==============================] - 45s 73ms/step - loss: 0.6927 - accuracy: 0.5153 - val_loss: 0.6928 - val_accuracy: 0.5092\n",
            "Epoch 5/10\n",
            "625/625 [==============================] - 45s 72ms/step - loss: 0.6931 - accuracy: 0.5094 - val_loss: 0.6926 - val_accuracy: 0.5096\n",
            "Epoch 6/10\n",
            "625/625 [==============================] - 44s 71ms/step - loss: 0.6928 - accuracy: 0.5138 - val_loss: 0.6915 - val_accuracy: 0.5214\n",
            "Epoch 7/10\n",
            "625/625 [==============================] - 45s 72ms/step - loss: 0.6930 - accuracy: 0.5089 - val_loss: 0.6912 - val_accuracy: 0.5286\n",
            "Epoch 8/10\n",
            "625/625 [==============================] - 45s 72ms/step - loss: 0.6925 - accuracy: 0.5133 - val_loss: 0.6919 - val_accuracy: 0.5144\n",
            "Epoch 9/10\n",
            "625/625 [==============================] - 45s 73ms/step - loss: 0.6925 - accuracy: 0.5141 - val_loss: 0.6914 - val_accuracy: 0.5222\n",
            "Epoch 10/10\n",
            "625/625 [==============================] - 45s 72ms/step - loss: 0.6924 - accuracy: 0.5152 - val_loss: 0.6914 - val_accuracy: 0.5122\n"
          ]
        }
      ]
    },
    {
      "cell_type": "code",
      "metadata": {
        "colab": {
          "base_uri": "https://localhost:8080/"
        },
        "id": "cTWwmJ7WuhUb",
        "outputId": "d74b2d14-bd10-44bc-b0e8-aec9ea08136c"
      },
      "source": [
        "def model_gru_better(T_max, n_words, emb_dim):\n",
        "\n",
        "  input_layer = Input(shape=(T_max,))\n",
        "  mask_layer = Masking(mask_value=0.0)(input_layer)\n",
        "  embedding_layer = Embedding(input_dim=n_words,     # taille du vocabulaire\n",
        "                              output_dim=emb_dim,    # taille du vecteur de mots\n",
        "                              input_length=T_max)(mask_layer) # taille d'un texte)(input_layer)\n",
        "  srnn1 = GRU(32, return_sequences=True)(embedding_layer)\n",
        "  srnn2 = GRU(16, return_sequences=True)(srnn1)\n",
        "  flatten_layer = Flatten()(srnn2)\n",
        "  dense1 = Dense(32, activation='relu')(flatten_layer)\n",
        "  dense2 = Dense(1, activation='sigmoid')(dense1)\n",
        "  #srnn3 = GRU(1, activation='sigmoid')(srnn2)\n",
        "  model = Model(input_layer, dense2)\n",
        "  model.compile(optimizer='rmsprop',\n",
        "              loss='binary_crossentropy', # si plus de deux classes: loss='categorical_crossentropy'\n",
        "              metrics=['accuracy'])\n",
        "  model.summary()\n",
        "  return model\n",
        "\n",
        "my_model_gru_better = model_gru_better(T_max, len(dict_words), 128)"
      ],
      "execution_count": 99,
      "outputs": [
        {
          "output_type": "stream",
          "name": "stdout",
          "text": [
            "Model: \"model_5\"\n",
            "_________________________________________________________________\n",
            " Layer (type)                Output Shape              Param #   \n",
            "=================================================================\n",
            " input_6 (InputLayer)        [(None, 80)]              0         \n",
            "                                                                 \n",
            " masking (Masking)           (None, 80)                0         \n",
            "                                                                 \n",
            " embedding (Embedding)       (None, 80, 128)           15024896  \n",
            "                                                                 \n",
            " gru_3 (GRU)                 (None, 80, 32)            15552     \n",
            "                                                                 \n",
            " gru_4 (GRU)                 (None, 80, 16)            2400      \n",
            "                                                                 \n",
            " flatten (Flatten)           (None, 1280)              0         \n",
            "                                                                 \n",
            " dense_6 (Dense)             (None, 32)                40992     \n",
            "                                                                 \n",
            " dense_7 (Dense)             (None, 1)                 33        \n",
            "                                                                 \n",
            "=================================================================\n",
            "Total params: 15,083,873\n",
            "Trainable params: 15,083,873\n",
            "Non-trainable params: 0\n",
            "_________________________________________________________________\n"
          ]
        }
      ]
    },
    {
      "cell_type": "code",
      "metadata": {
        "colab": {
          "base_uri": "https://localhost:8080/"
        },
        "id": "3fHPbLB6vQLR",
        "outputId": "f4ffcfe3-31bb-4df1-9b38-a4659b78df78"
      },
      "source": [
        "history_gru_better = my_model_gru_better.fit(x=x_train, y=y_train,\n",
        "                    epochs=2, batch_size=32,\n",
        "                    validation_data=(x_valid, y_valid))"
      ],
      "execution_count": 100,
      "outputs": [
        {
          "output_type": "stream",
          "name": "stdout",
          "text": [
            "Epoch 1/2\n",
            "625/625 [==============================] - 69s 105ms/step - loss: 0.5983 - accuracy: 0.6683 - val_loss: 0.5587 - val_accuracy: 0.7084\n",
            "Epoch 2/2\n",
            "625/625 [==============================] - 65s 104ms/step - loss: 0.5557 - accuracy: 0.7068 - val_loss: 0.5567 - val_accuracy: 0.7170\n"
          ]
        }
      ]
    },
    {
      "cell_type": "code",
      "metadata": {
        "id": "MFbceItqR1Bn"
      },
      "source": [
        " préprocessing sur les données de test puis produire une représentation vectorielle\n",
        "et une représentation séquentielle."
      ],
      "execution_count": null,
      "outputs": []
    },
    {
      "cell_type": "code",
      "metadata": {
        "colab": {
          "base_uri": "https://localhost:8080/"
        },
        "id": "f4m4Diyg3o-E",
        "outputId": "32229720-5c34-43d1-a4ae-ffc941c7dee8"
      },
      "source": [
        "clean_test_texts = clean_textlines(test_texts)\n",
        "reduced_test_texts = get_frequent_words(dict_words, 250, clean_test_texts)\n",
        "test_vect_rep = vector_count_representation(reduced_test_texts, reduced_index_words)\n",
        "test_seq_rep = sequential_representation(reduced_test_texts, reduced_index_words)\n",
        "test_seq_rep = pad_sequences(test_seq_rep, maxlen=T_max, padding='post', truncating='post')\n"
      ],
      "execution_count": 101,
      "outputs": [
        {
          "output_type": "stream",
          "name": "stdout",
          "text": [
            "[(75189, 'this'), (48007, 'was'), (21486, 'an'), (1481, 'absolutely'), (1585, 'terrible'), (41803, 'movie'), (8471, 'dont'), (26630, 'be'), (28, 'lured'), (93024, 'in')]\n",
            "[(334678, 'the'), (162210, 'and'), (161936, 'a'), (145323, 'of'), (135041, 'to'), (106854, 'is'), (93024, 'in'), (77084, 'it'), (75717, 'i'), (75189, 'this')]\n",
            "MLP\n",
            "782/782 [==============================] - 1s 1ms/step - loss: 0.5598 - accuracy: 0.7277\n",
            "[0.5598019361495972, 0.7276800274848938]\n",
            "RNN vanilla\n",
            "782/782 [==============================] - 10s 13ms/step - loss: 0.6972 - accuracy: 0.5060\n",
            "[0.6972074508666992, 0.5059599876403809]\n",
            "GRU\n",
            "782/782 [==============================] - 17s 22ms/step - loss: 0.6929 - accuracy: 0.5055\n",
            "[0.692889928817749, 0.5055199861526489]\n",
            "GRU OPTIM\n",
            "782/782 [==============================] - 12s 15ms/step - loss: 0.5515 - accuracy: 0.7108\n",
            "[0.5514794588088989, 0.7107999920845032]\n"
          ]
        }
      ]
    },
    {
      "cell_type": "markdown",
      "metadata": {
        "id": "UJ2GTMcvSApi"
      },
      "source": [
        "\n",
        "méthode evaluate, observer la loss et l’accuracy en test pour chacun des modèles\n"
      ]
    },
    {
      "cell_type": "code",
      "metadata": {
        "id": "_WOGpq-QR_ne"
      },
      "source": [
        "\n",
        "print(\"MLP\")\n",
        "print(my_model_mlp.evaluate(test_vect_rep, y_test))\n",
        "print(\"RNN vanilla\")\n",
        "print(my_model_rnn.evaluate(test_seq_rep, y_test))\n",
        "print(\"GRU\")\n",
        "print(my_model_gru.evaluate(test_seq_rep, y_test))\n",
        "print(\"GRU OPTIM\")\n",
        "print(my_model_gru_better.evaluate(test_seq_rep, y_test))"
      ],
      "execution_count": null,
      "outputs": []
    }
  ]
}