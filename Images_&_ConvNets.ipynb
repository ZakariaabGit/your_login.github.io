{
  "nbformat": 4,
  "nbformat_minor": 0,
  "metadata": {
    "colab": {
      "name": "Images_&_ConvNets_corr.ipynb",
      "provenance": [],
      "collapsed_sections": [],
      "include_colab_link": true
    },
    "kernelspec": {
      "name": "python3",
      "display_name": "Python 3"
    },
    "accelerator": "GPU",
    "deepnote_notebook_id": "6c21e671-9c1c-4613-ba1b-4114b61d2f49",
    "deepnote_execution_queue": [
      {
        "cellId": "00018-b4915786-92b2-4797-9fcc-0d6b70f7281d",
        "sessionId": "f6fe9633-79f6-464d-8a1b-9143f47cb30d",
        "msgId": "bb53d7e4-4858-4e09-946b-d9776ead7327"
      }
    ],
    "deepnote": {}
  },
  "cells": [
    {
      "cell_type": "markdown",
      "metadata": {
        "id": "view-in-github",
        "colab_type": "text"
      },
      "source": [
        "<a href=\"https://colab.research.google.com/github/ZakariaabGit/zakariaabGit.github.io/blob/main/Images_%26_ConvNets.ipynb\" target=\"_parent\"><img src=\"https://colab.research.google.com/assets/colab-badge.svg\" alt=\"Open In Colab\"/></a>"
      ]
    },
    {
      "cell_type": "markdown",
      "metadata": {
        "id": "MTDStjAJrLT-",
        "cell_id": "00000-6719f36c-8f54-4875-8179-904bc0ef3862",
        "deepnote_cell_type": "markdown"
      },
      "source": [
        "# Images and convolutional networks\n",
        "\n",
        "In this notebook, we'll cover the use of convolutional neural networks for image classification. \n",
        "Since these networks widely benefit from computations on GPU (which Deepnote does not offer at the time), \n",
        "you could use Google Colab and [activate GPU](https://colab.research.google.com/notebooks/gpu.ipynb) if you want \n",
        "to experience smaller training times.\n",
        "\n",
        "## LeNet and variants (shallow CNNs)\n",
        "\n",
        "You will first experiments with rather shallow networks to get used to typical layers used in CNNs.\n",
        "\n",
        "\n",
        "** 1.** Import the MNIST dataset and make sure it has the correct shape to feed a CNN (i.e. the dataset should \n",
        "have dimensions $(n, w, h, c)$ where $n$ is the number of images in the set, $w$ and $h$ are the width and height of an \n",
        "image and $c$ its number of channels: 1 for black & white images and 3 for RGB ones)."
      ]
    },
    {
      "cell_type": "code",
      "metadata": {
        "id": "eZHk0xOhqUH6",
        "colab": {
          "base_uri": "https://localhost:8080/"
        },
        "output_cleared": false,
        "source_hash": "1829f1d2",
        "execution_millis": 4037,
        "execution_start": 1638794858875,
        "cell_id": "00001-ba928626-c0a4-4f00-a078-8c99254473c3",
        "deepnote_to_be_reexecuted": false,
        "deepnote_cell_type": "code",
        "outputId": "287c32bc-435d-46a0-90bc-8dac8da74866"
      },
      "source": [
        "from tensorflow.keras.datasets import mnist\n",
        "from tensorflow.keras.utils import to_categorical\n",
        "\n",
        "def prepare_mnist():\n",
        "    (x_train, y_train), (x_test, y_test) = mnist.load_data()\n",
        "    x_train = x_train / 255.\n",
        "    x_test = x_test / 255.\n",
        "    x_train = x_train.reshape((-1, 28, 28, 1))\n",
        "    x_test = x_test.reshape((-1, 28, 28, 1))\n",
        "    \n",
        "    y_train = to_categorical(y_train)\n",
        "    y_test = to_categorical(y_test)\n",
        "    return x_train, x_test, y_train, y_test\n",
        "\n",
        "x_train, x_test, y_train, y_test = prepare_mnist()\n",
        "print(x_train.shape)"
      ],
      "execution_count": 1,
      "outputs": [
        {
          "output_type": "stream",
          "name": "stdout",
          "text": [
            "Downloading data from https://storage.googleapis.com/tensorflow/tf-keras-datasets/mnist.npz\n",
            "11493376/11490434 [==============================] - 0s 0us/step\n",
            "11501568/11490434 [==============================] - 0s 0us/step\n",
            "(60000, 28, 28, 1)\n"
          ]
        }
      ]
    },
    {
      "cell_type": "markdown",
      "metadata": {
        "id": "kYSVWWgLryss",
        "cell_id": "00002-dc6d5a86-49f6-48ac-be94-4e54c3d48c22",
        "deepnote_cell_type": "markdown"
      },
      "source": [
        "To define a CNN, you will need (at least) the following layers:\n",
        "* [`Conv2D`](https://www.tensorflow.org/api_docs/python/tf/keras/layers/Conv2D)\n",
        "* [`MaxPool2D`](https://www.tensorflow.org/api_docs/python/tf/keras/layers/MaxPool2D)\n",
        "* [`Flatten`](https://www.tensorflow.org/api_docs/python/tf/keras/layers/Flatten)\n",
        "\n",
        "** 2.** Implement a CNN with a single convolutional layer followed by a max-pooling and a fully-connected layer. Show the number of parameters of these networks and evaluate its performance on MNIST data."
      ]
    },
    {
      "cell_type": "code",
      "metadata": {
        "id": "ug40MwR-uD0X",
        "colab": {
          "base_uri": "https://localhost:8080/"
        },
        "output_cleared": false,
        "source_hash": "a8146102",
        "execution_millis": 26200,
        "execution_start": 1638794862914,
        "cell_id": "00003-65830ddb-75f2-448c-8f97-e2158a0ed029",
        "deepnote_to_be_reexecuted": false,
        "deepnote_output_heights": [
          null,
          21.199996948242188
        ],
        "deepnote_cell_type": "code",
        "outputId": "79640dbe-e24f-45fa-a304-f0d822b73a62"
      },
      "source": [
        "from tensorflow.keras.models import Sequential\n",
        "from tensorflow.keras.layers import InputLayer, Conv2D, MaxPool2D, Flatten, Dense\n",
        "\n",
        "model = Sequential([\n",
        "    InputLayer(input_shape=(28,28,1)),\n",
        "    Conv2D(filters=10, kernel_size=5, activation=\"relu\"),\n",
        "    MaxPool2D(pool_size=2),\n",
        "    Flatten(),\n",
        "    Dense(units=10, activation=\"softmax\")\n",
        "])\n",
        "\n",
        "model.compile(loss=\"categorical_crossentropy\", optimizer=\"adam\", metrics=[\"accuracy\"])\n",
        "model.fit(x_train, y_train, validation_split=0.3, batch_size=200)"
      ],
      "execution_count": 4,
      "outputs": [
        {
          "output_type": "stream",
          "name": "stdout",
          "text": [
            "210/210 [==============================] - 15s 9ms/step - loss: 0.5954 - accuracy: 0.8361 - val_loss: 0.2987 - val_accuracy: 0.9142\n"
          ]
        },
        {
          "output_type": "execute_result",
          "data": {
            "text/plain": [
              "<keras.callbacks.History at 0x7ff0a00aec50>"
            ]
          },
          "metadata": {},
          "execution_count": 4
        }
      ]
    },
    {
      "cell_type": "code",
      "metadata": {
        "tags": [],
        "cell_id": "00004-9694564f-3b9f-45f6-9922-b58071ea2622",
        "deepnote_to_be_reexecuted": false,
        "source_hash": "4e6a3b95",
        "execution_start": 1638794889120,
        "execution_millis": 23,
        "deepnote_cell_type": "code",
        "colab": {
          "base_uri": "https://localhost:8080/"
        },
        "id": "ZJmsmwaA5UKo",
        "outputId": "afe8cb6f-9ef3-40f1-8f46-90a904f8097e"
      },
      "source": [
        "model.summary()"
      ],
      "execution_count": 5,
      "outputs": [
        {
          "output_type": "stream",
          "name": "stdout",
          "text": [
            "Model: \"sequential\"\n",
            "_________________________________________________________________\n",
            " Layer (type)                Output Shape              Param #   \n",
            "=================================================================\n",
            " conv2d (Conv2D)             (None, 24, 24, 10)        260       \n",
            "                                                                 \n",
            " max_pooling2d (MaxPooling2D  (None, 12, 12, 10)       0         \n",
            " )                                                               \n",
            "                                                                 \n",
            " flatten (Flatten)           (None, 1440)              0         \n",
            "                                                                 \n",
            " dense (Dense)               (None, 10)                14410     \n",
            "                                                                 \n",
            "=================================================================\n",
            "Total params: 14,670\n",
            "Trainable params: 14,670\n",
            "Non-trainable params: 0\n",
            "_________________________________________________________________\n"
          ]
        }
      ]
    },
    {
      "cell_type": "markdown",
      "metadata": {
        "id": "uJkImztXuEmX",
        "cell_id": "00004-b0a10b4d-1697-4cb9-9680-7c680693a6dc",
        "deepnote_cell_type": "markdown"
      },
      "source": [
        "** 3.** Implement the following network (leNet), in which you just change the input image size (but keep the same \n",
        "hyper-parameters for convolution, pooling and dense layers):\n",
        "\n",
        "![leNet model](https://rtavenar.github.io/assets/images/lenet.png)\n",
        "\n",
        "Compare its performance to that of a fully connected model with the same number of parameters."
      ]
    },
    {
      "cell_type": "code",
      "metadata": {
        "id": "MHaX-IatxEIM",
        "output_cleared": false,
        "source_hash": "a4838fe1",
        "execution_millis": 314743,
        "execution_start": 1638794889167,
        "cell_id": "00005-70c58cc9-bf3b-44f7-be65-38f28e89856f",
        "deepnote_to_be_reexecuted": false,
        "deepnote_output_heights": [
          null,
          21.199996948242188
        ],
        "deepnote_cell_type": "code",
        "colab": {
          "base_uri": "https://localhost:8080/"
        },
        "outputId": "66523c83-8596-4ec1-b397-110c22bea00a"
      },
      "source": [
        "model = Sequential([\n",
        "    InputLayer(input_shape=(28,28,1)),\n",
        "    Conv2D(filters=6, kernel_size=5, activation=\"relu\"),\n",
        "    MaxPool2D(pool_size=2),\n",
        "    Conv2D(filters=16, kernel_size=5, activation=\"relu\"),\n",
        "    MaxPool2D(pool_size=2),\n",
        "    Flatten(),\n",
        "    Dense(units=120, activation=\"relu\"),\n",
        "    Dense(units=84, activation=\"relu\"),\n",
        "    Dense(units=10, activation=\"softmax\")\n",
        "])\n",
        "\n",
        "model.compile(loss=\"categorical_crossentropy\", optimizer=\"adam\", metrics=[\"accuracy\"])\n",
        "model.fit(x_train, y_train, validation_split=0.3, batch_size=200, epochs=10)"
      ],
      "execution_count": 6,
      "outputs": [
        {
          "output_type": "stream",
          "name": "stdout",
          "text": [
            "Epoch 1/10\n",
            "210/210 [==============================] - 3s 9ms/step - loss: 0.4996 - accuracy: 0.8571 - val_loss: 0.2068 - val_accuracy: 0.9354\n",
            "Epoch 2/10\n",
            "210/210 [==============================] - 2s 8ms/step - loss: 0.1383 - accuracy: 0.9577 - val_loss: 0.1129 - val_accuracy: 0.9653\n",
            "Epoch 3/10\n",
            "210/210 [==============================] - 2s 8ms/step - loss: 0.0925 - accuracy: 0.9714 - val_loss: 0.0941 - val_accuracy: 0.9719\n",
            "Epoch 4/10\n",
            "210/210 [==============================] - 2s 8ms/step - loss: 0.0759 - accuracy: 0.9766 - val_loss: 0.0841 - val_accuracy: 0.9742\n",
            "Epoch 5/10\n",
            "210/210 [==============================] - 2s 8ms/step - loss: 0.0632 - accuracy: 0.9804 - val_loss: 0.0786 - val_accuracy: 0.9762\n",
            "Epoch 6/10\n",
            "210/210 [==============================] - 2s 8ms/step - loss: 0.0545 - accuracy: 0.9831 - val_loss: 0.0750 - val_accuracy: 0.9782\n",
            "Epoch 7/10\n",
            "210/210 [==============================] - 2s 8ms/step - loss: 0.0468 - accuracy: 0.9856 - val_loss: 0.0634 - val_accuracy: 0.9813\n",
            "Epoch 8/10\n",
            "210/210 [==============================] - 2s 8ms/step - loss: 0.0412 - accuracy: 0.9875 - val_loss: 0.0665 - val_accuracy: 0.9793\n",
            "Epoch 9/10\n",
            "210/210 [==============================] - 2s 8ms/step - loss: 0.0364 - accuracy: 0.9883 - val_loss: 0.0599 - val_accuracy: 0.9824\n",
            "Epoch 10/10\n",
            "210/210 [==============================] - 2s 8ms/step - loss: 0.0338 - accuracy: 0.9893 - val_loss: 0.0641 - val_accuracy: 0.9814\n"
          ]
        },
        {
          "output_type": "execute_result",
          "data": {
            "text/plain": [
              "<keras.callbacks.History at 0x7fefc279d450>"
            ]
          },
          "metadata": {},
          "execution_count": 6
        }
      ]
    },
    {
      "cell_type": "markdown",
      "metadata": {
        "id": "XY4xF7XySH0B",
        "cell_id": "00006-a864ac32-eb30-4eeb-a734-6f1b9516e114",
        "deepnote_cell_type": "markdown"
      },
      "source": [
        "## Image classification with ResNet models\n",
        "\n",
        "A very efficient way to perform real-world image classification is to rely on a pretrained model.\n",
        "`keras` provides models trained on ImageNet.\n",
        "In this section, you will use `ResNet50` to classify images you will provide.\n",
        "\n",
        "** 4.** Adapt the following code (that comes from [`keras` docs](https://keras.io/applications/#usage-examples-for-image-classification-models)) to classify a kangaroo image that you will first upload in the notebook files."
      ]
    },
    {
      "cell_type": "code",
      "metadata": {
        "id": "Fg5IjBicThZK",
        "output_cleared": false,
        "source_hash": "16188c8d",
        "execution_millis": 5340,
        "execution_start": 1638795217092,
        "cell_id": "00007-7ed7af54-885a-4bff-89dd-32067224f518",
        "deepnote_to_be_reexecuted": false,
        "deepnote_cell_type": "code",
        "colab": {
          "base_uri": "https://localhost:8080/"
        },
        "outputId": "995a0f99-3466-4167-ac38-91e02c3612f2"
      },
      "source": [
        "from tensorflow.keras.applications.resnet50 import ResNet50\n",
        "from tensorflow.keras.preprocessing import image\n",
        "from tensorflow.keras.applications.resnet50 import preprocess_input, decode_predictions\n",
        "import numpy as np\n",
        "\n",
        "model = ResNet50(weights='imagenet')\n",
        "\n",
        "img_path = 'kangaroo.jpeg'\n",
        "img = image.load_img(img_path, target_size=(224, 224))\n",
        "x = image.img_to_array(img)\n",
        "x = np.expand_dims(x, axis=0)\n",
        "x = preprocess_input(x)\n",
        "\n",
        "preds = model.predict(x)\n",
        "# decode the results into a list of tuples (class, description, probability)\n",
        "# (one such list for each sample in the batch)\n",
        "print('Predicted:', decode_predictions(preds, top=3)[0])"
      ],
      "execution_count": 9,
      "outputs": [
        {
          "output_type": "stream",
          "name": "stdout",
          "text": [
            "Downloading data from https://storage.googleapis.com/download.tensorflow.org/data/imagenet_class_index.json\n",
            "40960/35363 [==================================] - 0s 0us/step\n",
            "49152/35363 [=========================================] - 0s 0us/step\n",
            "Predicted: [('n01877812', 'wallaby', 0.7151905), ('n02125311', 'cougar', 0.120242074), ('n02326432', 'hare', 0.04376329)]\n"
          ]
        }
      ]
    },
    {
      "cell_type": "code",
      "metadata": {
        "tags": [],
        "cell_id": "00009-22c2af09-fe39-4550-9d4b-bffb5d6b5e27",
        "deepnote_to_be_reexecuted": false,
        "source_hash": "b025efaf",
        "execution_start": 1638795233185,
        "execution_millis": 0,
        "deepnote_cell_type": "code",
        "colab": {
          "base_uri": "https://localhost:8080/"
        },
        "id": "p4RcbyFk5UKq",
        "outputId": "638c4405-15f0-4666-9e2d-6de9772ac002"
      },
      "source": [
        "print(x[0].shape)"
      ],
      "execution_count": 10,
      "outputs": [
        {
          "output_type": "stream",
          "name": "stdout",
          "text": [
            "(224, 224, 3)\n"
          ]
        }
      ]
    },
    {
      "cell_type": "code",
      "metadata": {
        "id": "VSgVfsSIvhWN",
        "output_cleared": false,
        "source_hash": "b37cdc5",
        "execution_millis": 2121,
        "execution_start": 1638795243386,
        "cell_id": "00008-121fb7f5-d5c3-43f1-814d-1cd2ca0d47fe",
        "deepnote_to_be_reexecuted": false,
        "deepnote_output_heights": [
          null,
          21.199996948242188,
          254
        ],
        "deepnote_cell_type": "code",
        "colab": {
          "base_uri": "https://localhost:8080/",
          "height": 323
        },
        "outputId": "c060b62e-f26c-4af8-ae9e-d0e518daad46"
      },
      "source": [
        "import matplotlib.pyplot as plt\n",
        "plt.imshow(x[0] / 255.)"
      ],
      "execution_count": 11,
      "outputs": [
        {
          "output_type": "stream",
          "name": "stderr",
          "text": [
            "Clipping input data to the valid range for imshow with RGB data ([0..1] for floats or [0..255] for integers).\n"
          ]
        },
        {
          "output_type": "execute_result",
          "data": {
            "text/plain": [
              "<matplotlib.image.AxesImage at 0x7ff0368fe490>"
            ]
          },
          "metadata": {},
          "execution_count": 11
        },
        {
          "output_type": "display_data",
          "data": {
            "image/png": "[encoded data removed]",
            "text/plain": [
              "<Figure size 432x288 with 1 Axes>"
            ]
          },
          "metadata": {
            "needs_background": "light"
          }
        }
      ]
    },
    {
      "cell_type": "markdown",
      "metadata": {
        "id": "0YRJ6isnVBpl",
        "cell_id": "00009-6497f6c1-8f43-4286-a678-ae43b0565850",
        "deepnote_cell_type": "markdown"
      },
      "source": [
        "## Fine-tuning a model to your data\n",
        "\n",
        "Very often, however, your image classification problem will not match ImageNet classes.\n",
        "In such cases, a typical strategy consists in fine-tuning an existing model to your problem.\n",
        "This is done by learning only the fully connected layers at the ouput of the model and keep other layers freezed.\n",
        "\n",
        "When loading weights from a pretrained model, `keras` offers an option to remove the classification layers and freeze weights of the convolutional layers:\n",
        "\n",
        "```python\n",
        "base_model = ResNet50(weights='imagenet', include_top=False, input_shape=x_train.shape[1:])\n",
        "for layer in base_model.layers:\n",
        "  layer.trainable = False\n",
        "```\n",
        "\n",
        "Note that here, we provide the image shape when re-building the `ResNet50` model so that, if that shape is not the one of ImageNet images, `keras` will still be able to compute all tensor shapes in the network automatically.\n",
        "\n",
        "From that point, `base_model` can be used in a `Sequential` model as if it were a single layer, which makes it feasible to plug new layers at the output of the `ResNet50` convolutions.\n",
        "\n",
        "### The dataset\n",
        "\n",
        "In this notebook, you will work with a new dataset that cannot be loaded via `keras.datasets` module.\n",
        "The images are stored in the folder `./cats_and_dogs/`.\n",
        "If necessary, you could [download the data](https://drive.google.com/drive/folders/1_hs6-moToZkCgiub7eXyJmAm7zVT2tNo?usp=sharing) and upload it in your working folder.\n",
        "\n",
        "Check that you can access the data by running:"
      ]
    },
    {
      "cell_type": "code",
      "metadata": {
        "id": "GRZA2Ctp5-Tx"
      },
      "source": [
        "i"
      ],
      "execution_count": null,
      "outputs": []
    },
    {
      "cell_type": "code",
      "metadata": {
        "id": "B27defToX455",
        "cell_id": "00010-6005aee7-fb8e-4a59-9aa1-70cfa6a14d15",
        "deepnote_to_be_reexecuted": false,
        "source_hash": "589eccbe",
        "execution_start": 1638795643743,
        "execution_millis": 360,
        "deepnote_cell_type": "code"
      },
      "source": [
        "!ls './cats_and_dogs/'\n",
        "!unzip cats_and_dogs.zip\n"
      ],
      "execution_count": null,
      "outputs": []
    },
    {
      "cell_type": "code",
      "metadata": {
        "colab": {
          "base_uri": "https://localhost:8080/"
        },
        "id": "Q0M4NJzD7WUI",
        "outputId": "ac31be3d-234c-4cd7-bd41-0009314255c2"
      },
      "source": [
        "!ls './cats_and_dogs/'"
      ],
      "execution_count": 19,
      "outputs": [
        {
          "output_type": "stream",
          "name": "stdout",
          "text": [
            "ls: cannot access './cats_and_dogs/': No such file or directory\n"
          ]
        }
      ]
    },
    {
      "cell_type": "markdown",
      "metadata": {
        "id": "Nyuc8ODN7WHL"
      },
      "source": [
        ""
      ]
    },
    {
      "cell_type": "markdown",
      "metadata": {
        "id": "YU6dp42ILrFy",
        "cell_id": "00011-99fa7013-14bd-4eff-9894-f6c249a840ad",
        "deepnote_cell_type": "markdown"
      },
      "source": [
        "The last line of the output above should be:\n",
        "```\n",
        "test_catdog  train_catdog\n",
        "```\n",
        "\n",
        "Then the data should be loaded using the following functions:"
      ]
    },
    {
      "cell_type": "code",
      "metadata": {
        "id": "H90B7fAss1te",
        "output_cleared": false,
        "source_hash": "189935f0",
        "execution_start": 1638795670888,
        "execution_millis": 7494,
        "cell_id": "00012-e85e913c-f356-4de2-a531-76beafb028bd",
        "deepnote_to_be_reexecuted": false,
        "deepnote_cell_type": "code",
        "colab": {
          "base_uri": "https://localhost:8080/"
        },
        "outputId": "c3ef3365-87d1-4591-da8f-8a33fb9ac847"
      },
      "source": [
        "import os\n",
        "\n",
        "def load_cats_and_dogs_folder(path, target_size=None, verbose=True):\n",
        "    X = []\n",
        "    y = []\n",
        "    i = 0\n",
        "    for fname in os.listdir(path):\n",
        "        if 'cat' in fname:\n",
        "            X.append(\n",
        "                np.array(image.load_img(path+fname, target_size=target_size))\n",
        "            )\n",
        "            y.append(0)\n",
        "        elif 'dog' in fname:\n",
        "            X.append(\n",
        "                np.array(image.load_img(path+fname, target_size=target_size))\n",
        "            )\n",
        "            y.append(1)\n",
        "        i+=1\n",
        "        if verbose and i % 50 == 0:\n",
        "            print('{0:.2f} % loaded'.format(100*(i/len(os.listdir(path)))))\n",
        "    return np.array(X), np.array(y)\n",
        "\n",
        "def load_preprocessed_cats_and_dogs(base_folder, target_size=None, \n",
        "                                    verbose=True):\n",
        "    if verbose:\n",
        "        print(\"Loading training set\")\n",
        "    X_train, y_train = load_cats_and_dogs_folder(base_folder + \"/train_catdog/\", \n",
        "                                                 target_size=target_size,\n",
        "                                                 verbose=verbose)\n",
        "    X_train = preprocess_input(X_train)\n",
        "\n",
        "    if verbose:\n",
        "        print(\"Loading test set\")\n",
        "    X_test, y_test = load_cats_and_dogs_folder(base_folder + \"/test_catdog/\", \n",
        "                                               target_size=target_size,\n",
        "                                               verbose=verbose)\n",
        "    X_test = preprocess_input(X_test)\n",
        "\n",
        "    return X_train, X_test, y_train, y_test\n",
        "\n",
        "# The call is here:\n",
        "X_train, X_test, y_train, y_test = load_preprocessed_cats_and_dogs(\n",
        "    '/content/sample_data', target_size=(200, 200)\n",
        ")\n",
        "\n",
        "print(X_train.shape, y_train.shape, X_test.shape, y_test.shape) "
      ],
      "execution_count": 21,
      "outputs": [
        {
          "output_type": "stream",
          "name": "stdout",
          "text": [
            "Loading training set\n",
            "9.96 % loaded\n",
            "19.92 % loaded\n",
            "29.88 % loaded\n",
            "39.84 % loaded\n",
            "49.80 % loaded\n",
            "59.76 % loaded\n",
            "69.72 % loaded\n",
            "79.68 % loaded\n",
            "89.64 % loaded\n",
            "99.60 % loaded\n",
            "Loading test set\n",
            "10.00 % loaded\n",
            "20.00 % loaded\n",
            "30.00 % loaded\n",
            "40.00 % loaded\n",
            "50.00 % loaded\n",
            "60.00 % loaded\n",
            "70.00 % loaded\n",
            "80.00 % loaded\n",
            "90.00 % loaded\n",
            "100.00 % loaded\n",
            "(502, 200, 200, 3) (502,) (500, 200, 200, 3) (500,)\n"
          ]
        }
      ]
    },
    {
      "cell_type": "code",
      "metadata": {
        "tags": [],
        "cell_id": "00015-9951c626-8cd0-4c97-a32c-7b503a2d813a",
        "deepnote_to_be_reexecuted": false,
        "source_hash": "afd03c61",
        "execution_start": 1638795993036,
        "execution_millis": 23,
        "deepnote_cell_type": "code",
        "colab": {
          "base_uri": "https://localhost:8080/"
        },
        "id": "-6sJjovM5UKs",
        "outputId": "728401b1-c103-4714-ac9a-abb04a983688"
      },
      "source": [
        "print(y_train[:20])"
      ],
      "execution_count": 22,
      "outputs": [
        {
          "output_type": "stream",
          "name": "stdout",
          "text": [
            "[0 1 0 1 0 1 0 0 1 0 1 1 0 0 1 1 1 1 1 1]\n"
          ]
        }
      ]
    },
    {
      "cell_type": "markdown",
      "metadata": {
        "id": "MYkREM4wamJ2",
        "cell_id": "00013-3c5710f4-242d-4b2c-9db9-fbbd319095d1",
        "deepnote_cell_type": "markdown"
      },
      "source": [
        "### The model\n",
        "\n",
        "** 5.** Now you will:\n",
        "\n",
        "1. use convolution layers from a pre-trained `ResNet50` model and freeze them;\n",
        "2. plug an additional logistic regression layer;\n",
        "3. compile the full model;\n",
        "4. observe the performance of such a model on your Cat vs Dog problem."
      ]
    },
    {
      "cell_type": "code",
      "metadata": {
        "tags": [],
        "cell_id": "00014-8901b254-8e8f-43c8-abce-8dd53460edc5",
        "deepnote_to_be_reexecuted": false,
        "source_hash": "632791d7",
        "execution_start": 1638796166644,
        "execution_millis": 5067,
        "deepnote_cell_type": "code",
        "colab": {
          "base_uri": "https://localhost:8080/"
        },
        "id": "zAbad4wA5UKt",
        "outputId": "e3e35f59-3bb0-4772-9e0e-5b0bc65b7892"
      },
      "source": [
        "base_model = ResNet50(weights='imagenet', include_top=False, input_shape=X_train.shape[1:])\n",
        "for layer in base_model.layers:\n",
        "  layer.trainable = False\n",
        "\n",
        "full_model = Sequential([\n",
        "    base_model,\n",
        "    Flatten(),\n",
        "    Dense(units=1, activation=\"sigmoid\")\n",
        "])\n",
        "full_model.summary()"
      ],
      "execution_count": 23,
      "outputs": [
        {
          "output_type": "stream",
          "name": "stdout",
          "text": [
            "Downloading data from https://storage.googleapis.com/tensorflow/keras-applications/resnet/resnet50_weights_tf_dim_ordering_tf_kernels_notop.h5\n",
            "94773248/94765736 [==============================] - 1s 0us/step\n",
            "94781440/94765736 [==============================] - 1s 0us/step\n",
            "Model: \"sequential_2\"\n",
            "_________________________________________________________________\n",
            " Layer (type)                Output Shape              Param #   \n",
            "=================================================================\n",
            " resnet50 (Functional)       (None, 7, 7, 2048)        23587712  \n",
            "                                                                 \n",
            " flatten_2 (Flatten)         (None, 100352)            0         \n",
            "                                                                 \n",
            " dense_4 (Dense)             (None, 1)                 100353    \n",
            "                                                                 \n",
            "=================================================================\n",
            "Total params: 23,688,065\n",
            "Trainable params: 100,353\n",
            "Non-trainable params: 23,587,712\n",
            "_________________________________________________________________\n"
          ]
        }
      ]
    },
    {
      "cell_type": "code",
      "metadata": {
        "tags": [],
        "cell_id": "00018-b4915786-92b2-4797-9fcc-0d6b70f7281d",
        "deepnote_to_be_reexecuted": false,
        "source_hash": "5b8b72c9",
        "execution_start": 1638796235188,
        "deepnote_cell_type": "code",
        "colab": {
          "base_uri": "https://localhost:8080/"
        },
        "id": "c4ZFddGv5UKt",
        "outputId": "1d8fda5f-9944-455d-fd35-cbc6f14d5c3c"
      },
      "source": [
        "% time\n",
        "full_model.compile(loss=\"binary_crossentropy\", optimizer=\"adam\", metrics=[\"accuracy\"])\n",
        "% time \n",
        "full_model.fit(X_train, y_train, validation_data=(X_test, y_test), \n",
        "               epochs=5, batch_size=50)"
      ],
      "execution_count": 28,
      "outputs": [
        {
          "output_type": "stream",
          "name": "stdout",
          "text": [
            "CPU times: user 5 µs, sys: 1 µs, total: 6 µs\n",
            "Wall time: 11 µs\n",
            "CPU times: user 3 µs, sys: 0 ns, total: 3 µs\n",
            "Wall time: 6.44 µs\n",
            "Epoch 1/5\n",
            "11/11 [==============================] - 21s 1s/step - loss: 2.1046 - accuracy: 0.8546 - val_loss: 30806646.0000 - val_accuracy: 0.5000\n",
            "Epoch 2/5\n",
            "11/11 [==============================] - 15s 1s/step - loss: 2.3365 - accuracy: 0.7709 - val_loss: 158478832.0000 - val_accuracy: 0.4980\n",
            "Epoch 3/5\n",
            "11/11 [==============================] - 15s 1s/step - loss: 3.6147 - accuracy: 0.7470 - val_loss: 14861665.0000 - val_accuracy: 0.5000\n",
            "Epoch 4/5\n",
            "11/11 [==============================] - 13s 1s/step - loss: 3.6107 - accuracy: 0.8028 - val_loss: 63688500.0000 - val_accuracy: 0.5000\n",
            "Epoch 5/5\n",
            "11/11 [==============================] - 15s 1s/step - loss: 2.0564 - accuracy: 0.7749 - val_loss: 159332400.0000 - val_accuracy: 0.5000\n"
          ]
        },
        {
          "output_type": "execute_result",
          "data": {
            "text/plain": [
              "<keras.callbacks.History at 0x7fefbb95f150>"
            ]
          },
          "metadata": {},
          "execution_count": 28
        }
      ]
    },
    {
      "cell_type": "markdown",
      "metadata": {
        "tags": [],
        "cell_id": "00015-68152005-7e79-4b29-b43e-f5f48a509e4e",
        "deepnote_cell_type": "markdown",
        "id": "8fdaoxwq5UKt"
      },
      "source": [
        "** 6.** Starting from the model you got at the previous stage, fine-tune _all_ the weights in this model\n",
        "(even the convolution ones) using a learning rate of .00001 (1e-5). See if this improves on performance."
      ]
    },
    {
      "cell_type": "code",
      "metadata": {
        "tags": [],
        "cell_id": "00020-f714b7e0-dd11-4279-a0bb-14ed18a81c46",
        "deepnote_cell_type": "code",
        "colab": {
          "base_uri": "https://localhost:8080/"
        },
        "id": "qioMucnj5UKt",
        "outputId": "af2b57d5-050c-4b88-f2e0-a8d4d96e7493"
      },
      "source": [
        "from tensorflow.keras.optimizers import Adam\n",
        "\n",
        "for layer in base_model.layers:\n",
        "  layer.trainable = True\n",
        "\n",
        "full_model.compile(loss=\"binary_crossentropy\", \n",
        "                   optimizer=Adam(lr=1e-5), metrics=[\"accuracy\"])\n",
        "full_model.fit(X_train, y_train, validation_data=(X_test, y_test), \n",
        "               epochs=5, batch_size=50)"
      ],
      "execution_count": null,
      "outputs": [
        {
          "output_type": "stream",
          "name": "stderr",
          "text": [
            "/usr/local/lib/python3.7/dist-packages/keras/optimizer_v2/adam.py:105: UserWarning: The `lr` argument is deprecated, use `learning_rate` instead.\n",
            "  super(Adam, self).__init__(name, **kwargs)\n"
          ]
        },
        {
          "output_type": "stream",
          "name": "stdout",
          "text": [
            "Epoch 1/5\n",
            "11/11 [==============================] - 21s 1s/step - loss: 1.2411 - accuracy: 0.8347 - val_loss: 6936008.0000 - val_accuracy: 0.5000\n",
            "Epoch 2/5\n",
            "11/11 [==============================] - 13s 1s/step - loss: 0.3996 - accuracy: 0.8645 - val_loss: 706664.6250 - val_accuracy: 0.5000\n",
            "Epoch 3/5\n",
            "11/11 [==============================] - 15s 1s/step - loss: 0.6574 - accuracy: 0.8645 - val_loss: 125588.2578 - val_accuracy: 0.5000\n",
            "Epoch 4/5\n",
            "11/11 [==============================] - 15s 1s/step - loss: 0.3765 - accuracy: 0.8745 - val_loss: 27556.1504 - val_accuracy: 0.5000\n",
            "Epoch 5/5\n",
            " 1/11 [=>............................] - ETA: 9s - loss: 0.3557 - accuracy: 0.8600"
          ]
        }
      ]
    },
    {
      "cell_type": "markdown",
      "metadata": {
        "tags": [],
        "created_in_deepnote_cell": true,
        "deepnote_cell_type": "markdown",
        "id": "2UFuPRHF5UKu"
      },
      "source": [
        "<a style='text-decoration:none;line-height:16px;display:flex;color:#5B5B62;padding:10px;justify-content:end;' href='https://deepnote.com?utm_source=created-in-deepnote-cell&projectId=de648b12-30d1-4278-ad83-8761337c2497' target=\"_blank\">\n",
        "<img alt='Created in deepnote.com' style='display:inline;max-height:16px;margin:0px;margin-right:7.5px;' src='data:image/svg+xml;base64,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' > </img>\n",
        "Created in <span style='font-weight:600;margin-left:4px;'>Deepnote</span></a>"
      ]
    }
  ]
}
